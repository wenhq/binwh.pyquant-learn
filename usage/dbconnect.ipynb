{
 "cells": [
  {
   "cell_type": "code",
   "execution_count": 1,
   "id": "2c54a725",
   "metadata": {},
   "outputs": [],
   "source": [
    "import sys\n",
    "sys.path.append('../')  # 如果notebook在子文件夹中\n",
    "\n",
    "from util.logger import get_logger, setup_notebook_logging, log_function_call"
   ]
  },
  {
   "cell_type": "code",
   "execution_count": 2,
   "id": "257dad5f",
   "metadata": {},
   "outputs": [],
   "source": [
    "from database.connection import MySQLConnectionManager"
   ]
  },
  {
   "cell_type": "code",
   "execution_count": 3,
   "id": "738335c1",
   "metadata": {},
   "outputs": [],
   "source": [
    "from modules.security.dao import SecuTable"
   ]
  },
  {
   "cell_type": "code",
   "execution_count": null,
   "id": "bb2c0b05",
   "metadata": {},
   "outputs": [
    {
     "data": {
      "text/plain": [
       "True"
      ]
     },
     "execution_count": 4,
     "metadata": {},
     "output_type": "execute_result"
    }
   ],
   "source": [
    "# 创建数据库连接管理器\n",
    "db_manager = MySQLConnectionManager(\n",
    "    host='localhost',\n",
    "    port=3306,\n",
    "    user='root',\n",
    "    password='your_password',\n",
    "    database='your_database'\n",
    ")\n",
    "\n",
    "# 测试连接\n",
    "db_manager.test_connection()"
   ]
  },
  {
   "cell_type": "code",
   "execution_count": 5,
   "id": "766168fe",
   "metadata": {},
   "outputs": [],
   "source": [
    "secu_table = SecuTable(db_manager)"
   ]
  },
  {
   "cell_type": "code",
   "execution_count": 6,
   "id": "7f270e53",
   "metadata": {},
   "outputs": [
    {
     "data": {
      "text/plain": [
       "'secutiry'"
      ]
     },
     "execution_count": 6,
     "metadata": {},
     "output_type": "execute_result"
    }
   ],
   "source": [
    "secu_table.table_name"
   ]
  },
  {
   "cell_type": "code",
   "execution_count": null,
   "id": "448bb52c",
   "metadata": {},
   "outputs": [],
   "source": []
  }
 ],
 "metadata": {
  "kernelspec": {
   "display_name": "base",
   "language": "python",
   "name": "python3"
  },
  "language_info": {
   "codemirror_mode": {
    "name": "ipython",
    "version": 3
   },
   "file_extension": ".py",
   "mimetype": "text/x-python",
   "name": "python",
   "nbconvert_exporter": "python",
   "pygments_lexer": "ipython3",
   "version": "3.9.23"
  }
 },
 "nbformat": 4,
 "nbformat_minor": 5
}
