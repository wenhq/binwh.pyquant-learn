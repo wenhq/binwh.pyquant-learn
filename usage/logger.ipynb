{
 "cells": [
  {
   "cell_type": "code",
   "execution_count": 2,
   "id": "01432652",
   "metadata": {},
   "outputs": [],
   "source": [
    "import sys\n",
    "sys.path.append('../')  # 如果notebook在子文件夹中\n",
    "\n",
    "from util.logger import get_logger, setup_notebook_logging, log_function_call"
   ]
  },
  {
   "cell_type": "code",
   "execution_count": 4,
   "id": "a4bc5fd0",
   "metadata": {},
   "outputs": [],
   "source": [
    "# 初始化日志系统\n",
    "logger = setup_notebook_logging(level=\"INFO\")"
   ]
  },
  {
   "cell_type": "code",
   "execution_count": 5,
   "id": "440e1598",
   "metadata": {},
   "outputs": [
    {
     "name": "stdout",
     "output_type": "stream",
     "text": [
      "2025-08-12 15:04:52 [INFO] proj: Notebook开始运行\n",
      "2025-08-12 15:04:52 [WARNING] proj: 这是警告信息\n",
      "2025-08-12 15:04:52 [ERROR] proj: 这是错误信息\n"
     ]
    }
   ],
   "source": [
    "# 2. 基本使用\n",
    "logger.info(\"Notebook开始运行\")\n",
    "logger.debug(\"这是调试信息\")\n",
    "logger.warning(\"这是警告信息\")\n",
    "logger.error(\"这是错误信息\")"
   ]
  },
  {
   "cell_type": "code",
   "execution_count": 14,
   "id": "5c6319ba",
   "metadata": {},
   "outputs": [],
   "source": [
    "# 3. 获取不同的logger\n",
    "from util.logger import get_main_logger, get_data_logger, get_model_logger\n",
    "\n",
    "main_logger = get_main_logger()\n",
    "data_logger = get_data_logger()\n",
    "model_logger = get_model_logger()"
   ]
  },
  {
   "cell_type": "code",
   "execution_count": 1,
   "id": "dbd5f8c6",
   "metadata": {},
   "outputs": [
    {
     "ename": "NameError",
     "evalue": "name 'data_logger' is not defined",
     "output_type": "error",
     "traceback": [
      "\u001b[1;31m---------------------------------------------------------------------------\u001b[0m",
      "\u001b[1;31mNameError\u001b[0m                                 Traceback (most recent call last)",
      "Cell \u001b[1;32mIn[1], line 13\u001b[0m\n\u001b[0;32m     10\u001b[0m         data_logger\u001b[38;5;241m.\u001b[39merror(\u001b[38;5;124mf\u001b[39m\u001b[38;5;124m\"\u001b[39m\u001b[38;5;124m数据处理失败: \u001b[39m\u001b[38;5;132;01m{\u001b[39;00me\u001b[38;5;132;01m}\u001b[39;00m\u001b[38;5;124m\"\u001b[39m, exc_info\u001b[38;5;241m=\u001b[39m\u001b[38;5;28;01mTrue\u001b[39;00m)\n\u001b[0;32m     11\u001b[0m         \u001b[38;5;28;01mraise\u001b[39;00m\n\u001b[1;32m---> 13\u001b[0m \u001b[43mprocess_data\u001b[49m\u001b[43m(\u001b[49m\u001b[38;5;124;43m\"\u001b[39;49m\u001b[38;5;124;43m\"\u001b[39;49m\u001b[43m)\u001b[49m\n",
      "Cell \u001b[1;32mIn[1], line 3\u001b[0m, in \u001b[0;36mprocess_data\u001b[1;34m(data)\u001b[0m\n\u001b[0;32m      2\u001b[0m \u001b[38;5;28;01mdef\u001b[39;00m\u001b[38;5;250m \u001b[39m\u001b[38;5;21mprocess_data\u001b[39m(data):\n\u001b[1;32m----> 3\u001b[0m     \u001b[43mdata_logger\u001b[49m\u001b[38;5;241m.\u001b[39minfo(\u001b[38;5;124m\"\u001b[39m\u001b[38;5;124m开始数据预处理\u001b[39m\u001b[38;5;124m\"\u001b[39m)\n\u001b[0;32m      4\u001b[0m     \u001b[38;5;28;01mtry\u001b[39;00m:\n\u001b[0;32m      5\u001b[0m         \u001b[38;5;66;03m# 数据处理逻辑\u001b[39;00m\n\u001b[0;32m      6\u001b[0m         processed_data \u001b[38;5;241m=\u001b[39m data \u001b[38;5;241m*\u001b[39m \u001b[38;5;241m2\u001b[39m  \u001b[38;5;66;03m# 示例\u001b[39;00m\n",
      "\u001b[1;31mNameError\u001b[0m: name 'data_logger' is not defined"
     ]
    }
   ],
   "source": [
    "# 4. 在数据处理中使用\n",
    "def process_data(data):\n",
    "    data_logger.info(\"开始数据预处理\")\n",
    "    try:\n",
    "        # 数据处理逻辑\n",
    "        processed_data = data * 2  # 示例\n",
    "        data_logger.info(\"数据预处理完成\")\n",
    "        return processed_data\n",
    "    except Exception as e:\n",
    "        data_logger.error(f\"数据处理失败: {e}\", exc_info=True)\n",
    "        raise\n",
    "\n",
    "process_data(\"\")"
   ]
  },
  {
   "cell_type": "code",
   "execution_count": 8,
   "id": "74e2da1a",
   "metadata": {},
   "outputs": [
    {
     "name": "stdout",
     "output_type": "stream",
     "text": [
      "2025-08-12 14:30:04 [INFO] proj.model: 调用函数: train_model\n",
      "2025-08-12 14:30:04 [INFO] proj.model: test model logger.\n",
      "2025-08-12 14:30:04 [INFO] proj.model: 函数 train_model 执行成功\n"
     ]
    }
   ],
   "source": [
    "# 5. 使用装饰器\n",
    "@log_function_call(\"proj.model\")\n",
    "def train_model(model, data):\n",
    "    \"\"\"模型训练函数\"\"\"\n",
    "    # 训练逻辑\n",
    "    model_logger.info(\"test model logger.\")\n",
    "    pass\n",
    "\n",
    "train_model(\"model name\", \"data\")"
   ]
  },
  {
   "cell_type": "code",
   "execution_count": 9,
   "id": "18082810",
   "metadata": {},
   "outputs": [
    {
     "name": "stdout",
     "output_type": "stream",
     "text": [
      "2025-08-12 14:31:12 [INFO] proj: 开始机器学习流程\n",
      "2025-08-12 14:31:12 [INFO] proj.data: 加载数据...\n",
      "2025-08-12 14:31:12 [INFO] proj.data: 预处理数据...\n",
      "2025-08-12 14:31:12 [INFO] proj.model: 开始模型训练...\n",
      "2025-08-12 14:31:12 [INFO] proj: 机器学习流程完成\n"
     ]
    }
   ],
   "source": [
    "# 6. 在机器学习流程中使用\n",
    "def ml_pipeline():\n",
    "    main_logger.info(\"开始机器学习流程\")\n",
    "    \n",
    "    # 数据加载\n",
    "    data_logger.info(\"加载数据...\")\n",
    "    # data = load_data()\n",
    "    \n",
    "    # 数据预处理\n",
    "    data_logger.info(\"预处理数据...\")\n",
    "    # processed_data = process_data(data)\n",
    "    \n",
    "    # 模型训练\n",
    "    model_logger.info(\"开始模型训练...\")\n",
    "    # model = train_model(processed_data)\n",
    "    \n",
    "    main_logger.info(\"机器学习流程完成\")\n",
    "\n",
    "\n",
    "ml_pipeline()"
   ]
  },
  {
   "cell_type": "code",
   "execution_count": 10,
   "id": "ef6ff8fe",
   "metadata": {},
   "outputs": [
    {
     "name": "stdout",
     "output_type": "stream",
     "text": [
      "2025-08-12 14:31:58 [ERROR] proj: 除零错误\n",
      "Traceback (most recent call last):\n",
      "  File \"C:\\Users\\Administrator\\AppData\\Local\\Temp\\ipykernel_22812\\2960999632.py\", line 5, in safe_operation\n",
      "    result = 10 / 0\n",
      "ZeroDivisionError: division by zero\n"
     ]
    }
   ],
   "source": [
    "# 7. 异常处理示例\n",
    "def safe_operation():\n",
    "    try:\n",
    "        # 可能出错的操作\n",
    "        result = 10 / 0\n",
    "    except ZeroDivisionError as e:\n",
    "        logger.error(\"除零错误\", exc_info=True)\n",
    "    except Exception as e:\n",
    "        logger.error(f\"未预期的错误: {e}\", exc_info=True)\n",
    "\n",
    "safe_operation()"
   ]
  },
  {
   "cell_type": "code",
   "execution_count": null,
   "id": "b7312e5c",
   "metadata": {},
   "outputs": [],
   "source": [
    "# 8. 动态调整日志级别\n",
    "from util.logger import logger_manager\n",
    "logger_manager.set_level(\"DEBUG\")  # 调整为DEBUG级别"
   ]
  },
  {
   "cell_type": "code",
   "execution_count": 13,
   "id": "78f5b416",
   "metadata": {},
   "outputs": [
    {
     "name": "stdout",
     "output_type": "stream",
     "text": [
      "2025-08-12 14:48:45 [INFO] proj: 数组平均值: 2.0000\n"
     ]
    },
    {
     "data": {
      "text/plain": [
       "2.0"
      ]
     },
     "execution_count": 13,
     "metadata": {},
     "output_type": "execute_result"
    }
   ],
   "source": [
    "# 9. 条件日志记录\n",
    "import numpy as np\n",
    "\n",
    "def process_array(arr):\n",
    "    logger.debug(f\"处理数组，形状: {arr.shape}\")\n",
    "    \n",
    "    if arr.size > 1000:\n",
    "        logger.warning(f\"数组较大，可能影响性能: {arr.size}\")\n",
    "    \n",
    "    result = np.mean(arr)\n",
    "    logger.info(f\"数组平均值: {result:.4f}\")\n",
    "    return result\n",
    "\n",
    "\n",
    "process_array(np.arange(5))"
   ]
  }
 ],
 "metadata": {
  "kernelspec": {
   "display_name": "base",
   "language": "python",
   "name": "python3"
  },
  "language_info": {
   "codemirror_mode": {
    "name": "ipython",
    "version": 3
   },
   "file_extension": ".py",
   "mimetype": "text/x-python",
   "name": "python",
   "nbconvert_exporter": "python",
   "pygments_lexer": "ipython3",
   "version": "3.9.23"
  }
 },
 "nbformat": 4,
 "nbformat_minor": 5
}
