{
 "cells": [
  {
   "cell_type": "markdown",
   "id": "3064256b-669a-4925-8ab7-5948f2f47773",
   "metadata": {},
   "source": [
    "# 数值运算的lib：NumPy"
   ]
  },
  {
   "cell_type": "code",
   "execution_count": 2,
   "id": "c354492f-c8da-4497-a152-abc5890fc3ac",
   "metadata": {},
   "outputs": [
    {
     "data": {
      "text/plain": [
       "'2.1.3'"
      ]
     },
     "execution_count": 2,
     "metadata": {},
     "output_type": "execute_result"
    }
   ],
   "source": [
    "import numpy as np\n",
    "np.version.full_version"
   ]
  },
  {
   "cell_type": "markdown",
   "id": "9f93e2c8-7753-42ee-b072-66cd96361b5e",
   "metadata": {},
   "source": [
    "## 数组对象"
   ]
  },
  {
   "cell_type": "code",
   "execution_count": 4,
   "id": "57f84cca-3a30-410c-8978-d8ac48dc41bd",
   "metadata": {},
   "outputs": [
    {
     "name": "stdout",
     "output_type": "stream",
     "text": [
      "[ 0  1  2  3  4  5  6  7  8  9 10 11 12 13 14 15 16 17 18 19]\n"
     ]
    }
   ],
   "source": [
    "a = np.arange(20)\n",
    "print(a)"
   ]
  },
  {
   "cell_type": "code",
   "execution_count": 6,
   "id": "2065438b-24a3-48b8-82b2-7e3941af3475",
   "metadata": {},
   "outputs": [
    {
     "name": "stdout",
     "output_type": "stream",
     "text": [
      "[[ 0  1  2  3  4]\n",
      " [ 5  6  7  8  9]\n",
      " [10 11 12 13 14]\n",
      " [15 16 17 18 19]]\n"
     ]
    }
   ],
   "source": [
    "a = a.reshape(4, 5)\n",
    "print(a)"
   ]
  },
  {
   "cell_type": "code",
   "execution_count": 7,
   "id": "c625b05a-f3fb-4030-9d14-4e12720f3449",
   "metadata": {},
   "outputs": [
    {
     "name": "stdout",
     "output_type": "stream",
     "text": [
      "[[[ 0  1  2  3  4]\n",
      "  [ 5  6  7  8  9]]\n",
      "\n",
      " [[10 11 12 13 14]\n",
      "  [15 16 17 18 19]]]\n"
     ]
    }
   ],
   "source": [
    "# 构造更高维\n",
    "a = a.reshape(2, 2, 5)\n",
    "print(a)"
   ]
  },
  {
   "cell_type": "code",
   "execution_count": 18,
   "id": "0e32280f-da1c-4170-a500-b2f7d20568ac",
   "metadata": {},
   "outputs": [
    {
     "name": "stdout",
     "output_type": "stream",
     "text": [
      "维度：3\n",
      "各维度的大小：(2, 2, 5)\n",
      "全部元素个数：20\n",
      "元素类型：int64\n",
      "元素占位字节数：160\n"
     ]
    }
   ],
   "source": [
    "# 数组对象的相关属性\n",
    "print(f\"维度：{a.ndim}\")\n",
    "print(f\"各维度的大小：{a.shape}\")\n",
    "print(f\"全部元素个数：{a.size}\")\n",
    "print(f\"元素类型：{a.dtype}\")\n",
    "print(f\"元素占位字节数：{a.nbytes}\") # 8位一个字节"
   ]
  },
  {
   "cell_type": "markdown",
   "id": "5f7a132c-1b43-4dbf-afc5-0e8bbafeddbf",
   "metadata": {},
   "source": [
    "## 创建数组"
   ]
  },
  {
   "cell_type": "code",
   "execution_count": 19,
   "id": "c3f48cd3-fd31-4969-aab8-ef4596b2e497",
   "metadata": {},
   "outputs": [
    {
     "data": {
      "text/plain": [
       "array([0, 1, 2, 3, 4])"
      ]
     },
     "execution_count": 19,
     "metadata": {},
     "output_type": "execute_result"
    }
   ],
   "source": [
    "raw = [0,1,2,3,4]\n",
    "a = np.array(raw)\n",
    "a"
   ]
  },
  {
   "cell_type": "code",
   "execution_count": 20,
   "id": "2fe51868-592e-4d64-955e-b9e3184bc833",
   "metadata": {},
   "outputs": [
    {
     "data": {
      "text/plain": [
       "array([[0, 1, 2, 3, 4],\n",
       "       [5, 6, 7, 8, 9]])"
      ]
     },
     "execution_count": 20,
     "metadata": {},
     "output_type": "execute_result"
    }
   ],
   "source": [
    "raw = [[0,1,2,3,4], [5,6,7,8,9]]\n",
    "b = np.array(raw)\n",
    "b"
   ]
  },
  {
   "cell_type": "markdown",
   "id": "376c544d-846e-4ed7-99c1-ebf0b5a61c8f",
   "metadata": {},
   "source": [
    "### 全零矩阵"
   ]
  },
  {
   "cell_type": "code",
   "execution_count": 21,
   "id": "1289e8a7-12a3-473a-940f-79d7a6610b67",
   "metadata": {},
   "outputs": [
    {
     "data": {
      "text/plain": [
       "array([[0., 0., 0., 0., 0.],\n",
       "       [0., 0., 0., 0., 0.],\n",
       "       [0., 0., 0., 0., 0.],\n",
       "       [0., 0., 0., 0., 0.]])"
      ]
     },
     "execution_count": 21,
     "metadata": {},
     "output_type": "execute_result"
    }
   ],
   "source": [
    "d = (4, 5)\n",
    "np.zeros(d)"
   ]
  },
  {
   "cell_type": "markdown",
   "id": "f055a206-a19c-4803-9822-eeb154705811",
   "metadata": {},
   "source": [
    "### 全1矩阵\n",
    "默认生成的类型是浮点型，可以通过指定类型改为整型"
   ]
  },
  {
   "cell_type": "code",
   "execution_count": 23,
   "id": "908336f7-6880-4847-a240-56aa66cc2466",
   "metadata": {},
   "outputs": [
    {
     "data": {
      "text/plain": [
       "array([[1, 1, 1, 1, 1],\n",
       "       [1, 1, 1, 1, 1],\n",
       "       [1, 1, 1, 1, 1],\n",
       "       [1, 1, 1, 1, 1]])"
      ]
     },
     "execution_count": 23,
     "metadata": {},
     "output_type": "execute_result"
    }
   ],
   "source": [
    "d = (4, 5)\n",
    "np.ones(d, dtype=int)"
   ]
  },
  {
   "cell_type": "markdown",
   "id": "4acb530e-761b-478d-bc2f-036407a865fc",
   "metadata": {},
   "source": [
    "### 随机数数组"
   ]
  },
  {
   "cell_type": "code",
   "execution_count": 24,
   "id": "9cf02287-a892-4eae-bc83-f2a03f475013",
   "metadata": {},
   "outputs": [
    {
     "data": {
      "text/plain": [
       "array([0.5873317 , 0.69730631, 0.22548451, 0.09484597, 0.40646396])"
      ]
     },
     "execution_count": 24,
     "metadata": {},
     "output_type": "execute_result"
    }
   ],
   "source": [
    "np.random.rand(5)"
   ]
  },
  {
   "cell_type": "markdown",
   "id": "f2439af9-feb3-4fa4-8487-e242f6f2bef6",
   "metadata": {},
   "source": [
    "## 数组操作\n",
    "\n",
    "简单的四则运算已经重载过了，全部的`+`，`-`，`*`，`/`运算都是基于全部的数组元素的"
   ]
  },
  {
   "cell_type": "code",
   "execution_count": 25,
   "id": "f3cd3b3e-5c26-42da-89ba-5255e7c499c2",
   "metadata": {},
   "outputs": [
    {
     "name": "stdout",
     "output_type": "stream",
     "text": [
      "a:\n",
      "[[1. 2.]\n",
      " [2. 4.]]\n",
      "b:\n",
      "[[3.2 1.5]\n",
      " [2.5 4. ]]\n",
      "a+b:\n",
      "[[4.2 3.5]\n",
      " [4.5 8. ]]\n"
     ]
    }
   ],
   "source": [
    "a = np.array([[1.0, 2], [2, 4]])\n",
    "print(\"a:\")\n",
    "print(a)\n",
    "b = np.array([[3.2, 1.5], [2.5, 4]])\n",
    "print(\"b:\")\n",
    "print(b)\n",
    "print(\"a+b:\")\n",
    "print(a+b)"
   ]
  },
  {
   "cell_type": "code",
   "execution_count": null,
   "id": "e12fdae7-7f51-4284-bdc0-e219297e1d10",
   "metadata": {},
   "outputs": [],
   "source": []
  }
 ],
 "metadata": {
  "kernelspec": {
   "display_name": "Python 3 (ipykernel)",
   "language": "python",
   "name": "python3"
  },
  "language_info": {
   "codemirror_mode": {
    "name": "ipython",
    "version": 3
   },
   "file_extension": ".py",
   "mimetype": "text/x-python",
   "name": "python",
   "nbconvert_exporter": "python",
   "pygments_lexer": "ipython3",
   "version": "3.12.9"
  }
 },
 "nbformat": 4,
 "nbformat_minor": 5
}
