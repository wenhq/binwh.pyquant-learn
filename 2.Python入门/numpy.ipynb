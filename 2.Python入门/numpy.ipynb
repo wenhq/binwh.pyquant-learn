{
 "cells": [
  {
   "cell_type": "markdown",
   "id": "3064256b-669a-4925-8ab7-5948f2f47773",
   "metadata": {},
   "source": [
    "# 数值运算的lib：NumPy"
   ]
  },
  {
   "cell_type": "code",
   "execution_count": 2,
   "id": "c354492f-c8da-4497-a152-abc5890fc3ac",
   "metadata": {},
   "outputs": [
    {
     "data": {
      "text/plain": [
       "'2.1.3'"
      ]
     },
     "execution_count": 2,
     "metadata": {},
     "output_type": "execute_result"
    }
   ],
   "source": [
    "import numpy as np\n",
    "np.version.full_version"
   ]
  },
  {
   "cell_type": "markdown",
   "id": "9f93e2c8-7753-42ee-b072-66cd96361b5e",
   "metadata": {},
   "source": [
    "## 数组对象"
   ]
  },
  {
   "cell_type": "code",
   "execution_count": 4,
   "id": "57f84cca-3a30-410c-8978-d8ac48dc41bd",
   "metadata": {},
   "outputs": [
    {
     "name": "stdout",
     "output_type": "stream",
     "text": [
      "[ 0  1  2  3  4  5  6  7  8  9 10 11 12 13 14 15 16 17 18 19]\n"
     ]
    }
   ],
   "source": [
    "a = np.arange(20)\n",
    "print(a)"
   ]
  },
  {
   "cell_type": "code",
   "execution_count": 6,
   "id": "2065438b-24a3-48b8-82b2-7e3941af3475",
   "metadata": {},
   "outputs": [
    {
     "name": "stdout",
     "output_type": "stream",
     "text": [
      "[[ 0  1  2  3  4]\n",
      " [ 5  6  7  8  9]\n",
      " [10 11 12 13 14]\n",
      " [15 16 17 18 19]]\n"
     ]
    }
   ],
   "source": [
    "a = a.reshape(4, 5)\n",
    "print(a)"
   ]
  },
  {
   "cell_type": "code",
   "execution_count": 7,
   "id": "c625b05a-f3fb-4030-9d14-4e12720f3449",
   "metadata": {},
   "outputs": [
    {
     "name": "stdout",
     "output_type": "stream",
     "text": [
      "[[[ 0  1  2  3  4]\n",
      "  [ 5  6  7  8  9]]\n",
      "\n",
      " [[10 11 12 13 14]\n",
      "  [15 16 17 18 19]]]\n"
     ]
    }
   ],
   "source": [
    "# 构造更高维\n",
    "a = a.reshape(2, 2, 5)\n",
    "print(a)"
   ]
  },
  {
   "cell_type": "code",
   "execution_count": 18,
   "id": "0e32280f-da1c-4170-a500-b2f7d20568ac",
   "metadata": {},
   "outputs": [
    {
     "name": "stdout",
     "output_type": "stream",
     "text": [
      "维度：3\n",
      "各维度的大小：(2, 2, 5)\n",
      "全部元素个数：20\n",
      "元素类型：int64\n",
      "元素占位字节数：160\n"
     ]
    }
   ],
   "source": [
    "# 数组对象的相关属性\n",
    "print(f\"维度：{a.ndim}\")\n",
    "print(f\"各维度的大小：{a.shape}\")\n",
    "print(f\"全部元素个数：{a.size}\")\n",
    "print(f\"元素类型：{a.dtype}\")\n",
    "print(f\"元素占位字节数：{a.nbytes}\") # 8位一个字节"
   ]
  },
  {
   "cell_type": "markdown",
   "id": "77440cb3-0801-43b5-8a5c-f439301a2405",
   "metadata": {},
   "source": [
    "## 生成数组\n",
    "\n",
    "在 `Python` 中，`np.arange()` 和 `np.linspace()` 都是用来生成数组的函数，但是它们有不同的功能和使用方式。\n",
    "\n",
    "- `np.arange(start, stop, step)`\n",
    "    - `start`：起始值，生成的数组从这个值开始。\n",
    "    - `stop`：结束值，生成的数组会一直到达（但不包括）该值。\n",
    "    - `step`：步长，数组中每两个数之间的差值。\n",
    "- `np.linspace(start, stop, num)`\n",
    "    - start：起始值。\n",
    "    - stop：结束值（包括该值）。\n",
    "    - num：生成的元素的个数。"
   ]
  },
  {
   "cell_type": "code",
   "execution_count": 35,
   "id": "fce895fc-7303-4d27-9387-8876e2d64590",
   "metadata": {},
   "outputs": [
    {
     "data": {
      "text/plain": [
       "array([0.  , 0.25, 0.5 , 0.75, 1.  , 1.25, 1.5 , 1.75, 2.  ])"
      ]
     },
     "execution_count": 35,
     "metadata": {},
     "output_type": "execute_result"
    }
   ],
   "source": [
    "np.linspace(0, 2, 9)"
   ]
  },
  {
   "cell_type": "markdown",
   "id": "5f7a132c-1b43-4dbf-afc5-0e8bbafeddbf",
   "metadata": {},
   "source": [
    "## 创建数组"
   ]
  },
  {
   "cell_type": "code",
   "execution_count": 19,
   "id": "c3f48cd3-fd31-4969-aab8-ef4596b2e497",
   "metadata": {},
   "outputs": [
    {
     "data": {
      "text/plain": [
       "array([0, 1, 2, 3, 4])"
      ]
     },
     "execution_count": 19,
     "metadata": {},
     "output_type": "execute_result"
    }
   ],
   "source": [
    "raw = [0,1,2,3,4]\n",
    "a = np.array(raw)\n",
    "a"
   ]
  },
  {
   "cell_type": "code",
   "execution_count": 20,
   "id": "2fe51868-592e-4d64-955e-b9e3184bc833",
   "metadata": {},
   "outputs": [
    {
     "data": {
      "text/plain": [
       "array([[0, 1, 2, 3, 4],\n",
       "       [5, 6, 7, 8, 9]])"
      ]
     },
     "execution_count": 20,
     "metadata": {},
     "output_type": "execute_result"
    }
   ],
   "source": [
    "raw = [[0,1,2,3,4], [5,6,7,8,9]]\n",
    "b = np.array(raw)\n",
    "b"
   ]
  },
  {
   "cell_type": "markdown",
   "id": "376c544d-846e-4ed7-99c1-ebf0b5a61c8f",
   "metadata": {},
   "source": [
    "### 全零矩阵"
   ]
  },
  {
   "cell_type": "code",
   "execution_count": 21,
   "id": "1289e8a7-12a3-473a-940f-79d7a6610b67",
   "metadata": {},
   "outputs": [
    {
     "data": {
      "text/plain": [
       "array([[0., 0., 0., 0., 0.],\n",
       "       [0., 0., 0., 0., 0.],\n",
       "       [0., 0., 0., 0., 0.],\n",
       "       [0., 0., 0., 0., 0.]])"
      ]
     },
     "execution_count": 21,
     "metadata": {},
     "output_type": "execute_result"
    }
   ],
   "source": [
    "d = (4, 5)\n",
    "np.zeros(d)"
   ]
  },
  {
   "cell_type": "markdown",
   "id": "f055a206-a19c-4803-9822-eeb154705811",
   "metadata": {},
   "source": [
    "### 全1矩阵\n",
    "默认生成的类型是浮点型，可以通过指定类型改为整型"
   ]
  },
  {
   "cell_type": "code",
   "execution_count": 23,
   "id": "908336f7-6880-4847-a240-56aa66cc2466",
   "metadata": {},
   "outputs": [
    {
     "data": {
      "text/plain": [
       "array([[1, 1, 1, 1, 1],\n",
       "       [1, 1, 1, 1, 1],\n",
       "       [1, 1, 1, 1, 1],\n",
       "       [1, 1, 1, 1, 1]])"
      ]
     },
     "execution_count": 23,
     "metadata": {},
     "output_type": "execute_result"
    }
   ],
   "source": [
    "d = (4, 5)\n",
    "np.ones(d, dtype=int)"
   ]
  },
  {
   "cell_type": "markdown",
   "id": "4acb530e-761b-478d-bc2f-036407a865fc",
   "metadata": {},
   "source": [
    "### 随机数数组"
   ]
  },
  {
   "cell_type": "code",
   "execution_count": 24,
   "id": "9cf02287-a892-4eae-bc83-f2a03f475013",
   "metadata": {},
   "outputs": [
    {
     "data": {
      "text/plain": [
       "array([0.5873317 , 0.69730631, 0.22548451, 0.09484597, 0.40646396])"
      ]
     },
     "execution_count": 24,
     "metadata": {},
     "output_type": "execute_result"
    }
   ],
   "source": [
    "np.random.rand(5)"
   ]
  },
  {
   "cell_type": "markdown",
   "id": "f2439af9-feb3-4fa4-8487-e242f6f2bef6",
   "metadata": {},
   "source": [
    "## 数组操作\n",
    "\n",
    "### 四则运算\n",
    "\n",
    "简单的四则运算已经重载过了，全部的`+`，`-`，`*`，`/`运算都是基于全部的数组元素的"
   ]
  },
  {
   "cell_type": "code",
   "execution_count": 25,
   "id": "f3cd3b3e-5c26-42da-89ba-5255e7c499c2",
   "metadata": {},
   "outputs": [
    {
     "name": "stdout",
     "output_type": "stream",
     "text": [
      "a:\n",
      "[[1. 2.]\n",
      " [2. 4.]]\n",
      "b:\n",
      "[[3.2 1.5]\n",
      " [2.5 4. ]]\n",
      "a+b:\n",
      "[[4.2 3.5]\n",
      " [4.5 8. ]]\n"
     ]
    }
   ],
   "source": [
    "a = np.array([[1.0, 2], [2, 4]])\n",
    "print(\"a:\")\n",
    "print(a)\n",
    "b = np.array([[3.2, 1.5], [2.5, 4]])\n",
    "print(\"b:\")\n",
    "print(b)\n",
    "print(\"a+b:\")\n",
    "print(a+b)"
   ]
  },
  {
   "cell_type": "code",
   "execution_count": 27,
   "id": "29826c2a-ff05-466a-aed0-c3490950cb8b",
   "metadata": {},
   "outputs": [
    {
     "name": "stdout",
     "output_type": "stream",
     "text": [
      "3 * a:\n",
      "[[ 3.  6.]\n",
      " [ 6. 12.]]\n",
      "b + 1.8:\n",
      "[[5.  3.3]\n",
      " [4.3 5.8]]\n"
     ]
    }
   ],
   "source": [
    "print(\"3 * a:\")\n",
    "print(3 * a)\n",
    "print(\"b + 1.8:\")\n",
    "print(b + 1.8)"
   ]
  },
  {
   "cell_type": "code",
   "execution_count": 28,
   "id": "4fed1a44-1a18-4f66-95b7-1f384f3be040",
   "metadata": {},
   "outputs": [
    {
     "name": "stdout",
     "output_type": "stream",
     "text": [
      "[[0.5 1. ]\n",
      " [1.  2. ]]\n"
     ]
    }
   ],
   "source": [
    "a /= 2\n",
    "print(a)"
   ]
  },
  {
   "cell_type": "markdown",
   "id": "564873d2-641c-4788-bafa-1007b213ce59",
   "metadata": {},
   "source": [
    "### 开根号求指数"
   ]
  },
  {
   "cell_type": "code",
   "execution_count": 29,
   "id": "4209c115-4859-431f-9902-d079cca609d0",
   "metadata": {},
   "outputs": [
    {
     "name": "stdout",
     "output_type": "stream",
     "text": [
      "a:\n",
      "[[0.5 1. ]\n",
      " [1.  2. ]]\n",
      "np.exp(a):\n",
      "[[1.64872127 2.71828183]\n",
      " [2.71828183 7.3890561 ]]\n",
      "np.sqrt(a):\n",
      "[[0.70710678 1.        ]\n",
      " [1.         1.41421356]]\n",
      "np.square(a):\n",
      "[[0.25 1.  ]\n",
      " [1.   4.  ]]\n",
      "np.power(a, 3):\n",
      "[[0.125 1.   ]\n",
      " [1.    8.   ]]\n"
     ]
    }
   ],
   "source": [
    "print(\"a:\")\n",
    "print(a)\n",
    "print(\"np.exp(a):\")\n",
    "print(np.exp(a))\n",
    "print(\"np.sqrt(a):\")\n",
    "print(np.sqrt(a))\n",
    "print(\"np.square(a):\")\n",
    "print(np.square(a))\n",
    "print(\"np.power(a, 3):\")\n",
    "print(np.power(a, 3))"
   ]
  },
  {
   "cell_type": "markdown",
   "id": "3d7f0717-4b83-4e82-bf57-c152c47abaea",
   "metadata": {},
   "source": [
    "### 最值"
   ]
  },
  {
   "cell_type": "code",
   "execution_count": 31,
   "id": "70a9501a-7791-4d95-b4c0-572f3b5a6a99",
   "metadata": {},
   "outputs": [
    {
     "name": "stdout",
     "output_type": "stream",
     "text": [
      "a:\n",
      "[[ 0  1  2  3  4]\n",
      " [ 5  6  7  8  9]\n",
      " [10 11 12 13 14]\n",
      " [15 16 17 18 19]]\n",
      "sum of all elements in a: 190\n",
      "maximum element in a: 19\n",
      "minimum element in a: 0\n",
      "maximum element in each row of a: [ 4  9 14 19]\n",
      "minimum element in each column of a: [0 1 2 3 4]\n"
     ]
    }
   ],
   "source": [
    "a = np.arange(20).reshape(4,5)\n",
    "print(\"a:\")\n",
    "print(a)\n",
    "print(\"sum of all elements in a: \" + str(a.sum()))\n",
    "print(\"maximum element in a: \" + str(a.max()))\n",
    "print(\"minimum element in a: \" + str(a.min()))\n",
    "print(\"maximum element in each row of a: \" + str(a.max(axis=1)))\n",
    "print(\"minimum element in each column of a: \" + str(a.min(axis=0)))"
   ]
  },
  {
   "cell_type": "markdown",
   "id": "5118c0cd-5b2c-4875-84bf-f0568fea8091",
   "metadata": {},
   "source": [
    "### 矩阵运算\n",
    "\n",
    "数组可以通过asmatrix~~或者mat~~转换为矩阵，或者直接生成也可以。\n",
    "\n",
    "> `np.mat` was removed in the NumPy 2.0 release. Use `np.asmatrix` instead."
   ]
  },
  {
   "cell_type": "code",
   "execution_count": 32,
   "id": "12bf85ab-6a7c-4b29-9d4e-5c02a5c188a7",
   "metadata": {},
   "outputs": [
    {
     "name": "stdout",
     "output_type": "stream",
     "text": [
      "<class 'numpy.matrix'>\n",
      "<class 'numpy.matrix'>\n"
     ]
    }
   ],
   "source": [
    "a = np.arange(20).reshape(4, 5)\n",
    "a = np.asmatrix(a)\n",
    "print(type(a))\n",
    "\n",
    "b = np.matrix('1.0 2.0; 3.0 4.0')\n",
    "print(type(b))"
   ]
  },
  {
   "cell_type": "code",
   "execution_count": 34,
   "id": "91edcbab-4ad5-425a-b34a-989ba9a64939",
   "metadata": {},
   "outputs": [],
   "source": [
    "# 使用 mat 转换矩阵。此方法已废弃\n",
    "# b = np.arange(2, 45, 3).reshape(5, 3)\n",
    "# b = np.mat(b)\n",
    "# print(b)"
   ]
  },
  {
   "cell_type": "markdown",
   "id": "429832fc-fe90-448e-9560-6c19758293c8",
   "metadata": {},
   "source": [
    "矩阵对象和数组的主要有两点差别：\n",
    "\n",
    "- 一是矩阵是二维的，而数组的可以是任意正整数维；\n",
    "- 二是矩阵的`*`操作符进行的是矩阵乘法，乘号左侧的矩阵列和乘号右侧的矩阵行要相等，而在数组中`*`操作符进行的是每一元素的对应相乘，乘号两侧的数组每一维大小需要一致。"
   ]
  },
  {
   "cell_type": "code",
   "execution_count": 36,
   "id": "0d4cb13a-b0cd-4da4-8028-c73b987bd452",
   "metadata": {},
   "outputs": [
    {
     "name": "stdout",
     "output_type": "stream",
     "text": [
      "matrix a:\n",
      "[[ 0  1  2  3  4]\n",
      " [ 5  6  7  8  9]\n",
      " [10 11 12 13 14]\n",
      " [15 16 17 18 19]]\n",
      "matrix b:\n",
      "[[ 2  5  8]\n",
      " [11 14 17]\n",
      " [20 23 26]\n",
      " [29 32 35]\n",
      " [38 41 44]]\n",
      "matrix c:\n",
      "[[ 290  320  350]\n",
      " [ 790  895 1000]\n",
      " [1290 1470 1650]\n",
      " [1790 2045 2300]]\n"
     ]
    }
   ],
   "source": [
    "print(\"matrix a:\")\n",
    "print(a)\n",
    "print(\"matrix b:\")\n",
    "print(b)\n",
    "c = a * b\n",
    "print(\"matrix c:\")\n",
    "print(c)"
   ]
  },
  {
   "cell_type": "markdown",
   "id": "6f786665-9514-4533-a7fd-ca0406225d6a",
   "metadata": {},
   "source": [
    "## 数组元素访问"
   ]
  },
  {
   "cell_type": "code",
   "execution_count": 37,
   "id": "d2d32caf-4e03-4a8d-94a8-fff15c5342e4",
   "metadata": {},
   "outputs": [
    {
     "name": "stdout",
     "output_type": "stream",
     "text": [
      "1.5\n",
      "1.5\n"
     ]
    }
   ],
   "source": [
    "a = np.array([[3.2, 1.5], [2.5, 4]])\n",
    "print(a[0][1])\n",
    "print(a[0, 1])"
   ]
  },
  {
   "cell_type": "markdown",
   "id": "98d904b9-2ec1-4854-b8d5-7827d4e894ce",
   "metadata": {},
   "source": [
    "## 数组赋值"
   ]
  },
  {
   "cell_type": "code",
   "execution_count": 38,
   "id": "8ac64096-02d3-4b61-9f30-e64b0e33ca29",
   "metadata": {},
   "outputs": [
    {
     "name": "stdout",
     "output_type": "stream",
     "text": [
      "a:\n",
      "[[3.2 2. ]\n",
      " [2.5 4. ]]\n",
      "b:\n",
      "[[3.2 1.5]\n",
      " [2.5 4. ]]\n"
     ]
    }
   ],
   "source": [
    "a = np.array([[3.2, 1.5], [2.5, 4]])\n",
    "# 注意这里，使用copy，不使用=等于号\n",
    "b = a.copy()\n",
    "a[0][1] = 2.0\n",
    "print(\"a:\")\n",
    "print(a)\n",
    "print(\"b:\")\n",
    "print(b)"
   ]
  },
  {
   "cell_type": "markdown",
   "id": "9755d97f-d63a-480f-8358-403019322062",
   "metadata": {},
   "source": [
    "如果使用 `b = a` 修改其中一个数据，会在`a`和`b`中都发生修改。其原因在于`Python`不是真正将`a`复制一份给`b`，而是将`b`指到了`a`对应数据的内存地址上。想要真正的复制一份`a`给`b`需使用`copy`。"
   ]
  },
  {
   "cell_type": "markdown",
   "id": "8597a38d-81f6-437c-8de9-11c3e0c24256",
   "metadata": {},
   "source": [
    "利用`:`可以访问到某一维的全部数据，例如取矩阵中的指定列。"
   ]
  },
  {
   "cell_type": "code",
   "execution_count": 39,
   "id": "75d56258-d741-46f5-84cf-2418303ecc99",
   "metadata": {},
   "outputs": [
    {
     "name": "stdout",
     "output_type": "stream",
     "text": [
      "a:\n",
      "[[ 0  1  2  3  4]\n",
      " [ 5  6  7  8  9]\n",
      " [10 11 12 13 14]\n",
      " [15 16 17 18 19]]\n",
      "the 2nd and 4th column of a:\n",
      "[[ 1  3]\n",
      " [ 6  8]\n",
      " [11 13]\n",
      " [16 18]]\n"
     ]
    }
   ],
   "source": [
    "a = np.arange(20).reshape(4, 5)\n",
    "print(\"a:\")\n",
    "print(a)\n",
    "print(\"the 2nd and 4th column of a:\")\n",
    "print(a[:,[1,3]])"
   ]
  },
  {
   "cell_type": "markdown",
   "id": "21eb5e4b-e977-4e08-8664-6c4c2b2efa77",
   "metadata": {},
   "source": [
    "将第一列大于5的元素（10和15）对应的第三列元素（12和17）取出来："
   ]
  },
  {
   "cell_type": "code",
   "execution_count": 45,
   "id": "33e5ef14-8b6a-44a7-84cf-5a08c4d67b6c",
   "metadata": {},
   "outputs": [
    {
     "data": {
      "text/plain": [
       "array([[10, 12],\n",
       "       [15, 17]])"
      ]
     },
     "execution_count": 45,
     "metadata": {},
     "output_type": "execute_result"
    }
   ],
   "source": [
    "a[:, [0,2]][a[:, 0] > 5]"
   ]
  },
  {
   "cell_type": "markdown",
   "id": "d1802867-4d44-46aa-9ea5-873a8c307831",
   "metadata": {},
   "source": [
    "可使用`where`函数查找特定值在数组中的位置"
   ]
  },
  {
   "cell_type": "code",
   "execution_count": 46,
   "id": "537408e3-9f06-4809-9f8e-db366ce83ed0",
   "metadata": {},
   "outputs": [
    {
     "name": "stdout",
     "output_type": "stream",
     "text": [
      "(array([2]), array([1]))\n",
      "11\n"
     ]
    }
   ],
   "source": [
    "loc = numpy.where(a==11)\n",
    "print(loc)\n",
    "print(a[loc[0][0], loc[1][0]])"
   ]
  },
  {
   "cell_type": "markdown",
   "id": "236c790d-3e6b-4835-b5e2-bfede775337d",
   "metadata": {},
   "source": [
    "## 矩阵(或二维数组)操作\n",
    "### 矩阵转置"
   ]
  },
  {
   "cell_type": "code",
   "execution_count": 48,
   "id": "9d19ef9c-744f-4f94-9e34-5e575e80c1a2",
   "metadata": {},
   "outputs": [
    {
     "name": "stdout",
     "output_type": "stream",
     "text": [
      "a:\n",
      "[[0.99219357 0.78842252 0.50195631 0.04452124]\n",
      " [0.50483738 0.9910778  0.53993372 0.45117709]]\n",
      "a is an array, by using transpose(a):\n",
      "[[0.99219357 0.50483738]\n",
      " [0.78842252 0.9910778 ]\n",
      " [0.50195631 0.53993372]\n",
      " [0.04452124 0.45117709]]\n",
      "b:\n",
      "[[0.58910425 0.97680189 0.1063197  0.14540104]\n",
      " [0.29578761 0.24091323 0.54270395 0.39063568]]\n",
      "b is a matrix, by using b.T:\n",
      "[[0.58910425 0.29578761]\n",
      " [0.97680189 0.24091323]\n",
      " [0.1063197  0.54270395]\n",
      " [0.14540104 0.39063568]]\n"
     ]
    }
   ],
   "source": [
    "a = np.random.rand(2,4)\n",
    "print(\"a:\")\n",
    "print(a)\n",
    "a = np.transpose(a)\n",
    "print(\"a is an array, by using transpose(a):\")\n",
    "print(a)\n",
    "b = np.random.rand(2,4)\n",
    "b = np.asmatrix(b)\n",
    "print(\"b:\")\n",
    "print(b)\n",
    "print(\"b is a matrix, by using b.T:\")\n",
    "print(b.T)"
   ]
  },
  {
   "cell_type": "markdown",
   "id": "ffbb5e94-dccf-4a9e-b671-f16dcef25fbc",
   "metadata": {},
   "source": [
    "### 矩阵求逆"
   ]
  },
  {
   "cell_type": "code",
   "execution_count": 51,
   "id": "8438df61-5d9a-4a88-9ea9-c654b0f346e2",
   "metadata": {},
   "outputs": [
    {
     "name": "stdout",
     "output_type": "stream",
     "text": [
      "a:\n",
      "[[0.46967024 0.10712804]\n",
      " [0.85236388 0.98663405]]\n",
      "inverse of a:\n",
      "[[ 2.65166766 -0.28791624]\n",
      " [-2.29080451  1.26228099]]\n",
      "a * inv(a)\n",
      "[[1 0]\n",
      " [0 1]]\n"
     ]
    }
   ],
   "source": [
    "import numpy.linalg as nlg\n",
    "a = np.random.rand(2,2)\n",
    "a = np.asmatrix(a)\n",
    "print(\"a:\")\n",
    "print(a)\n",
    "ia = nlg.inv(a)\n",
    "print(\"inverse of a:\")\n",
    "print(ia)\n",
    "print(\"a * inv(a)\")\n",
    "print((a * ia).astype(int))\n"
   ]
  },
  {
   "cell_type": "markdown",
   "id": "6b780b96-e247-429e-a452-4a778b3bcb68",
   "metadata": {},
   "source": [
    "### 求特征值和特征向量"
   ]
  },
  {
   "cell_type": "code",
   "execution_count": 54,
   "id": "c9c40c39-d858-4a0e-aad8-eddac1714ee2",
   "metadata": {},
   "outputs": [
    {
     "name": "stdout",
     "output_type": "stream",
     "text": [
      "a:\n",
      "[[78.8310326  95.7141881  84.66118908]\n",
      " [60.48908132 60.60010609 68.85203477]\n",
      " [93.51518339 82.00970032 18.8457177 ]]\n",
      "eigen value:\n",
      "[215.66389447  -8.80729863 -48.57973945]\n",
      "eigen vector:\n",
      "[[-0.68102268 -0.59723221 -0.28556351]\n",
      " [-0.50226364  0.76368417 -0.39300418]\n",
      " [-0.53285958 -0.24515337  0.87407162]]\n"
     ]
    }
   ],
   "source": [
    "a = np.random.rand(3,3)*100\n",
    "print(\"a:\")\n",
    "print(a)\n",
    "eig_value, eig_vector = nlg.eig(a)\n",
    "print(\"eigen value:\")\n",
    "print(eig_value)\n",
    "print(\"eigen vector:\")\n",
    "print(eig_vector)"
   ]
  },
  {
   "cell_type": "markdown",
   "id": "f2ffa347-27da-455c-b7cb-bbb685769188",
   "metadata": {},
   "source": [
    "### 拼接两个向量成一个矩阵\n",
    "\n",
    "按列拼接两个向量成一个矩阵"
   ]
  },
  {
   "cell_type": "code",
   "execution_count": 55,
   "id": "c74fa705-4eb3-4b39-87c3-43c11becb613",
   "metadata": {},
   "outputs": [
    {
     "name": "stdout",
     "output_type": "stream",
     "text": [
      "[[1 2]\n",
      " [2 3]\n",
      " [3 4]]\n"
     ]
    }
   ],
   "source": [
    "a = np.array((1,2,3))\n",
    "b = np.array((2,3,4))\n",
    "print(np.column_stack((a,b)))"
   ]
  },
  {
   "cell_type": "markdown",
   "id": "b37966aa-907f-4ece-bfb3-2955fdc89b19",
   "metadata": {},
   "source": [
    "在循环处理某些数据得到结果后，将结果拼接成一个矩阵是十分有用的，可以通过`vstack`和`hstack`完成"
   ]
  },
  {
   "cell_type": "code",
   "execution_count": 56,
   "id": "a73e56c0-b6e0-41bf-905b-cbef2809043d",
   "metadata": {},
   "outputs": [
    {
     "name": "stdout",
     "output_type": "stream",
     "text": [
      "a:\n",
      "[[0.97889738 0.40239398]\n",
      " [0.05893537 0.64954541]]\n",
      "b:\n",
      "[[0.97889738 0.40239398]\n",
      " [0.05893537 0.64954541]]\n",
      "horizontal stacking a and b:\n",
      "[[0.97889738 0.40239398 0.3555438  0.84473964]\n",
      " [0.05893537 0.64954541 0.4056501  0.10771578]]\n",
      "vertical stacking a and b:\n",
      "[[0.97889738 0.40239398]\n",
      " [0.05893537 0.64954541]\n",
      " [0.3555438  0.84473964]\n",
      " [0.4056501  0.10771578]]\n"
     ]
    }
   ],
   "source": [
    "a = np.random.rand(2,2)\n",
    "b = np.random.rand(2,2)\n",
    "print(\"a:\")\n",
    "print(a)\n",
    "print(\"b:\")\n",
    "print(a)\n",
    "\n",
    "c = np.hstack([a,b])\n",
    "d = np.vstack([a,b])\n",
    "print(\"horizontal stacking a and b:\")\n",
    "print(c)\n",
    "print(\"vertical stacking a and b:\")\n",
    "print(d)"
   ]
  },
  {
   "cell_type": "markdown",
   "id": "af897d62-ff3a-47f5-b6c1-04dcd9487e3f",
   "metadata": {},
   "source": [
    "## 缺失值\n",
    "\n",
    "缺失值在分析中也是信息的一种，`NumPy`提供`nan`作为缺失值的记录，通过`isnan`判定。"
   ]
  },
  {
   "cell_type": "code",
   "execution_count": 57,
   "id": "d9bbf570-3df8-4b1f-82f6-d9fb16d3a6d5",
   "metadata": {},
   "outputs": [
    {
     "name": "stdout",
     "output_type": "stream",
     "text": [
      "[[False  True]\n",
      " [False False]]\n"
     ]
    }
   ],
   "source": [
    "a = np.random.rand(2,2)\n",
    "a[0, 1] = np.nan\n",
    "print(np.isnan(a))"
   ]
  },
  {
   "cell_type": "markdown",
   "id": "98a388da-613b-4a58-8026-2f8e44fd0f70",
   "metadata": {},
   "source": [
    "`nan_to_num`可用来将`nan`替换成`0`，在后面会介绍到的更高级的模块`pandas`时，我们将看到`pandas`提供能指定`nan`替换值的函数。"
   ]
  },
  {
   "cell_type": "code",
   "execution_count": 59,
   "id": "0f852302-96f5-4ebd-8f7a-ec251f5fee1d",
   "metadata": {},
   "outputs": [
    {
     "name": "stdout",
     "output_type": "stream",
     "text": [
      "[[0.8902789  0.        ]\n",
      " [0.74776932 0.58574607]]\n"
     ]
    }
   ],
   "source": [
    "print(np.nan_to_num(a))"
   ]
  },
  {
   "cell_type": "code",
   "execution_count": null,
   "id": "533834ad-2435-4b52-8b52-8a52e97a2e0d",
   "metadata": {},
   "outputs": [],
   "source": []
  }
 ],
 "metadata": {
  "kernelspec": {
   "display_name": "Python 3 (ipykernel)",
   "language": "python",
   "name": "python3"
  },
  "language_info": {
   "codemirror_mode": {
    "name": "ipython",
    "version": 3
   },
   "file_extension": ".py",
   "mimetype": "text/x-python",
   "name": "python",
   "nbconvert_exporter": "python",
   "pygments_lexer": "ipython3",
   "version": "3.12.9"
  }
 },
 "nbformat": 4,
 "nbformat_minor": 5
}
