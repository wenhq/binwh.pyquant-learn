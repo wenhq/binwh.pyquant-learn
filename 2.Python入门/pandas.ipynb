{
 "cells": [
  {
   "cell_type": "markdown",
   "id": "32d28f4e",
   "metadata": {},
   "source": [
    "# 基本数据结构介绍\n",
    "## Pandas 介绍\n",
    "\n",
    "在处理实际的金融数据时，一个条数据通常包含了多种类型的数据，例如，股票的代码是字符串，收盘价是浮点型，而成交量是整型等。\n",
    "\n",
    "在 Python 中，`pandas`包含了高级的数据结构`Series`和`DataFrame`，使得在 Python 中处理数据变得非常方便、快速和简单。"
   ]
  },
  {
   "cell_type": "code",
   "execution_count": 2,
   "id": "2ad5288d",
   "metadata": {},
   "outputs": [
    {
     "name": "stdout",
     "output_type": "stream",
     "text": [
      "2.2.3\n"
     ]
    }
   ],
   "source": [
    "import pandas as pd\n",
    "print(pd.__version__)"
   ]
  },
  {
   "cell_type": "markdown",
   "id": "a18f98ed",
   "metadata": {},
   "source": [
    "`pandas`主要的两个数据结构是`Series`和`DataFrame`，随后两节将介绍如何由其他类型的数据结构得到这两种数据结构，或者自行创建这两种数据结构，我们先导入它们以及相关模块："
   ]
  },
  {
   "cell_type": "code",
   "execution_count": 3,
   "id": "c22b86d1",
   "metadata": {},
   "outputs": [],
   "source": [
    "import numpy as np\n",
    "from pandas import Series, DataFrame"
   ]
  },
  {
   "cell_type": "markdown",
   "id": "5641df8f",
   "metadata": {},
   "source": [
    "## Pandas数据结构：`Series`"
   ]
  },
  {
   "cell_type": "markdown",
   "id": "a788ad7b",
   "metadata": {},
   "source": []
  }
 ],
 "metadata": {
  "kernelspec": {
   "display_name": "base",
   "language": "python",
   "name": "python3"
  },
  "language_info": {
   "codemirror_mode": {
    "name": "ipython",
    "version": 3
   },
   "file_extension": ".py",
   "mimetype": "text/x-python",
   "name": "python",
   "nbconvert_exporter": "python",
   "pygments_lexer": "ipython3",
   "version": "3.9.23"
  }
 },
 "nbformat": 4,
 "nbformat_minor": 5
}
