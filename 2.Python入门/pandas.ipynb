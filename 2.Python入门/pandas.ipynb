{
 "cells": [
  {
   "cell_type": "markdown",
   "id": "32d28f4e",
   "metadata": {},
   "source": [
    "# 基本数据结构介绍\n",
    "## Pandas 介绍\n",
    "\n",
    "在处理实际的金融数据时，一个条数据通常包含了多种类型的数据，例如，股票的代码是字符串，收盘价是浮点型，而成交量是整型等。\n",
    "\n",
    "在 Python 中，`pandas`包含了高级的数据结构`Series`和`DataFrame`，使得在 Python 中处理数据变得非常方便、快速和简单。"
   ]
  },
  {
   "cell_type": "code",
   "execution_count": 30,
   "id": "2ad5288d",
   "metadata": {},
   "outputs": [
    {
     "name": "stdout",
     "output_type": "stream",
     "text": [
      "2.2.3\n"
     ]
    }
   ],
   "source": [
    "import pandas as pd\n",
    "print(pd.__version__)"
   ]
  },
  {
   "cell_type": "markdown",
   "id": "a18f98ed",
   "metadata": {},
   "source": [
    "`pandas`主要的两个数据结构是`Series`和`DataFrame`，随后两节将介绍如何由其他类型的数据结构得到这两种数据结构，或者自行创建这两种数据结构，我们先导入它们以及相关模块："
   ]
  },
  {
   "cell_type": "code",
   "execution_count": 2,
   "id": "c22b86d1",
   "metadata": {},
   "outputs": [],
   "source": [
    "import numpy as np\n",
    "from pandas import Series, DataFrame"
   ]
  },
  {
   "cell_type": "markdown",
   "id": "5641df8f",
   "metadata": {},
   "source": [
    "## Pandas数据结构：`Series`\n",
    "\n",
    "`Series`可以简单地被认为是一维的数组。`Series`和一维数组最主要的区别在于`Series`类型具有索引（`index`），可以和另一个编程中常见的数据结构哈希（`Hash`）联系起来。\n",
    "\n",
    "### 创建 `Series`\n",
    "\n",
    "创建一个`Series`的基本格式是 `s = Series(data, index=index, name=name)`"
   ]
  },
  {
   "cell_type": "code",
   "execution_count": 7,
   "id": "a788ad7b",
   "metadata": {},
   "outputs": [
    {
     "name": "stdout",
     "output_type": "stream",
     "text": [
      "a is an array:\n",
      "[-0.15288904 -1.54370324 -0.13882122  0.18071673  0.14327114]\n",
      "s is a Series:\n",
      "0   -0.152889\n",
      "1   -1.543703\n",
      "2   -0.138821\n",
      "3    0.180717\n",
      "4    0.143271\n",
      "dtype: float64\n"
     ]
    }
   ],
   "source": [
    "a = np.random.randn(5)\n",
    "print(\"a is an array:\")\n",
    "print(a)\n",
    "s = Series(a)\n",
    "print(\"s is a Series:\")\n",
    "print(s)"
   ]
  },
  {
   "cell_type": "markdown",
   "id": "4a54b24d",
   "metadata": {},
   "source": [
    "创建`Series`时添加`index`，`index`长度要和`data`的长度一致"
   ]
  },
  {
   "cell_type": "code",
   "execution_count": 8,
   "id": "f329424a",
   "metadata": {},
   "outputs": [
    {
     "name": "stdout",
     "output_type": "stream",
     "text": [
      "a   -0.152889\n",
      "b   -1.543703\n",
      "c   -0.138821\n",
      "d    0.180717\n",
      "e    0.143271\n",
      "dtype: float64\n",
      "Index(['a', 'b', 'c', 'd', 'e'], dtype='object')\n"
     ]
    }
   ],
   "source": [
    "s = Series(a, index=['a', 'b', 'c', 'd', 'e'])\n",
    "print (s)\n",
    "print (s.index)"
   ]
  },
  {
   "cell_type": "markdown",
   "id": "bfd5f964",
   "metadata": {},
   "source": [
    "指定`Series`的名称，可用`Series.name`访问"
   ]
  },
  {
   "cell_type": "code",
   "execution_count": 9,
   "id": "d5ccea19",
   "metadata": {},
   "outputs": [
    {
     "name": "stdout",
     "output_type": "stream",
     "text": [
      "a   -0.152889\n",
      "b   -1.543703\n",
      "c   -0.138821\n",
      "d    0.180717\n",
      "e    0.143271\n",
      "Name: my_series, dtype: float64\n",
      "my_series\n"
     ]
    }
   ],
   "source": [
    "s = Series(a, index=['a', 'b', 'c', 'd', 'e'], name='my_series')\n",
    "print (s)\n",
    "print (s.name)"
   ]
  },
  {
   "cell_type": "markdown",
   "id": "0c7cda8b",
   "metadata": {},
   "source": [
    "`Series`还可以从字典（`dict`）创建"
   ]
  },
  {
   "cell_type": "code",
   "execution_count": 12,
   "id": "e9ab5559",
   "metadata": {},
   "outputs": [
    {
     "name": "stdout",
     "output_type": "stream",
     "text": [
      "d is a dict:\n",
      "{'a': 0.0, 'b': 1, 'c': 2}\n",
      "s is a Series:\n",
      "a    0.0\n",
      "b    1.0\n",
      "c    2.0\n",
      "dtype: float64\n"
     ]
    }
   ],
   "source": [
    "d = {'a': 0., 'b': 1, 'c': 2}\n",
    "print (\"d is a dict:\")\n",
    "print (d)\n",
    "s = Series(d)\n",
    "print (\"s is a Series:\")\n",
    "print (s)"
   ]
  },
  {
   "cell_type": "markdown",
   "id": "3f9d9d20",
   "metadata": {},
   "source": [
    "使用字典创建`Series`时指定`index`的情形（`index`长度不必和字典相同）\n",
    "\n",
    "- 数据将按`index`的顺序重新排列\n",
    "- 自动为多余的`index`分配`NaN`"
   ]
  },
  {
   "cell_type": "code",
   "execution_count": 14,
   "id": "85bbbf5d",
   "metadata": {},
   "outputs": [
    {
     "data": {
      "text/plain": [
       "b    1.0\n",
       "c    2.0\n",
       "d    NaN\n",
       "a    0.0\n",
       "dtype: float64"
      ]
     },
     "execution_count": 14,
     "metadata": {},
     "output_type": "execute_result"
    }
   ],
   "source": [
    "Series(d, index=['b', 'c', 'd', 'a'])"
   ]
  },
  {
   "cell_type": "markdown",
   "id": "37205894",
   "metadata": {},
   "source": [
    "### `Series`数据的访问"
   ]
  },
  {
   "cell_type": "code",
   "execution_count": 22,
   "id": "e7efcc85",
   "metadata": {},
   "outputs": [
    {
     "name": "stdout",
     "output_type": "stream",
     "text": [
      "-1.2138966840433532\n",
      "a   -1.213897\n",
      "b    0.564319\n",
      "dtype: float64\n",
      "c    0.387988\n",
      "a   -1.213897\n",
      "e   -0.232014\n",
      "dtype: float64\n",
      "e   -0.232014\n",
      "i    1.006628\n",
      "dtype: float64\n",
      "b    0.564319\n",
      "i    1.006628\n",
      "dtype: float64\n",
      "True\n"
     ]
    }
   ],
   "source": [
    "s = Series(np.random.randn(10),index=['a', 'b', 'c', 'd', 'e', 'f', 'g', 'h', 'i', 'j'])\n",
    "\n",
    "print(s.iloc[0]) # 过时的写法 print(s[0])\n",
    "print(s.iloc[:2]) # 过时的写法 print(s[:2])\n",
    "print(s.iloc[[2,0,4]]) # 过时的写法 print(s[[2,0,4]])\n",
    "print(s[['e', 'i']])\n",
    "print(s[s > 0.5])\n",
    "print('e' in s)"
   ]
  },
  {
   "cell_type": "markdown",
   "id": "94e9ad26",
   "metadata": {},
   "source": [
    "## Pandas数据结构：`DataFrame`\n",
    "\n",
    "`DataFrame`的优势在于可以方便地处理不同类型的列，因此，就不要考虑如何对一个全是浮点数的`DataFrame`求逆之类的问题了，处理这种问题还是把数据存成`NumPy`的`matrix`类型比较便利一些。\n",
    "\n",
    "### 创建`DataFrame`\n",
    "\n",
    "`DataFrame`是一个二维的数据结构，是多个`Series`的集合体。我们先创建一个值是`Series`的字典，并转换为`DataFrame`。"
   ]
  },
  {
   "cell_type": "code",
   "execution_count": 23,
   "id": "f0485f95",
   "metadata": {},
   "outputs": [
    {
     "name": "stdout",
     "output_type": "stream",
     "text": [
      "   one  two\n",
      "a  1.0  1.0\n",
      "b  2.0  2.0\n",
      "c  3.0  3.0\n",
      "d  NaN  4.0\n"
     ]
    }
   ],
   "source": [
    "d = {'one': Series([1., 2., 3.], index=['a', 'b', 'c']), 'two': Series([1., 2., 3., 4.], index=['a', 'b', 'c', 'd'])}\n",
    "df = DataFrame(d)\n",
    "print (df)"
   ]
  },
  {
   "cell_type": "code",
   "execution_count": 24,
   "id": "34a3966d",
   "metadata": {},
   "outputs": [
    {
     "name": "stdout",
     "output_type": "stream",
     "text": [
      "   two three\n",
      "r  NaN   NaN\n",
      "d  4.0   NaN\n",
      "a  1.0   NaN\n"
     ]
    }
   ],
   "source": [
    "df = DataFrame(d, index=['r', 'd', 'a'], columns=['two', 'three'])\n",
    "print (df)"
   ]
  },
  {
   "cell_type": "code",
   "execution_count": 25,
   "id": "2bcf4e80",
   "metadata": {},
   "outputs": [
    {
     "name": "stdout",
     "output_type": "stream",
     "text": [
      "DataFrame index:\n",
      "Index(['r', 'd', 'a'], dtype='object')\n",
      "DataFrame columns:\n",
      "Index(['two', 'three'], dtype='object')\n",
      "DataFrame values:\n",
      "[[nan nan]\n",
      " [4.0 nan]\n",
      " [1.0 nan]]\n"
     ]
    }
   ],
   "source": [
    "print (\"DataFrame index:\")\n",
    "print (df.index)\n",
    "print (\"DataFrame columns:\")\n",
    "print (df.columns)\n",
    "print (\"DataFrame values:\")\n",
    "print (df.values)"
   ]
  },
  {
   "cell_type": "markdown",
   "id": "496aed72",
   "metadata": {},
   "source": [
    "`DataFrame`也可以从值是数组的字典创建，但是各个数组的长度需要相同"
   ]
  },
  {
   "cell_type": "code",
   "execution_count": 26,
   "id": "8095d079",
   "metadata": {},
   "outputs": [
    {
     "name": "stdout",
     "output_type": "stream",
     "text": [
      "   one  two\n",
      "a  1.0  4.0\n",
      "b  2.0  3.0\n",
      "c  3.0  2.0\n",
      "d  4.0  1.0\n"
     ]
    }
   ],
   "source": [
    "d = {'one': [1., 2., 3., 4.], 'two': [4., 3., 2., 1.]}\n",
    "df = DataFrame(d, index=['a', 'b', 'c', 'd'])\n",
    "print (df)\n"
   ]
  },
  {
   "cell_type": "markdown",
   "id": "6d3752e3",
   "metadata": {},
   "source": [
    "值非数组时，没有这一限制，并且缺失值补成`NaN`"
   ]
  },
  {
   "cell_type": "code",
   "execution_count": 27,
   "id": "c0e9f59b",
   "metadata": {},
   "outputs": [
    {
     "name": "stdout",
     "output_type": "stream",
     "text": [
      "     a  b    c\n",
      "0  1.6  2  NaN\n",
      "1  3.0  6  9.0\n"
     ]
    }
   ],
   "source": [
    "d= [{'a': 1.6, 'b': 2}, {'a': 3, 'b': 6, 'c': 9}]\n",
    "df = DataFrame(d)\n",
    "print (df)"
   ]
  },
  {
   "cell_type": "markdown",
   "id": "78d0058b",
   "metadata": {},
   "source": [
    "创建一个空的`DataFrame`"
   ]
  },
  {
   "cell_type": "code",
   "execution_count": 28,
   "id": "9a0b1f18",
   "metadata": {},
   "outputs": [
    {
     "name": "stdout",
     "output_type": "stream",
     "text": [
      "Empty DataFrame\n",
      "Columns: []\n",
      "Index: []\n"
     ]
    }
   ],
   "source": [
    "df = DataFrame()\n",
    "print (df)"
   ]
  },
  {
   "cell_type": "markdown",
   "id": "4a6a16ad",
   "metadata": {},
   "source": [
    "连接的方式创建`DataFrame`的方法十分有用，那就是使用`concat`函数基于`Series`或者`DataFrame`创建一个`DataFrame`"
   ]
  },
  {
   "cell_type": "code",
   "execution_count": 31,
   "id": "70c48c0e",
   "metadata": {},
   "outputs": [
    {
     "name": "stdout",
     "output_type": "stream",
     "text": [
      "   0     1\n",
      "0  0   4.0\n",
      "1  1   8.0\n",
      "2  2  12.0\n",
      "3  3  16.0\n",
      "4  4  20.0\n"
     ]
    }
   ],
   "source": [
    "a = Series(range(5))\n",
    "b = Series(np.linspace(4, 20, 5))\n",
    "df = pd.concat([a, b], axis=1)\n",
    "print (df)"
   ]
  },
  {
   "cell_type": "markdown",
   "id": "5c97c20e",
   "metadata": {},
   "source": [
    "其中的`axis=1`表示按列进行合并，`axis=0`表示按行合并，并且，`Series`都处理成一列，所以这里如果选`axis=0`的话，将得到一个`10×1`的`DataFrame`。\n",
    "\n",
    "下面这个例子展示了如何按行合并`DataFrame`成一个大的`DataFrame`："
   ]
  },
  {
   "cell_type": "code",
   "execution_count": 32,
   "id": "23424530",
   "metadata": {},
   "outputs": [
    {
     "name": "stdout",
     "output_type": "stream",
     "text": [
      "         0    1     2     3     4\n",
      "alpha  0.0  0.0   0.0   0.0   0.0\n",
      "beta   1.0  2.0   3.0   4.0   5.0\n",
      "gamma  2.0  4.0   6.0   8.0  10.0\n",
      "delta  3.0  6.0   9.0  12.0  15.0\n",
      "eta    4.0  8.0  12.0  16.0  20.0\n"
     ]
    }
   ],
   "source": [
    "df = DataFrame()\n",
    "index = ['alpha', 'beta', 'gamma', 'delta', 'eta']\n",
    "for i in range(5):\n",
    "    a = DataFrame([np.linspace(i, 5*i, 5)], index=[index[i]])\n",
    "    df = pd.concat([df, a], axis=0)\n",
    "print (df)"
   ]
  },
  {
   "cell_type": "markdown",
   "id": "5e6fbef3",
   "metadata": {},
   "source": [
    "### `DataFrame`数据的访问\n",
    "\n",
    "再强调一下`DataFrame`是以列作为操作的基础的，全部操作都想象成先从`DataFrame`里取一列，再从这个`Series`取元素即可。可以用`dataframe.column_name`选取列，也可以使用`dataframe[]`操作选取列，我们可以马上发现前一种方法只能选取一列，而后一种方法可以选择多列。若`DataFrame`没有列名，`[]`可以使用非负整数，也就是“下标”选取列；若有列名，则必须使用列名选取，另外`dataframe.column_name`在没有列名的时候是无效的。"
   ]
  },
  {
   "cell_type": "code",
   "execution_count": 33,
   "id": "3c9c2652",
   "metadata": {},
   "outputs": [
    {
     "name": "stdout",
     "output_type": "stream",
     "text": [
      "alpha    0.0\n",
      "beta     2.0\n",
      "gamma    4.0\n",
      "delta    6.0\n",
      "eta      8.0\n",
      "Name: 1, dtype: float64\n",
      "<class 'pandas.core.series.Series'>\n",
      "alpha    0.0\n",
      "beta     2.0\n",
      "gamma    4.0\n",
      "delta    6.0\n",
      "eta      8.0\n",
      "Name: b, dtype: float64\n",
      "<class 'pandas.core.series.Series'>\n",
      "alpha    0.0\n",
      "beta     2.0\n",
      "gamma    4.0\n",
      "delta    6.0\n",
      "eta      8.0\n",
      "Name: b, dtype: float64\n",
      "<class 'pandas.core.series.Series'>\n",
      "         a     d\n",
      "alpha  0.0   0.0\n",
      "beta   1.0   4.0\n",
      "gamma  2.0   8.0\n",
      "delta  3.0  12.0\n",
      "eta    4.0  16.0\n",
      "<class 'pandas.core.frame.DataFrame'>\n"
     ]
    }
   ],
   "source": [
    "print(df[1])\n",
    "print(type(df[1]))\n",
    "df.columns = ['a', 'b', 'c', 'd', 'e']\n",
    "print(df['b'])\n",
    "print(type(df['b']))\n",
    "print(df.b)\n",
    "print(type(df.b))\n",
    "print(df[['a', 'd']])\n",
    "print(type(df[['a', 'd']]))"
   ]
  },
  {
   "cell_type": "markdown",
   "id": "65f49f27",
   "metadata": {},
   "source": [
    "单独取一列出来，其数据结构显示的是`Series`，取两列及两列以上的结果仍然是`DataFrame`。访问特定的元素可以如`Series`一样使用下标或者是索引。"
   ]
  },
  {
   "cell_type": "code",
   "execution_count": 38,
   "id": "8f5eaea2",
   "metadata": {},
   "outputs": [
    {
     "name": "stdout",
     "output_type": "stream",
     "text": [
      "4.0\n",
      "4.0\n"
     ]
    }
   ],
   "source": [
    "print (df['b'].iloc[2]) # 过时写法 print (df['b'][2])\n",
    "print (df['b']['gamma'])"
   ]
  },
  {
   "cell_type": "markdown",
   "id": "b63039c1",
   "metadata": {},
   "source": [
    "若需要选取行，可以使用`dataframe.iloc`按下标选取，或者使用`dataframe.loc`按索引选取。"
   ]
  },
  {
   "cell_type": "code",
   "execution_count": 39,
   "id": "9dd0f3bb",
   "metadata": {},
   "outputs": [
    {
     "name": "stdout",
     "output_type": "stream",
     "text": [
      "a    1.0\n",
      "b    2.0\n",
      "c    3.0\n",
      "d    4.0\n",
      "e    5.0\n",
      "Name: beta, dtype: float64\n",
      "a    1.0\n",
      "b    2.0\n",
      "c    3.0\n",
      "d    4.0\n",
      "e    5.0\n",
      "Name: beta, dtype: float64\n"
     ]
    }
   ],
   "source": [
    "print (df.iloc[1])\n",
    "print (df.loc['beta'])"
   ]
  },
  {
   "cell_type": "markdown",
   "id": "96c15a7d",
   "metadata": {},
   "source": [
    "选取行还可以使用切片的方式或者是布尔类型的向量"
   ]
  },
  {
   "cell_type": "code",
   "execution_count": 40,
   "id": "c23ffc8a",
   "metadata": {},
   "outputs": [
    {
     "name": "stdout",
     "output_type": "stream",
     "text": [
      "Selecting by slices:\n",
      "         a    b    c    d     e\n",
      "beta   1.0  2.0  3.0  4.0   5.0\n",
      "gamma  2.0  4.0  6.0  8.0  10.0\n",
      "Selecting by boolean vector:\n",
      "         a    b    c     d     e\n",
      "alpha  0.0  0.0  0.0   0.0   0.0\n",
      "gamma  2.0  4.0  6.0   8.0  10.0\n",
      "delta  3.0  6.0  9.0  12.0  15.0\n"
     ]
    }
   ],
   "source": [
    "print (\"Selecting by slices:\")\n",
    "print (df[1:3])\n",
    "bool_vec = [True, False, True, True, False]\n",
    "print (\"Selecting by boolean vector:\")\n",
    "print (df[bool_vec])"
   ]
  },
  {
   "cell_type": "markdown",
   "id": "b974b454",
   "metadata": {},
   "source": [
    "行列组合起来选取数据"
   ]
  },
  {
   "cell_type": "code",
   "execution_count": 41,
   "id": "b1cc25be",
   "metadata": {},
   "outputs": [
    {
     "name": "stdout",
     "output_type": "stream",
     "text": [
      "         b     d\n",
      "beta   2.0   4.0\n",
      "delta  6.0  12.0\n",
      "         b     d\n",
      "beta   2.0   4.0\n",
      "delta  6.0  12.0\n",
      "         b     d\n",
      "beta   2.0   4.0\n",
      "delta  6.0  12.0\n",
      "         b     d\n",
      "beta   2.0   4.0\n",
      "delta  6.0  12.0\n"
     ]
    }
   ],
   "source": [
    "print (df[['b', 'd']].iloc[[1, 3]])\n",
    "print (df.iloc[[1, 3]][['b', 'd']])\n",
    "print (df[['b', 'd']].loc[['beta', 'delta']])\n",
    "print (df.loc[['beta', 'delta']][['b', 'd']])"
   ]
  },
  {
   "cell_type": "markdown",
   "id": "4177ce84",
   "metadata": {},
   "source": [
    "如果不是需要访问特定行列，而只是某个特殊位置的元素的话，`dataframe.at`和`dataframe.iat`是最快的方式，它们分别用于使用索引和下标进行访问"
   ]
  },
  {
   "cell_type": "code",
   "execution_count": 42,
   "id": "b7c9a515",
   "metadata": {},
   "outputs": [
    {
     "name": "stdout",
     "output_type": "stream",
     "text": [
      "8.0\n",
      "8.0\n"
     ]
    }
   ],
   "source": [
    "print(df.iat[2, 3])\n",
    "print(df.at['gamma', 'd'])"
   ]
  },
  {
   "cell_type": "markdown",
   "id": "7a326c67",
   "metadata": {},
   "source": [
    "`dataframe.ix`可以混合使用索引和下标进行访问，唯一需要注意的地方是行列内部需要一致，不可以同时使用索引和标签访问行或者列，不然的话，将会得到意外的结果：\n",
    "\n",
    "但是报错了：\n",
    ">'DataFrame' object has no attribute 'ix'"
   ]
  },
  {
   "cell_type": "code",
   "execution_count": 43,
   "id": "a8db026b",
   "metadata": {},
   "outputs": [
    {
     "ename": "AttributeError",
     "evalue": "'DataFrame' object has no attribute 'ix'",
     "output_type": "error",
     "traceback": [
      "\u001b[1;31m---------------------------------------------------------------------------\u001b[0m",
      "\u001b[1;31mAttributeError\u001b[0m                            Traceback (most recent call last)",
      "\u001b[1;32m~\\AppData\\Local\\Temp\\ipykernel_31532\\1356787218.py\u001b[0m in \u001b[0;36m?\u001b[1;34m()\u001b[0m\n\u001b[1;32m----> 1\u001b[1;33m \u001b[0mprint\u001b[0m \u001b[1;33m(\u001b[0m\u001b[0mdf\u001b[0m\u001b[1;33m.\u001b[0m\u001b[0mix\u001b[0m\u001b[1;33m[\u001b[0m\u001b[1;34m'gamma'\u001b[0m\u001b[1;33m,\u001b[0m \u001b[1;36m4\u001b[0m\u001b[1;33m]\u001b[0m\u001b[1;33m)\u001b[0m\u001b[1;33m\u001b[0m\u001b[1;33m\u001b[0m\u001b[0m\n\u001b[0m\u001b[0;32m      2\u001b[0m \u001b[0mprint\u001b[0m \u001b[1;33m(\u001b[0m\u001b[0mdf\u001b[0m\u001b[1;33m.\u001b[0m\u001b[0mix\u001b[0m\u001b[1;33m[\u001b[0m\u001b[1;33m[\u001b[0m\u001b[1;34m'delta'\u001b[0m\u001b[1;33m,\u001b[0m \u001b[1;34m'gamma'\u001b[0m\u001b[1;33m]\u001b[0m\u001b[1;33m,\u001b[0m \u001b[1;33m[\u001b[0m\u001b[1;36m1\u001b[0m\u001b[1;33m,\u001b[0m \u001b[1;36m4\u001b[0m\u001b[1;33m]\u001b[0m\u001b[1;33m]\u001b[0m\u001b[1;33m)\u001b[0m\u001b[1;33m\u001b[0m\u001b[1;33m\u001b[0m\u001b[0m\n\u001b[0;32m      3\u001b[0m \u001b[0mprint\u001b[0m \u001b[1;33m(\u001b[0m\u001b[0mdf\u001b[0m\u001b[1;33m.\u001b[0m\u001b[0mix\u001b[0m\u001b[1;33m[\u001b[0m\u001b[1;33m[\u001b[0m\u001b[1;36m1\u001b[0m\u001b[1;33m,\u001b[0m \u001b[1;36m2\u001b[0m\u001b[1;33m]\u001b[0m\u001b[1;33m,\u001b[0m \u001b[1;33m[\u001b[0m\u001b[1;34m'b'\u001b[0m\u001b[1;33m,\u001b[0m \u001b[1;34m'e'\u001b[0m\u001b[1;33m]\u001b[0m\u001b[1;33m]\u001b[0m\u001b[1;33m)\u001b[0m\u001b[1;33m\u001b[0m\u001b[1;33m\u001b[0m\u001b[0m\n\u001b[0;32m      4\u001b[0m \u001b[0mprint\u001b[0m \u001b[1;33m(\u001b[0m\u001b[1;34m\"Unwanted result:\"\u001b[0m\u001b[1;33m)\u001b[0m\u001b[1;33m\u001b[0m\u001b[1;33m\u001b[0m\u001b[0m\n",
      "\u001b[1;32md:\\Program Files\\Scoop\\apps\\anaconda3-2022.05\\2022.05\\lib\\site-packages\\pandas\\core\\generic.py\u001b[0m in \u001b[0;36m?\u001b[1;34m(self, name)\u001b[0m\n\u001b[0;32m   6295\u001b[0m             \u001b[1;32mand\u001b[0m \u001b[0mname\u001b[0m \u001b[1;32mnot\u001b[0m \u001b[1;32min\u001b[0m \u001b[0mself\u001b[0m\u001b[1;33m.\u001b[0m\u001b[0m_accessors\u001b[0m\u001b[1;33m\u001b[0m\u001b[1;33m\u001b[0m\u001b[0m\n\u001b[0;32m   6296\u001b[0m             \u001b[1;32mand\u001b[0m \u001b[0mself\u001b[0m\u001b[1;33m.\u001b[0m\u001b[0m_info_axis\u001b[0m\u001b[1;33m.\u001b[0m\u001b[0m_can_hold_identifiers_and_holds_name\u001b[0m\u001b[1;33m(\u001b[0m\u001b[0mname\u001b[0m\u001b[1;33m)\u001b[0m\u001b[1;33m\u001b[0m\u001b[1;33m\u001b[0m\u001b[0m\n\u001b[0;32m   6297\u001b[0m         ):\n\u001b[0;32m   6298\u001b[0m             \u001b[1;32mreturn\u001b[0m \u001b[0mself\u001b[0m\u001b[1;33m[\u001b[0m\u001b[0mname\u001b[0m\u001b[1;33m]\u001b[0m\u001b[1;33m\u001b[0m\u001b[1;33m\u001b[0m\u001b[0m\n\u001b[1;32m-> 6299\u001b[1;33m         \u001b[1;32mreturn\u001b[0m \u001b[0mobject\u001b[0m\u001b[1;33m.\u001b[0m\u001b[0m__getattribute__\u001b[0m\u001b[1;33m(\u001b[0m\u001b[0mself\u001b[0m\u001b[1;33m,\u001b[0m \u001b[0mname\u001b[0m\u001b[1;33m)\u001b[0m\u001b[1;33m\u001b[0m\u001b[1;33m\u001b[0m\u001b[0m\n\u001b[0m",
      "\u001b[1;31mAttributeError\u001b[0m: 'DataFrame' object has no attribute 'ix'"
     ]
    }
   ],
   "source": [
    "print (df.ix['gamma', 4])\n",
    "print (df.ix[['delta', 'gamma'], [1, 4]])\n",
    "print (df.ix[[1, 2], ['b', 'e']])\n",
    "print (\"Unwanted result:\")\n",
    "print (df.ix[['beta', 2], ['b', 'e']])\n",
    "print (df.ix[[1, 2], ['b', 4]])"
   ]
  },
  {
   "cell_type": "code",
   "execution_count": null,
   "id": "6e82c53f",
   "metadata": {},
   "outputs": [],
   "source": []
  }
 ],
 "metadata": {
  "kernelspec": {
   "display_name": "base",
   "language": "python",
   "name": "python3"
  },
  "language_info": {
   "codemirror_mode": {
    "name": "ipython",
    "version": 3
   },
   "file_extension": ".py",
   "mimetype": "text/x-python",
   "name": "python",
   "nbconvert_exporter": "python",
   "pygments_lexer": "ipython3",
   "version": "3.9.23"
  }
 },
 "nbformat": 4,
 "nbformat_minor": 5
}
