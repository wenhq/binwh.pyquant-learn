{
 "cells": [
  {
   "cell_type": "markdown",
   "id": "0fefd7c2-2e84-4611-9c81-860e6e196a09",
   "metadata": {},
   "source": [
    "# Python入门学习\n",
    "\n",
    "参考资料：\n",
    "- [Python 量化交易教程](https://www.kancloud.cn/wizardforcel/python-quant-uqer/186107)\n",
    "\n",
    "## 基础"
   ]
  },
  {
   "cell_type": "markdown",
   "id": "84ffb3de-5a1c-4159-8bd0-4d2dd106f2f3",
   "metadata": {},
   "source": [
    "## 容器\n",
    "\n",
    "Python中有一种名为容器的数据结构，顾名思义，容器，就是装数据的器具，它主要包括序列和词典，其中序列又主要包括列表、元组、字符串等。\n",
    "\n",
    "![](https://box.kancloud.cn/2016-07-31_579d79fdbc8c5.jpg)\n",
    "\n",
    "- 列表的基本形式比如：[1,3,6,10]或者[‘yes’,’no’,’OK’]\n",
    "\n",
    "- 元组的基本形式比如：(1,3,6,10)或者(‘yes’,’no’,’OK’)\n",
    "\n",
    "- 字符串的基本形式比如：’hello’\n",
    "\n",
    "- 而与序列对应的“字典”则不一样，它是一个无序的容器，它的基本形式比如：d={7:'seven',8:'eight',9:'nine'}  这是一个“键—值”映射的结构，因此字典不能通过索引来访问其中的元素，而要根据键来访问其中的元素"
   ]
  },
  {
   "cell_type": "code",
   "execution_count": 2,
   "id": "7a1941ff-75ca-4bc0-b9e4-4fd9f87088c6",
   "metadata": {},
   "outputs": [
    {
     "data": {
      "text/plain": [
       "6"
      ]
     },
     "execution_count": 2,
     "metadata": {},
     "output_type": "execute_result"
    }
   ],
   "source": [
    "# list\n",
    "a=[1,3,6,10]\n",
    "a[2]"
   ]
  },
  {
   "cell_type": "code",
   "execution_count": 3,
   "id": "509d26c7-f8bd-43f1-abf3-a829c57229e4",
   "metadata": {},
   "outputs": [
    {
     "data": {
      "text/plain": [
       "6"
      ]
     },
     "execution_count": 3,
     "metadata": {},
     "output_type": "execute_result"
    }
   ],
   "source": [
    "# tuple\n",
    "b=(1,3,6,10)\n",
    "b[2]"
   ]
  },
  {
   "cell_type": "code",
   "execution_count": 4,
   "id": "9353815a-77a1-49dd-a67c-cb7917899e27",
   "metadata": {},
   "outputs": [
    {
     "data": {
      "text/plain": [
       "'hel'"
      ]
     },
     "execution_count": 4,
     "metadata": {},
     "output_type": "execute_result"
    }
   ],
   "source": [
    "# string\n",
    "c='hello'\n",
    "c[0:3]"
   ]
  },
  {
   "cell_type": "code",
   "execution_count": 5,
   "id": "459ad1a8-2133-447b-ab52-39950bc5c1d4",
   "metadata": {},
   "outputs": [
    {
     "data": {
      "text/plain": [
       "'eight'"
      ]
     },
     "execution_count": 5,
     "metadata": {},
     "output_type": "execute_result"
    }
   ],
   "source": [
    "# dictionary\n",
    "d={7:'seven',8:'eight',9:'nine'}\n",
    "d[8]"
   ]
  },
  {
   "cell_type": "markdown",
   "id": "b4a84d92-1a10-4689-aefe-34122ece93c6",
   "metadata": {},
   "source": [
    "### 序列的通用操作\n",
    "#### 索引"
   ]
  },
  {
   "cell_type": "code",
   "execution_count": 7,
   "id": "1962c41a-ed4c-418e-9443-13a570517a02",
   "metadata": {},
   "outputs": [
    {
     "name": "stdout",
     "output_type": "stream",
     "text": [
      "10\n",
      "10\n"
     ]
    }
   ],
   "source": [
    "a=[1,3,6,10]\n",
    "print(a[3])\n",
    "print(a[-1])"
   ]
  },
  {
   "cell_type": "markdown",
   "id": "7d3bd4d3-88f0-4c6c-9af6-5c45ae1e4f62",
   "metadata": {},
   "source": [
    "#### 分片\n",
    "\n",
    "a[开始索引:结束索引:步长]"
   ]
  },
  {
   "cell_type": "code",
   "execution_count": 10,
   "id": "b4814d7d-5e67-47d1-9323-090100a12def",
   "metadata": {},
   "outputs": [
    {
     "data": {
      "text/plain": [
       "'hl'"
      ]
     },
     "execution_count": 10,
     "metadata": {},
     "output_type": "execute_result"
    }
   ],
   "source": [
    "c='hello'\n",
    "c[0:3:2]"
   ]
  },
  {
   "cell_type": "markdown",
   "id": "650b1e94-f7ba-4e41-8c16-db429c6d35cc",
   "metadata": {},
   "source": [
    "#### 序列相加"
   ]
  },
  {
   "cell_type": "code",
   "execution_count": 11,
   "id": "7b1b6d50-f981-4767-87c3-67d10810bab7",
   "metadata": {},
   "outputs": [
    {
     "data": {
      "text/plain": [
       "[1, 2, 3, 4, 5, 6]"
      ]
     },
     "execution_count": 11,
     "metadata": {},
     "output_type": "execute_result"
    }
   ],
   "source": [
    "[1,2,3]+[4,5,6]"
   ]
  },
  {
   "cell_type": "code",
   "execution_count": 12,
   "id": "c2df4f53-6490-4e63-ab43-86b2ab30df8a",
   "metadata": {},
   "outputs": [
    {
     "data": {
      "text/plain": [
       "'hello,world!'"
      ]
     },
     "execution_count": 12,
     "metadata": {},
     "output_type": "execute_result"
    }
   ],
   "source": [
    "'hello,'+'world!'"
   ]
  },
  {
   "cell_type": "markdown",
   "id": "9fd7692d-a541-419b-b03c-d4be59bc11cc",
   "metadata": {},
   "source": [
    "#### 成员资格"
   ]
  },
  {
   "cell_type": "code",
   "execution_count": 13,
   "id": "438bf134-eb3c-4687-916a-a7b638ff8d78",
   "metadata": {},
   "outputs": [
    {
     "name": "stdout",
     "output_type": "stream",
     "text": [
      "True\n",
      "False\n"
     ]
    }
   ],
   "source": [
    "a='hello'\n",
    "print('o' in a)\n",
    "print('t' in a)"
   ]
  },
  {
   "cell_type": "markdown",
   "id": "0ece6ad2-d337-4cc0-bbc7-52386c43991f",
   "metadata": {},
   "source": [
    "### 列表的通用操作"
   ]
  },
  {
   "cell_type": "markdown",
   "id": "d5608ec7-cf05-4a13-9d32-a3293d8e8ac4",
   "metadata": {},
   "source": [
    "#### 序列转换成列表"
   ]
  },
  {
   "cell_type": "code",
   "execution_count": 14,
   "id": "8ddaa0f6-e9e8-4b54-abfb-5b8bb99a80e3",
   "metadata": {},
   "outputs": [
    {
     "data": {
      "text/plain": [
       "['h', 'e', 'l', 'l', 'o']"
      ]
     },
     "execution_count": 14,
     "metadata": {},
     "output_type": "execute_result"
    }
   ],
   "source": [
    "list('hello')"
   ]
  },
  {
   "cell_type": "markdown",
   "id": "574875ac-f58b-445c-aaca-dd3876af9394",
   "metadata": {},
   "source": [
    "#### 元素赋值、删除\n",
    "\n",
    "元素删除——`del a[索引号]`\n",
    "\n",
    "元素赋值——`a[索引号]=值`"
   ]
  },
  {
   "cell_type": "code",
   "execution_count": 16,
   "id": "f64b2067-2e4b-42a7-bca2-48d8d1eaec79",
   "metadata": {},
   "outputs": [
    {
     "data": {
      "text/plain": [
       "'hello'"
      ]
     },
     "execution_count": 16,
     "metadata": {},
     "output_type": "execute_result"
    }
   ],
   "source": [
    "a"
   ]
  },
  {
   "cell_type": "code",
   "execution_count": 17,
   "id": "56cbe4f0-42f5-4b9f-9484-8df430647717",
   "metadata": {},
   "outputs": [
    {
     "data": {
      "text/plain": [
       "['h', 'e', 'l', 'l', 'o']"
      ]
     },
     "execution_count": 17,
     "metadata": {},
     "output_type": "execute_result"
    }
   ],
   "source": [
    "b=list(a)\n",
    "b"
   ]
  },
  {
   "cell_type": "code",
   "execution_count": 18,
   "id": "c652a5bc-18d4-4e2d-870a-c75c77416542",
   "metadata": {},
   "outputs": [
    {
     "data": {
      "text/plain": [
       "['h', 'e', 't', 'l', 'o']"
      ]
     },
     "execution_count": 18,
     "metadata": {},
     "output_type": "execute_result"
    }
   ],
   "source": [
    "b[2]='t'\n",
    "b"
   ]
  },
  {
   "cell_type": "markdown",
   "id": "5267110e-dc31-445c-b287-30c554f19a38",
   "metadata": {},
   "source": [
    "#### 分片赋值\n",
    "\n",
    "`a[开始索引号:结束索引号]=list(值)`"
   ]
  },
  {
   "cell_type": "code",
   "execution_count": 19,
   "id": "22b4bcbb-a7df-4f56-83eb-7faf78172767",
   "metadata": {},
   "outputs": [
    {
     "data": {
      "text/plain": [
       "['h', 'e', 'l', 'l', 'o']"
      ]
     },
     "execution_count": 19,
     "metadata": {},
     "output_type": "execute_result"
    }
   ],
   "source": [
    "b=list('hello')\n",
    "b"
   ]
  },
  {
   "cell_type": "code",
   "execution_count": 20,
   "id": "4d730fbd-1af2-4ff4-be1f-162f9ae2fbf8",
   "metadata": {},
   "outputs": [
    {
     "data": {
      "text/plain": [
       "['h', 'e', 'y', 'y', 'o']"
      ]
     },
     "execution_count": 20,
     "metadata": {},
     "output_type": "execute_result"
    }
   ],
   "source": [
    "b[2:4]=list('yy')\n",
    "b"
   ]
  },
  {
   "cell_type": "markdown",
   "id": "b34dc9ff-a642-492b-9e4c-9352aa8998a9",
   "metadata": {},
   "source": [
    "#### 列表方法"
   ]
  },
  {
   "cell_type": "code",
   "execution_count": 24,
   "id": "13a6c3e9-d16c-4a1c-8a31-13940e54b520",
   "metadata": {},
   "outputs": [
    {
     "data": {
      "text/plain": [
       "['h', 'e', 'l', 'l', 'o']"
      ]
     },
     "execution_count": 24,
     "metadata": {},
     "output_type": "execute_result"
    }
   ],
   "source": [
    "a=['h','e','l','l','o']\n",
    "a"
   ]
  },
  {
   "cell_type": "code",
   "execution_count": 25,
   "id": "b01686a1-45be-43ea-a8fd-1b506c12cc21",
   "metadata": {},
   "outputs": [
    {
     "data": {
      "text/plain": [
       "['h', 'e', 't', 'l', 'l', 'o']"
      ]
     },
     "execution_count": 25,
     "metadata": {},
     "output_type": "execute_result"
    }
   ],
   "source": [
    "# 索引位置插入一个元素\n",
    "a.insert(2,'t')\n",
    "a"
   ]
  },
  {
   "cell_type": "code",
   "execution_count": 26,
   "id": "2c4ea2e5-812f-46cf-af9e-4863c7730302",
   "metadata": {},
   "outputs": [
    {
     "data": {
      "text/plain": [
       "['h', 'e', 't', 'l', 'l', 'o', 'q']"
      ]
     },
     "execution_count": 26,
     "metadata": {},
     "output_type": "execute_result"
    }
   ],
   "source": [
    "# 列表的最后添加元素\n",
    "a.append('q')\n",
    "a"
   ]
  },
  {
   "cell_type": "code",
   "execution_count": 27,
   "id": "ec1fd639-fce3-4c04-8e61-83682e01c866",
   "metadata": {},
   "outputs": [
    {
     "data": {
      "text/plain": [
       "1"
      ]
     },
     "execution_count": 27,
     "metadata": {},
     "output_type": "execute_result"
    }
   ],
   "source": [
    "# 元素第一次出现的索引位置\n",
    "a.index('e')"
   ]
  },
  {
   "cell_type": "code",
   "execution_count": 28,
   "id": "81502b7f-da4e-4814-bc2c-3d484f19924b",
   "metadata": {},
   "outputs": [
    {
     "data": {
      "text/plain": [
       "['h', 't', 'l', 'l', 'o', 'q']"
      ]
     },
     "execution_count": 28,
     "metadata": {},
     "output_type": "execute_result"
    }
   ],
   "source": [
    "# 删除元素\n",
    "a.remove('e')\n",
    "a"
   ]
  },
  {
   "cell_type": "code",
   "execution_count": 29,
   "id": "f09d9c9c-4204-4d21-a5cf-31c09e2ba93e",
   "metadata": {},
   "outputs": [
    {
     "data": {
      "text/plain": [
       "['h', 'l', 'l', 'o', 'q', 't']"
      ]
     },
     "execution_count": 29,
     "metadata": {},
     "output_type": "execute_result"
    }
   ],
   "source": [
    "# 将列表从大到小排列\n",
    "a.sort()\n",
    "a"
   ]
  },
  {
   "cell_type": "markdown",
   "id": "b562ed65-6125-4965-bff8-7c8a39417661",
   "metadata": {},
   "source": [
    "### 字典操作\n",
    "#### 创建字典\n",
    "`dict(参数1=值1,参数2=值2, …)={参数1:值1, 参数2=值2, …}`"
   ]
  },
  {
   "cell_type": "code",
   "execution_count": 33,
   "id": "f36bfd04-3f18-4dc2-a19f-c8cbf3d1d48b",
   "metadata": {},
   "outputs": [
    {
     "data": {
      "text/plain": [
       "{'age': 27, 'name': 'shushuo'}"
      ]
     },
     "execution_count": 33,
     "metadata": {},
     "output_type": "execute_result"
    }
   ],
   "source": [
    "f=dict(age=27, name='shushuo')\n",
    "f"
   ]
  },
  {
   "cell_type": "code",
   "execution_count": 34,
   "id": "c9a0df3b-56cd-442f-8f2a-4ee36ce6fd17",
   "metadata": {},
   "outputs": [
    {
     "data": {
      "text/plain": [
       "2"
      ]
     },
     "execution_count": 34,
     "metadata": {},
     "output_type": "execute_result"
    }
   ],
   "source": [
    "# 求长度\n",
    "len(f)"
   ]
  },
  {
   "cell_type": "code",
   "execution_count": 35,
   "id": "54559311-360a-410e-a2ac-ecbb4a6bdd55",
   "metadata": {},
   "outputs": [
    {
     "data": {
      "text/plain": [
       "27"
      ]
     },
     "execution_count": 35,
     "metadata": {},
     "output_type": "execute_result"
    }
   ],
   "source": [
    "# 找到某个位置上的值\n",
    "f['age']"
   ]
  },
  {
   "cell_type": "code",
   "execution_count": 36,
   "id": "5bd981bc-9f49-4994-8107-9522dd0cd932",
   "metadata": {},
   "outputs": [
    {
     "data": {
      "text/plain": [
       "{'age': 28, 'name': 'shushuo'}"
      ]
     },
     "execution_count": 36,
     "metadata": {},
     "output_type": "execute_result"
    }
   ],
   "source": [
    "# 元素赋值\n",
    "f['age'] = 28\n",
    "f"
   ]
  },
  {
   "cell_type": "code",
   "execution_count": 37,
   "id": "6a6e07f1-b59b-4ea0-b2fe-727b2c6da333",
   "metadata": {},
   "outputs": [],
   "source": [
    "# 元素删除\n",
    "del f['name']"
   ]
  },
  {
   "cell_type": "code",
   "execution_count": 38,
   "id": "606e6a6a-1c7f-4ce3-8c90-c175d079992c",
   "metadata": {},
   "outputs": [
    {
     "data": {
      "text/plain": [
       "True"
      ]
     },
     "execution_count": 38,
     "metadata": {},
     "output_type": "execute_result"
    }
   ],
   "source": [
    "# 成员资格\n",
    "'age' in f"
   ]
  }
 ],
 "metadata": {
  "kernelspec": {
   "display_name": "Python 3 (ipykernel)",
   "language": "python",
   "name": "python3"
  },
  "language_info": {
   "codemirror_mode": {
    "name": "ipython",
    "version": 3
   },
   "file_extension": ".py",
   "mimetype": "text/x-python",
   "name": "python",
   "nbconvert_exporter": "python",
   "pygments_lexer": "ipython3",
   "version": "3.12.9"
  }
 },
 "nbformat": 4,
 "nbformat_minor": 5
}
