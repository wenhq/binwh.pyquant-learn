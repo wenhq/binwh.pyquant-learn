{
 "cells": [
  {
   "cell_type": "markdown",
   "id": "5a785073-17c8-4951-8fff-68d5cd671597",
   "metadata": {},
   "source": [
    "# SciPy概述\n",
    "\n",
    "NumPy替我们搞定了向量和矩阵的相关操作，基本上算是一个高级的科学计算器。SciPy基于NumPy提供了更为丰富和高级的功能扩展，在统计、优化、插值、数值积分、时频转换等方面提供了大量的可用函数，基本覆盖了基础科学计算相关的问题。"
   ]
  },
  {
   "cell_type": "code",
   "execution_count": 2,
   "id": "66f44020-1e9c-414d-8502-599c8255c1f6",
   "metadata": {},
   "outputs": [],
   "source": [
    "import numpy as np\n",
    "import scipy.stats as stats # 统计\n",
    "import scipy.optimize as opt # 优化"
   ]
  },
  {
   "cell_type": "markdown",
   "id": "723af6be-9306-4e2d-a872-14e17efffc69",
   "metadata": {},
   "source": [
    "## 统计"
   ]
  },
  {
   "cell_type": "markdown",
   "id": "de78b365-93dd-4ca7-a66e-91a33d3db748",
   "metadata": {},
   "source": [
    "### 生成随机数\n",
    "\n",
    "生成n个随机数可用`rv_continuous.rvs(size=n)`或`rv_discrete.rvs(size=n)`\n",
    "\n",
    "- `rv_continuous`表示连续型的随机分布，如均匀分布（`uniform`）、正态分布（`norm`）、贝塔分布（`beta`）等；\n",
    "- `rv_discrete`表示离散型的随机分布，如伯努利分布（`bernoulli`）、几何分布（`geom`）、泊松分布（`poisson`）等。\n",
    "\n",
    "点击查阅 [统计函数 (scipy.stats) 手册](https://docs.scipy.org.cn/doc/scipy/reference/stats.html) 或 [英文版](https://docs.scipy.org/doc/scipy/reference/stats.html)\n",
    "\n",
    "若在SciPy没有满足需求，可以采用[StatsModels](http://statsmodels.sourceforge.net)（提供了更为专业，更多的统计相关函数）。"
   ]
  },
  {
   "cell_type": "code",
   "execution_count": 10,
   "id": "64ecf4e3-a32e-4df0-9227-5bedfd453b6f",
   "metadata": {},
   "outputs": [
    {
     "name": "stdout",
     "output_type": "stream",
     "text": [
      "[0.9357919  0.39175694 0.78447367 0.56149997 0.9892763  0.88851423\n",
      " 0.42201385 0.9239862  0.43197438 0.2977279 ]\n"
     ]
    }
   ],
   "source": [
    "rv_unif = stats.uniform.rvs(size=10)\n",
    "print(rv_unif)"
   ]
  },
  {
   "cell_type": "code",
   "execution_count": 11,
   "id": "47e2d8d9-d3d0-4580-931b-f1f84111fa8b",
   "metadata": {},
   "outputs": [
    {
     "name": "stdout",
     "output_type": "stream",
     "text": [
      "[0.74623507 0.76359656 0.39081388 0.53724531 0.50424926 0.75267061\n",
      " 0.70829427 0.64356349 0.44675237 0.78371563]\n"
     ]
    }
   ],
   "source": [
    "rv_beta = stats.beta.rvs(size=10, a=4, b=2)\n",
    "print(rv_beta)"
   ]
  },
  {
   "cell_type": "markdown",
   "id": "643c7a95-463e-497b-a40d-9a89c53ee57e",
   "metadata": {},
   "source": [
    "一些优化做法：\n",
    "\n",
    "- `SciPy.stats`支持定义出某个具体的分布的对象，我们可以做如下的定义，让`beta`直接指代具体参数`a=4`和`b=2`的贝塔分布。\n",
    "- 指定了随机数的生成种子"
   ]
  },
  {
   "cell_type": "code",
   "execution_count": 13,
   "id": "4e811fd4-a0fa-4078-8b6d-7aea876dcc0b",
   "metadata": {},
   "outputs": [
    {
     "name": "stdout",
     "output_type": "stream",
     "text": [
      "method 1:\n",
      "[0.55452864 0.3571434  0.83274347 0.73264615 0.5621855  0.93875378\n",
      " 0.7806391  0.84170717 0.55878702 0.80312908]\n"
     ]
    }
   ],
   "source": [
    "np.random.seed(seed=2025)\n",
    "rv_beta = stats.beta.rvs(size=10, a=4, b=2)\n",
    "print(\"method 1:\")\n",
    "print(rv_beta)"
   ]
  },
  {
   "cell_type": "code",
   "execution_count": 14,
   "id": "f7a2eeed-0fb7-40fc-b702-0edb4fcf0604",
   "metadata": {},
   "outputs": [
    {
     "name": "stdout",
     "output_type": "stream",
     "text": [
      "method 2:\n",
      "[0.55452864 0.3571434  0.83274347 0.73264615 0.5621855  0.93875378\n",
      " 0.7806391  0.84170717 0.55878702 0.80312908]\n"
     ]
    }
   ],
   "source": [
    "np.random.seed(seed=2025)\n",
    "beta = stats.beta(a=4, b=2)\n",
    "print(\"method 2:\")\n",
    "print(beta.rvs(size=10))"
   ]
  },
  {
   "cell_type": "markdown",
   "id": "ec247c47-e2fa-4bd8-9147-e8a117c69b52",
   "metadata": {},
   "source": [
    "### 假设检验\n",
    "\n",
    "生成一组数据，并查看相关的统计量。\n",
    "\n",
    "`norm` 一个正态连续随机变量。位置 (`loc`) 关键字指定均值。 尺度 (`scale`) 关键字指定标准差。"
   ]
  },
  {
   "cell_type": "code",
   "execution_count": 19,
   "id": "6e384900-4a06-466c-b090-7e5d9877c1a2",
   "metadata": {},
   "outputs": [
    {
     "name": "stdout",
     "output_type": "stream",
     "text": [
      "mean of data is: 0.6144130303808365\n",
      "median of data is: 0.5973383111601445\n",
      "standard deviation of data is: 2.024935628110048\n"
     ]
    }
   ],
   "source": [
    "np.random.seed(seed=2024)\n",
    "\n",
    "norm_dist = stats.norm(loc=0.5, scale=2)\n",
    "n = 200\n",
    "dat = norm_dist.rvs(size=n)\n",
    "print(\"mean of data is: \" + str(np.mean(dat)))\n",
    "print(\"median of data is: \" + str(np.median(dat)))\n",
    "print(\"standard deviation of data is: \" + str(np.std(dat)))"
   ]
  },
  {
   "cell_type": "markdown",
   "id": "b2d3df0b-e2cb-4a04-9311-58397d0317a0",
   "metadata": {},
   "source": [
    "最简单的是检验这一组数据是否服从假设的分布，如正态分布。\n",
    "\n",
    "典型的单样本假设检验问题，最为常见的解决方案是采用K-S检验（ Kolmogorov-Smirnov test）。\n",
    "\n",
    "单样本K-S检验的原假设是给定的数据来自和原假设分布相同的分布，在SciPy中提供了kstest函数，参数分别是数据、拟检验的分布名称和对应的参数。"
   ]
  },
  {
   "cell_type": "code",
   "execution_count": 20,
   "id": "0f844584-0227-41c3-bb32-33e7e1f7fef9",
   "metadata": {},
   "outputs": [
    {
     "name": "stdout",
     "output_type": "stream",
     "text": [
      "KS-statistic D =  0.032 p-value = 0.9834\n"
     ]
    }
   ],
   "source": [
    "mu = np.mean(dat)\n",
    "sigma = np.std(dat)\n",
    "stat_val, p_val = stats.kstest(dat, 'norm', (mu, sigma))\n",
    "print('KS-statistic D = %6.3f p-value = %6.4f' % (stat_val, p_val))"
   ]
  },
  {
   "cell_type": "markdown",
   "id": "c4846ac4-5f2b-4f65-9d24-d0c174515cb8",
   "metadata": {},
   "source": [
    "假设检验的`p-value`值很大（在原假设下，p-value是服从[0, 1]区间上的均匀分布的随机变量，可参考 [维基百科 P-value 词条](http://en.wikipedia.org/wiki/P-value) ），因此我们接受原假设，即该数据通过了正态性的检验。\n",
    "\n",
    "在正态性的前提下，我们可进一步检验这组数据的均值是不是0。典型的方法是`t`检验（`t-test`）。\n",
    "\n",
    "单样本的`t`检验函数为`ttest_1samp`。"
   ]
  },
  {
   "cell_type": "code",
   "execution_count": 21,
   "id": "561bde90-6453-4185-b579-f12f153c1bd9",
   "metadata": {},
   "outputs": [
    {
     "name": "stdout",
     "output_type": "stream",
     "text": [
      "One-sample t-statistic D =  4.280, p-value = 0.0000\n"
     ]
    }
   ],
   "source": [
    "stat_val, p_val = stats.ttest_1samp(dat, 0)\n",
    "print('One-sample t-statistic D = %6.3f, p-value = %6.4f' % (stat_val, p_val))"
   ]
  },
  {
   "cell_type": "markdown",
   "id": "5c5fb078-2c6a-4900-8f05-2cff5cea898a",
   "metadata": {},
   "source": [
    "看到`p-value<0.05`，即给定显著性水平`0.05`的前提下，我们应拒绝原假设：数据的均值为`0`。\n",
    "\n",
    "再生成一组数据，尝试一下双样本的`t`检验（`ttest_ind`）。"
   ]
  },
  {
   "cell_type": "code",
   "execution_count": 25,
   "id": "f6f47aef-7e76-4096-a685-030daf9694e6",
   "metadata": {},
   "outputs": [
    {
     "name": "stdout",
     "output_type": "stream",
     "text": [
      "Two-sample t-statistic D =  4.429, p-value = 0.0000\n"
     ]
    }
   ],
   "source": [
    "norm_dist2 = stats.norm(loc=-0.2, scale=1.2)\n",
    "dat2 = norm_dist2.rvs(size=(n-19)) # 随便取长度，和 dat1 样本大小、方差均不相等\n",
    "stat_val, p_val = stats.ttest_ind(dat, dat2, equal_var=False)\n",
    "print('Two-sample t-statistic D = %6.3f, p-value = %6.4f' % (stat_val, p_val))"
   ]
  },
  {
   "cell_type": "markdown",
   "id": "cb86df0e-fa71-4d3a-b314-08dab97a2930",
   "metadata": {},
   "source": [
    "第二组数据样本大小、方差和第一组均不相等，在运用`t`检验时需要使用`Welch's t-test`，即指定`ttest_ind`中的`equal_var=False`。得到了比较小的p-value$，在显著性水平0.05的前提下拒绝原假设，即认为两组数据均值不等。\n",
    "\n",
    "得到了比较小的`p-value`，在显著性水平`0.05`的前提下拒绝原假设，即认为两组数据均值不等。\n",
    "\n",
    "`stats`还提供其他大量的假设检验函数，如`bartlett`和`levene`用于检验方差是否相等；`anderson_ksamp`用于进行`Anderson-Darling`的`K-样本`检验等。"
   ]
  },
  {
   "cell_type": "markdown",
   "id": "6df0e125-a86c-443e-8cdb-1bbf25c1a581",
   "metadata": {},
   "source": [
    "### 其他函数\n",
    "\n",
    "#### 分布与分位\n",
    "\n",
    "需要知道某数值在一个分布中的分位，或者给定了一个分布，求某分位上的数值。这可以通过`cdf`和`ppf`函数完成。"
   ]
  },
  {
   "cell_type": "code",
   "execution_count": 32,
   "id": "bb8e6422-c5aa-4b32-ab5d-06a89fe2f40d",
   "metadata": {},
   "outputs": [
    {
     "name": "stdout",
     "output_type": "stream",
     "text": [
      "quantiles of 2, 4 and 5:\n",
      "[0.59399415 0.90842181 0.95957232]\n",
      "Values of 25%, 50% and 90%:\n",
      "[0.96127876 1.67834699 4.74386452]\n",
      "Values of 25%, 50% and 90%:\n",
      "[0.1947002  0.30326533 0.36740397]\n"
     ]
    }
   ],
   "source": [
    "g_dist = stats.gamma(a=2)\n",
    "print(\"quantiles of 2, 4 and 5:\")\n",
    "print(g_dist.cdf([2, 4, 5]))\n",
    "print(\"Values of 25%, 50% and 90%:\")\n",
    "print(g_dist.ppf([0.25, 0.5, 0.95]))\n",
    "print(\"Values of 25%, 50% and 90%:\")\n",
    "print(g_dist.pdf([0.25, 0.5, 0.95]))"
   ]
  },
  {
   "cell_type": "markdown",
   "id": "9c474a8e-c0d7-4f11-b843-db819f757b2b",
   "metadata": {},
   "source": [
    "对于一个给定的分布，可以用moment很方便的查看分布的矩信息，例如我们查看N(0,1)的六阶原点矩"
   ]
  },
  {
   "cell_type": "code",
   "execution_count": 34,
   "id": "664aed05-ae9c-4165-aba7-2fbf860fd5ff",
   "metadata": {},
   "outputs": [
    {
     "data": {
      "text/plain": [
       "np.float64(15.000000000000004)"
      ]
     },
     "execution_count": 34,
     "metadata": {},
     "output_type": "execute_result"
    }
   ],
   "source": [
    "stats.norm.moment(6, loc=0, scale=1)"
   ]
  },
  {
   "cell_type": "markdown",
   "id": "ca64f067-6868-4046-9a04-4a31cc2c25fd",
   "metadata": {},
   "source": [
    "#### 统计描述\n",
    "`describe`函数提供对数据集的统计描述分析，包括数据样本大小，极值，均值，方差，偏度和峰度："
   ]
  },
  {
   "cell_type": "code",
   "execution_count": 35,
   "id": "dd361a42-463e-493c-a615-ce5c98f54287",
   "metadata": {},
   "outputs": [
    {
     "name": "stdout",
     "output_type": "stream",
     "text": [
      "Data size is: 100\n",
      "Minimum value is: -6.611219384688499\n",
      "Maximum value is: 4.59998935584996\n",
      "Arithmetic mean is: -0.010790196944001471\n",
      "Unbiased variance is: 3.334150803038929\n",
      "Biased skewness is: -0.33336530030397216\n",
      "Biased kurtosis is: 1.0054260326043316\n"
     ]
    }
   ],
   "source": [
    "norm_dist = stats.norm(loc=0, scale=1.8)\n",
    "dat = norm_dist.rvs(size=100)\n",
    "info = stats.describe(dat)\n",
    "print(\"Data size is: \" + str(info[0]))\n",
    "print(\"Minimum value is: \" + str(info[1][0]))\n",
    "print(\"Maximum value is: \" + str(info[1][1]))\n",
    "print(\"Arithmetic mean is: \" + str(info[2]))\n",
    "print(\"Unbiased variance is: \" + str(info[3]))\n",
    "print(\"Biased skewness is: \" + str(info[4]))\n",
    "print(\"Biased kurtosis is: \" + str(info[5]))"
   ]
  },
  {
   "cell_type": "markdown",
   "id": "54fd63d3",
   "metadata": {},
   "source": [
    "#### 分布估计（极大似然估计）\n",
    "当我们知道一组数据服从某些分布的时候，可以调用`fit`函数来得到对应分布参数的极大似然估计（MLE, maximum-likelihood estimation）。"
   ]
  },
  {
   "cell_type": "code",
   "execution_count": 2,
   "id": "380b0e8c",
   "metadata": {},
   "outputs": [
    {
     "name": "stdout",
     "output_type": "stream",
     "text": [
      "MLE of data mean:0.2573138478530397\n",
      "MLE of data standard deviation:1.9508261218529632\n"
     ]
    }
   ],
   "source": [
    "norm_dist = stats.norm(loc=0, scale=1.8)\n",
    "dat = norm_dist.rvs(size=100)\n",
    "mu, sigma = stats.norm.fit(dat)\n",
    "print (\"MLE of data mean:\" + str(mu))\n",
    "print (\"MLE of data standard deviation:\" + str(sigma))"
   ]
  },
  {
   "cell_type": "markdown",
   "id": "7958caee",
   "metadata": {},
   "source": [
    "#### 相关系数\n",
    "`pearsonr`和`spearmanr`可以计算`Pearson`和`Spearman`相关系数，这两个相关系数度量了两组数据的相互线性关联程度.\n",
    "\n",
    "- Pearson 相关系数 (皮尔逊相关系数)：衡量两个连续变量之间的‌线性相关程度‌\n",
    "- Spearman 相关系数 (斯皮尔曼相关系数)：衡量两个变量之间的‌单调相关程度‌(无论线性与否)\n",
    "\n",
    "| 关系类型 | Pearson | Spearman |\n",
    "| --- | --- | --- |\n",
    "| 线性关系 | 高 | 高 |\n",
    "| 指数增长关系 | 低 | 高 |\n",
    "| 二次函数关系 | 低 | 低 |\n",
    "| 完全随机关系 | ≈0 | ≈0 |\n",
    "| 异常值影响 | 敏感 | 不敏感 |\n",
    "\n",
    "使用方式：\n",
    "- 若关注严格的‌线性关系‌ → 选择 ‌Pearson‌\n",
    "- 若关注‌单调趋势‌(包含非线性) → 选择 ‌Spearman‌\n",
    "- 当数据含异常值或非正态分布时 → 优先使用 ‌Spearman‌\n",
    "\n",
    "其中的p-value表示原假设（两组数据不相关）下，相关系数的显著性。"
   ]
  },
  {
   "cell_type": "code",
   "execution_count": 5,
   "id": "9ecc96ff",
   "metadata": {},
   "outputs": [
    {
     "name": "stdout",
     "output_type": "stream",
     "text": [
      "Pearson correlation coefficient: -0.015581389157782885\n",
      "Spearman's rank correlation coefficient: -0.0069846984698469835\n"
     ]
    }
   ],
   "source": [
    "norm_dist = stats.norm()\n",
    "dat1 = norm_dist.rvs(size=100)\n",
    "\n",
    "exp_dist = stats.expon()\n",
    "dat2 = exp_dist.rvs(size=100)\n",
    "\n",
    "cor, pval = stats.pearsonr(dat1, dat2)\n",
    "print(\"Pearson correlation coefficient: \" + str(cor))\n",
    "\n",
    "cor, pval = stats.spearmanr(dat1, dat2)\n",
    "print(\"Spearman's rank correlation coefficient: \" + str(cor))"
   ]
  },
  {
   "cell_type": "markdown",
   "id": "2a6db412",
   "metadata": {},
   "source": [
    "#### 线性回归"
   ]
  },
  {
   "cell_type": "code",
   "execution_count": 7,
   "id": "f8cc0e45",
   "metadata": {},
   "outputs": [
    {
     "name": "stdout",
     "output_type": "stream",
     "text": [
      "Slope of fitted model is: 1.1248923158457005\n",
      "Intercept of fitted model is: 2.717408206454295\n",
      "R-squared: 0.6786187608427824\n"
     ]
    }
   ],
   "source": [
    "x = stats.chi2.rvs(3, size=50)\n",
    "y = 2.5 + 1.2 * x + stats.norm.rvs(size=50, loc=0, scale=1.5)\n",
    "slope, intercept, r_value, p_value, std_err = stats.linregress(x, y)\n",
    "print(\"Slope of fitted model is:\" , slope)\n",
    "print(\"Intercept of fitted model is:\", intercept)\n",
    "print(\"R-squared:\", r_value**2)"
   ]
  },
  {
   "cell_type": "markdown",
   "id": "f24f47e2-5494-4ff5-81ee-7fb7f7eda6e8",
   "metadata": {},
   "source": [
    "## 优化\n",
    "\n",
    "优化问题在投资中可谓是根本问题，如果手上有众多可选的策略，应如何从中选择一个“最好”的策略进行投资呢？这时就需要用到一些优化技术针对给定的指标进行寻优。随着越来越多金融数据的出现，机器学习逐渐应用在投资领域，在机器学习中，优化也是十分重要的一个部分。\n",
    "\n",
    "所谓的无约束优化问题指的是一个优化问题的最优可行集合是目标函数自变量的定义域，即没有外部的限制条件。\n",
    "\n",
    "例如，$f(x)=x^2-4.8x+1.2$ 求解$f(x)$的最小值，就是一个无约束优化问题。\n",
    "\n",
    "而求解$f(x)=x^2-4.8x+1.2$在$X >= 0$条件下的最小值，则是一个带约束的优化问题。"
   ]
  },
  {
   "cell_type": "markdown",
   "id": "25441ad0",
   "metadata": {},
   "source": [
    "### 无约束优化"
   ]
  },
  {
   "cell_type": "markdown",
   "id": "d04b7b60",
   "metadata": {},
   "source": [
    "进一步假设问题全部是凸优化问题（参考教材[斯坦福大学Stephen Boyd教授的convex optimization](http://stanford.edu/~boyd/cvxbook)），以Rosenbrock函数作为寻优的目标函数。\n",
    "\n",
    "$f(x) = \\displaystyle\\sum_{i=1}^{N-1}100(x_i - x_{i-1}^2)^2 + (1 - x_{i-1})^2$\n",
    "\n",
    "Rosenbrock函数的定义为："
   ]
  },
  {
   "cell_type": "code",
   "execution_count": 8,
   "id": "245c7e7b",
   "metadata": {},
   "outputs": [],
   "source": [
    "def rosen(x):\n",
    "    \"\"\"The Rosenbrock function\"\"\"\n",
    "    return sum(100.0*(x[1:]-x[:-1]**2.0)**2.0 + (1-x[:-1])**2.0)"
   ]
  },
  {
   "cell_type": "markdown",
   "id": "5fc7a812-5df5-4884-81ae-0d7d6d24af44",
   "metadata": {},
   "source": [
    "#### Nelder-Mead单纯形法\n",
    "\n",
    "单纯形法是运筹学中介绍的求解线性规划问题的通用方法，这里的Nelder-Mead单纯形法与其并不相同，只是用到单纯形的概念。设定起始点$x_0$，并进行最小化的寻优。`xatol`表示迭代收敛的容忍误差上界："
   ]
  },
  {
   "cell_type": "code",
   "execution_count": 14,
   "id": "1dfa193b",
   "metadata": {},
   "outputs": [
    {
     "name": "stdout",
     "output_type": "stream",
     "text": [
      "Optimization terminated successfully.\n",
      "         Current function value: 0.000000\n",
      "         Iterations: 436\n",
      "         Function evaluations: 706\n",
      "Result of minimizing Rosenbrock function via Nelder-Mead Simplex algorithm:\n",
      "       message: Optimization terminated successfully.\n",
      "       success: True\n",
      "        status: 0\n",
      "           fun: 1.6614969876635003e-17\n",
      "             x: [ 1.000e+00  1.000e+00  1.000e+00  1.000e+00  1.000e+00]\n",
      "           nit: 436\n",
      "          nfev: 706\n",
      " final_simplex: (array([[ 1.000e+00,  1.000e+00, ...,  1.000e+00,\n",
      "                         1.000e+00],\n",
      "                       [ 1.000e+00,  1.000e+00, ...,  1.000e+00,\n",
      "                         1.000e+00],\n",
      "                       ...,\n",
      "                       [ 1.000e+00,  1.000e+00, ...,  1.000e+00,\n",
      "                         1.000e+00],\n",
      "                       [ 1.000e+00,  1.000e+00, ...,  1.000e+00,\n",
      "                         1.000e+00]]), array([ 1.661e-17,  6.321e-17,  7.441e-17,  8.244e-17,\n",
      "                        9.532e-17,  1.079e-16]))\n"
     ]
    }
   ],
   "source": [
    "x_0 = np.array([0.5, 1.6, 1.1, 0.8, 1.2])\n",
    "res = opt.minimize(rosen, x_0, method='nelder-mead', options={'xatol': 1e-8, 'disp': True})\n",
    "print(\"Result of minimizing Rosenbrock function via Nelder-Mead Simplex algorithm:\")\n",
    "print(res)"
   ]
  },
  {
   "cell_type": "markdown",
   "id": "3fcfa0f5",
   "metadata": {},
   "source": [
    "不使用函数的梯度，在略微复杂的情形下收敛速度比较慢。下面使用函数梯度进行寻优的方法。"
   ]
  },
  {
   "cell_type": "markdown",
   "id": "4ad0338d-7031-4983-9f39-038765c03401",
   "metadata": {},
   "source": [
    "#### Broyden-Fletcher-Goldfarb-Shanno法\n",
    "\n",
    "Broyden-Fletcher-Goldfarb-Shanno（BFGS）法，先求一下Rosenbrock函数的梯度：\n",
    "\n",
    "> 看不懂，先抄下来。\n",
    "\n",
    "$\\begin{equation}\n",
    "\\begin{split}\n",
    "    \\displaystyle\\frac{∂f}{∂x_j} &= \\displaystyle\\sum_{i=1}^N200(x_i-x_{i-1}^2)(\\delta_{i,j} - 2x_{i-1}\\delta_{i-1,j}) - 2(1 - x_{i-1})\\delta_{i-1,j}\\\\\n",
    "    &= 200(x_j - x_{j-1}^2) - 400x_j(x_{j+1} - x_j^2) - 2(1 -x_j)\n",
    "\\end{split}\n",
    "\\end{equation}\n",
    "$\n",
    "\n",
    "其中，当 $i=j$ 时， $\\delta_{i,j}=1$，否则 $\\delta_{i,j}=0$。\n",
    "\n",
    "边界的梯度是特例，有如下形式：\n",
    "\n",
    "\\begin{align}\n",
    "    \\frac{∂f}{∂x_0} &= -400x_0(x_1 - x_0^2) - 2(1 - x_0) \\\\\n",
    "    \\frac{∂f}{∂x_{N-1}} &= 200(x_{N-1} - x_{N-2}^2)\n",
    "\\end{align}\n",
    "\n",
    "定义梯度向量的计算函数："
   ]
  },
  {
   "cell_type": "code",
   "execution_count": 15,
   "id": "37439c12",
   "metadata": {},
   "outputs": [],
   "source": [
    "def rosen_der(x):\n",
    "    xm = x[1:-1]\n",
    "    xm_m1 = x[:-2]\n",
    "    xm_p1 = x[2:]\n",
    "    der = np.zeros_like(x)\n",
    "    der[1:-1] = 200*(xm-xm_m1**2) - 400*(xm_p1 - xm**2)*xm - 2*(1-xm)\n",
    "    der[0] = -400*x[0]*(x[1]-x[0]**2) - 2*(1-x[0])\n",
    "    der[-1] = 200*(x[-1]-x[-2]**2)\n",
    "    return der"
   ]
  },
  {
   "cell_type": "markdown",
   "id": "b0a31afd",
   "metadata": {},
   "source": [
    "梯度信息的引入在 `minimize` 函数中通过参数 `jac` 指定："
   ]
  },
  {
   "cell_type": "code",
   "execution_count": 16,
   "id": "f23d908a",
   "metadata": {},
   "outputs": [
    {
     "name": "stdout",
     "output_type": "stream",
     "text": [
      "Optimization terminated successfully.\n",
      "         Current function value: 0.000000\n",
      "         Iterations: 39\n",
      "         Function evaluations: 47\n",
      "         Gradient evaluations: 47\n",
      "Result of minimizing Rosenbrock function via Broyden-Fletcher-Goldfarb-Shanno algorithm:\n",
      "  message: Optimization terminated successfully.\n",
      "  success: True\n",
      "   status: 0\n",
      "      fun: 1.569191726013783e-14\n",
      "        x: [ 1.000e+00  1.000e+00  1.000e+00  1.000e+00  1.000e+00]\n",
      "      nit: 39\n",
      "      jac: [-3.604e-06  2.747e-06 -1.947e-07  2.784e-06 -1.410e-06]\n",
      " hess_inv: [[ 7.429e-03  1.251e-02 ...  4.698e-02  9.388e-02]\n",
      "            [ 1.251e-02  2.506e-02 ...  9.443e-02  1.886e-01]\n",
      "            ...\n",
      "            [ 4.698e-02  9.443e-02 ...  3.786e-01  7.560e-01]\n",
      "            [ 9.388e-02  1.886e-01 ...  7.560e-01  1.515e+00]]\n",
      "     nfev: 47\n",
      "     njev: 47\n"
     ]
    }
   ],
   "source": [
    "res = opt.minimize(rosen, x_0, method='BFGS', jac=rosen_der, options={'disp': True})\n",
    "print(\"Result of minimizing Rosenbrock function via Broyden-Fletcher-Goldfarb-Shanno algorithm:\")\n",
    "print(res)"
   ]
  },
  {
   "cell_type": "markdown",
   "id": "a99b4099",
   "metadata": {},
   "source": [
    "#### 牛顿共轭梯度法（Newton-Conjugate-Gradient algorithm）\n",
    "\n",
    "用到梯度的方法还有牛顿法，牛顿法是收敛速度最快的方法，其缺点在于要求Hessian矩阵（二阶导数矩阵）。牛顿法大致的思路是采用泰勒展开的二阶近似。\n",
    "\n",
    "（看不懂，所以内容略）"
   ]
  },
  {
   "cell_type": "markdown",
   "id": "1bbafe9e",
   "metadata": {},
   "source": [
    "### 约束优化问题\n",
    "\n",
    "（内容略）\n",
    "\n",
    "详细内容见：https://www.kancloud.cn/wizardforcel/python-quant-uqer/186114 \n",
    "\n",
    "省略内容待后续补充。"
   ]
  }
 ],
 "metadata": {
  "kernelspec": {
   "display_name": "base",
   "language": "python",
   "name": "python3"
  },
  "language_info": {
   "codemirror_mode": {
    "name": "ipython",
    "version": 3
   },
   "file_extension": ".py",
   "mimetype": "text/x-python",
   "name": "python",
   "nbconvert_exporter": "python",
   "pygments_lexer": "ipython3",
   "version": "3.9.23"
  }
 },
 "nbformat": 4,
 "nbformat_minor": 5
}
