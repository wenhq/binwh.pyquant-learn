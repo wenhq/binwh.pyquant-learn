{
 "cells": [
  {
   "cell_type": "markdown",
   "id": "5a785073-17c8-4951-8fff-68d5cd671597",
   "metadata": {},
   "source": [
    "# SciPy概述\n",
    "\n",
    "NumPy替我们搞定了向量和矩阵的相关操作，基本上算是一个高级的科学计算器。SciPy基于NumPy提供了更为丰富和高级的功能扩展，在统计、优化、插值、数值积分、时频转换等方面提供了大量的可用函数，基本覆盖了基础科学计算相关的问题。"
   ]
  },
  {
   "cell_type": "code",
   "execution_count": 7,
   "id": "66f44020-1e9c-414d-8502-599c8255c1f6",
   "metadata": {},
   "outputs": [],
   "source": [
    "import numpy as np\n",
    "import scipy.stats as stats\n",
    "import scipy.optimize as opt"
   ]
  },
  {
   "cell_type": "markdown",
   "id": "723af6be-9306-4e2d-a872-14e17efffc69",
   "metadata": {},
   "source": [
    "## 统计"
   ]
  },
  {
   "cell_type": "markdown",
   "id": "de78b365-93dd-4ca7-a66e-91a33d3db748",
   "metadata": {},
   "source": [
    "### 生成随机数\n",
    "\n",
    "生成n个随机数可用`rv_continuous.rvs(size=n)`或`rv_discrete.rvs(size=n)`\n",
    "\n",
    "- `rv_continuous`表示连续型的随机分布，如均匀分布（`uniform`）、正态分布（`norm`）、贝塔分布（`beta`）等；\n",
    "- `rv_discrete`表示离散型的随机分布，如伯努利分布（`bernoulli`）、几何分布（`geom`）、泊松分布（`poisson`）等。\n",
    "\n",
    "点击查阅 [统计函数 (scipy.stats) 手册](https://docs.scipy.org.cn/doc/scipy/reference/stats.html) 或 [英文版](https://docs.scipy.org/doc/scipy/reference/stats.html)"
   ]
  },
  {
   "cell_type": "code",
   "execution_count": 10,
   "id": "64ecf4e3-a32e-4df0-9227-5bedfd453b6f",
   "metadata": {},
   "outputs": [
    {
     "name": "stdout",
     "output_type": "stream",
     "text": [
      "[0.9357919  0.39175694 0.78447367 0.56149997 0.9892763  0.88851423\n",
      " 0.42201385 0.9239862  0.43197438 0.2977279 ]\n"
     ]
    }
   ],
   "source": [
    "rv_unif = stats.uniform.rvs(size=10)\n",
    "print(rv_unif)"
   ]
  },
  {
   "cell_type": "code",
   "execution_count": 11,
   "id": "47e2d8d9-d3d0-4580-931b-f1f84111fa8b",
   "metadata": {},
   "outputs": [
    {
     "name": "stdout",
     "output_type": "stream",
     "text": [
      "[0.74623507 0.76359656 0.39081388 0.53724531 0.50424926 0.75267061\n",
      " 0.70829427 0.64356349 0.44675237 0.78371563]\n"
     ]
    }
   ],
   "source": [
    "rv_beta = stats.beta.rvs(size=10, a=4, b=2)\n",
    "print(rv_beta)"
   ]
  },
  {
   "cell_type": "markdown",
   "id": "643c7a95-463e-497b-a40d-9a89c53ee57e",
   "metadata": {},
   "source": [
    "一些优化做法：\n",
    "\n",
    "- `SciPy.stats`支持定义出某个具体的分布的对象，我们可以做如下的定义，让`beta`直接指代具体参数`a=4`和`b=2`的贝塔分布。\n",
    "- 指定了随机数的生成种子"
   ]
  },
  {
   "cell_type": "code",
   "execution_count": 13,
   "id": "4e811fd4-a0fa-4078-8b6d-7aea876dcc0b",
   "metadata": {},
   "outputs": [
    {
     "name": "stdout",
     "output_type": "stream",
     "text": [
      "method 1:\n",
      "[0.55452864 0.3571434  0.83274347 0.73264615 0.5621855  0.93875378\n",
      " 0.7806391  0.84170717 0.55878702 0.80312908]\n"
     ]
    }
   ],
   "source": [
    "np.random.seed(seed=2025)\n",
    "rv_beta = stats.beta.rvs(size=10, a=4, b=2)\n",
    "print(\"method 1:\")\n",
    "print(rv_beta)"
   ]
  },
  {
   "cell_type": "code",
   "execution_count": 14,
   "id": "f7a2eeed-0fb7-40fc-b702-0edb4fcf0604",
   "metadata": {},
   "outputs": [
    {
     "name": "stdout",
     "output_type": "stream",
     "text": [
      "method 2:\n",
      "[0.55452864 0.3571434  0.83274347 0.73264615 0.5621855  0.93875378\n",
      " 0.7806391  0.84170717 0.55878702 0.80312908]\n"
     ]
    }
   ],
   "source": [
    "np.random.seed(seed=2025)\n",
    "beta = stats.beta(a=4, b=2)\n",
    "print(\"method 2:\")\n",
    "print(beta.rvs(size=10))"
   ]
  },
  {
   "cell_type": "markdown",
   "id": "ec247c47-e2fa-4bd8-9147-e8a117c69b52",
   "metadata": {},
   "source": [
    "### 假设检验\n",
    "\n",
    "生成一组数据，并查看相关的统计量。\n",
    "\n",
    "`norm` 一个正态连续随机变量。位置 (`loc`) 关键字指定均值。 尺度 (`scale`) 关键字指定标准差。"
   ]
  },
  {
   "cell_type": "code",
   "execution_count": 19,
   "id": "6e384900-4a06-466c-b090-7e5d9877c1a2",
   "metadata": {},
   "outputs": [
    {
     "name": "stdout",
     "output_type": "stream",
     "text": [
      "mean of data is: 0.6144130303808365\n",
      "median of data is: 0.5973383111601445\n",
      "standard deviation of data is: 2.024935628110048\n"
     ]
    }
   ],
   "source": [
    "np.random.seed(seed=2024)\n",
    "\n",
    "norm_dist = stats.norm(loc=0.5, scale=2)\n",
    "n = 200\n",
    "dat = norm_dist.rvs(size=n)\n",
    "print(\"mean of data is: \" + str(np.mean(dat)))\n",
    "print(\"median of data is: \" + str(np.median(dat)))\n",
    "print(\"standard deviation of data is: \" + str(np.std(dat)))"
   ]
  },
  {
   "cell_type": "markdown",
   "id": "b2d3df0b-e2cb-4a04-9311-58397d0317a0",
   "metadata": {},
   "source": [
    "最简单的是检验这一组数据是否服从假设的分布，如正态分布。\n",
    "\n",
    "典型的单样本假设检验问题，最为常见的解决方案是采用K-S检验（ Kolmogorov-Smirnov test）。\n",
    "\n",
    "单样本K-S检验的原假设是给定的数据来自和原假设分布相同的分布，在SciPy中提供了kstest函数，参数分别是数据、拟检验的分布名称和对应的参数。"
   ]
  },
  {
   "cell_type": "code",
   "execution_count": 20,
   "id": "0f844584-0227-41c3-bb32-33e7e1f7fef9",
   "metadata": {},
   "outputs": [
    {
     "name": "stdout",
     "output_type": "stream",
     "text": [
      "KS-statistic D =  0.032 p-value = 0.9834\n"
     ]
    }
   ],
   "source": [
    "mu = np.mean(dat)\n",
    "sigma = np.std(dat)\n",
    "stat_val, p_val = stats.kstest(dat, 'norm', (mu, sigma))\n",
    "print('KS-statistic D = %6.3f p-value = %6.4f' % (stat_val, p_val))"
   ]
  },
  {
   "cell_type": "markdown",
   "id": "c4846ac4-5f2b-4f65-9d24-d0c174515cb8",
   "metadata": {},
   "source": [
    "假设检验的`p-value`值很大（在原假设下，p-value是服从[0, 1]区间上的均匀分布的随机变量，可参考 [维基百科 P-value 词条](http://en.wikipedia.org/wiki/P-value) ），因此我们接受原假设，即该数据通过了正态性的检验。\n",
    "\n",
    "在正态性的前提下，我们可进一步检验这组数据的均值是不是0。典型的方法是`t`检验（`t-test`）。\n",
    "\n",
    "单样本的`t`检验函数为`ttest_1samp`。"
   ]
  },
  {
   "cell_type": "code",
   "execution_count": 21,
   "id": "561bde90-6453-4185-b579-f12f153c1bd9",
   "metadata": {},
   "outputs": [
    {
     "name": "stdout",
     "output_type": "stream",
     "text": [
      "One-sample t-statistic D =  4.280, p-value = 0.0000\n"
     ]
    }
   ],
   "source": [
    "stat_val, p_val = stats.ttest_1samp(dat, 0)\n",
    "print('One-sample t-statistic D = %6.3f, p-value = %6.4f' % (stat_val, p_val))"
   ]
  },
  {
   "cell_type": "markdown",
   "id": "5c5fb078-2c6a-4900-8f05-2cff5cea898a",
   "metadata": {},
   "source": [
    "看到`p-value<0.05`，即给定显著性水平`0.05`的前提下，我们应拒绝原假设：数据的均值为`0`。\n",
    "\n",
    "再生成一组数据，尝试一下双样本的`t`检验（`ttest_ind`）。"
   ]
  },
  {
   "cell_type": "code",
   "execution_count": 25,
   "id": "f6f47aef-7e76-4096-a685-030daf9694e6",
   "metadata": {},
   "outputs": [
    {
     "name": "stdout",
     "output_type": "stream",
     "text": [
      "Two-sample t-statistic D =  4.429, p-value = 0.0000\n"
     ]
    }
   ],
   "source": [
    "norm_dist2 = stats.norm(loc=-0.2, scale=1.2)\n",
    "dat2 = norm_dist2.rvs(size=(n-19)) # 随便取长度，和 dat1 样本大小、方差均不相等\n",
    "stat_val, p_val = stats.ttest_ind(dat, dat2, equal_var=False)\n",
    "print('Two-sample t-statistic D = %6.3f, p-value = %6.4f' % (stat_val, p_val))"
   ]
  },
  {
   "cell_type": "markdown",
   "id": "cb86df0e-fa71-4d3a-b314-08dab97a2930",
   "metadata": {},
   "source": [
    "第二组数据样本大小、方差和第一组均不相等，在运用`t`检验时需要使用`Welch's t-test`，即指定`ttest_ind`中的`equal_var=False`。得到了比较小的p-value$，在显著性水平0.05的前提下拒绝原假设，即认为两组数据均值不等。\n",
    "\n",
    "得到了比较小的`p-value`，在显著性水平`0.05`的前提下拒绝原假设，即认为两组数据均值不等。\n",
    "\n",
    "`stats`还提供其他大量的假设检验函数，如`bartlett`和`levene`用于检验方差是否相等；`anderson_ksamp`用于进行`Anderson-Darling`的`K-样本`检验等。"
   ]
  },
  {
   "cell_type": "markdown",
   "id": "6df0e125-a86c-443e-8cdb-1bbf25c1a581",
   "metadata": {},
   "source": [
    "### 其他函数\n",
    "\n",
    "需要知道某数值在一个分布中的分位，或者给定了一个分布，求某分位上的数值。这可以通过`cdf`和`ppf`函数完成。"
   ]
  },
  {
   "cell_type": "code",
   "execution_count": 32,
   "id": "bb8e6422-c5aa-4b32-ab5d-06a89fe2f40d",
   "metadata": {},
   "outputs": [
    {
     "name": "stdout",
     "output_type": "stream",
     "text": [
      "quantiles of 2, 4 and 5:\n",
      "[0.59399415 0.90842181 0.95957232]\n",
      "Values of 25%, 50% and 90%:\n",
      "[0.96127876 1.67834699 4.74386452]\n",
      "Values of 25%, 50% and 90%:\n",
      "[0.1947002  0.30326533 0.36740397]\n"
     ]
    }
   ],
   "source": [
    "g_dist = stats.gamma(a=2)\n",
    "print(\"quantiles of 2, 4 and 5:\")\n",
    "print(g_dist.cdf([2, 4, 5]))\n",
    "print(\"Values of 25%, 50% and 90%:\")\n",
    "print(g_dist.ppf([0.25, 0.5, 0.95]))\n",
    "print(\"Values of 25%, 50% and 90%:\")\n",
    "print(g_dist.pdf([0.25, 0.5, 0.95]))"
   ]
  },
  {
   "cell_type": "markdown",
   "id": "9c474a8e-c0d7-4f11-b843-db819f757b2b",
   "metadata": {},
   "source": [
    "对于一个给定的分布，可以用moment很方便的查看分布的矩信息，例如我们查看N(0,1)的六阶原点矩"
   ]
  },
  {
   "cell_type": "code",
   "execution_count": 34,
   "id": "664aed05-ae9c-4165-aba7-2fbf860fd5ff",
   "metadata": {},
   "outputs": [
    {
     "data": {
      "text/plain": [
       "np.float64(15.000000000000004)"
      ]
     },
     "execution_count": 34,
     "metadata": {},
     "output_type": "execute_result"
    }
   ],
   "source": [
    "stats.norm.moment(6, loc=0, scale=1)"
   ]
  },
  {
   "cell_type": "markdown",
   "id": "ca64f067-6868-4046-9a04-4a31cc2c25fd",
   "metadata": {},
   "source": [
    "`describe`函数提供对数据集的统计描述分析，包括数据样本大小，极值，均值，方差，偏度和峰度："
   ]
  },
  {
   "cell_type": "code",
   "execution_count": 35,
   "id": "dd361a42-463e-493c-a615-ce5c98f54287",
   "metadata": {},
   "outputs": [
    {
     "name": "stdout",
     "output_type": "stream",
     "text": [
      "Data size is: 100\n",
      "Minimum value is: -6.611219384688499\n",
      "Maximum value is: 4.59998935584996\n",
      "Arithmetic mean is: -0.010790196944001471\n",
      "Unbiased variance is: 3.334150803038929\n",
      "Biased skewness is: -0.33336530030397216\n",
      "Biased kurtosis is: 1.0054260326043316\n"
     ]
    }
   ],
   "source": [
    "norm_dist = stats.norm(loc=0, scale=1.8)\n",
    "dat = norm_dist.rvs(size=100)\n",
    "info = stats.describe(dat)\n",
    "print(\"Data size is: \" + str(info[0]))\n",
    "print(\"Minimum value is: \" + str(info[1][0]))\n",
    "print(\"Maximum value is: \" + str(info[1][1]))\n",
    "print(\"Arithmetic mean is: \" + str(info[2]))\n",
    "print(\"Unbiased variance is: \" + str(info[3]))\n",
    "print(\"Biased skewness is: \" + str(info[4]))\n",
    "print(\"Biased kurtosis is: \" + str(info[5]))"
   ]
  },
  {
   "cell_type": "markdown",
   "id": "f24f47e2-5494-4ff5-81ee-7fb7f7eda6e8",
   "metadata": {},
   "source": [
    "## 优化\n",
    "\n",
    "优化问题在投资中可谓是根本问题，如果手上有众多可选的策略，应如何从中选择一个“最好”的策略进行投资呢？这时就需要用到一些优化技术针对给定的指标进行寻优。随着越来越多金融数据的出现，机器学习逐渐应用在投资领域，在机器学习中，优化也是十分重要的一个部分。\n",
    "\n",
    "所谓的无约束优化问题指的是一个优化问题的最优可行集合是目标函数自变量的定义域，即没有外部的限制条件。\n",
    "\n",
    "例如，$f(x)=x^2-4.8x+1.2$ 求解$f(x)$的最小值，就是一个无约束优化问题。\n",
    "\n",
    "而求解$f(x)=x^2-4.8x+1.2$在$X >= 0$条件下的最小值，则是一个带约束的优化问题。"
   ]
  },
  {
   "cell_type": "markdown",
   "id": "5fc7a812-5df5-4884-81ae-0d7d6d24af44",
   "metadata": {},
   "source": [
    "### 无约束优化问题"
   ]
  },
  {
   "cell_type": "markdown",
   "id": "4ad0338d-7031-4983-9f39-038765c03401",
   "metadata": {},
   "source": [
    "### 约束优化问题"
   ]
  },
  {
   "cell_type": "code",
   "execution_count": null,
   "id": "dd89efb9-5a0b-4353-84b5-1c9a72f09cbd",
   "metadata": {},
   "outputs": [],
   "source": []
  }
 ],
 "metadata": {
  "kernelspec": {
   "display_name": "Python 3 (ipykernel)",
   "language": "python",
   "name": "python3"
  },
  "language_info": {
   "codemirror_mode": {
    "name": "ipython",
    "version": 3
   },
   "file_extension": ".py",
   "mimetype": "text/x-python",
   "name": "python",
   "nbconvert_exporter": "python",
   "pygments_lexer": "ipython3",
   "version": "3.12.9"
  }
 },
 "nbformat": 4,
 "nbformat_minor": 5
}
