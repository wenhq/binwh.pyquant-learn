{
 "cells": [
  {
   "cell_type": "markdown",
   "id": "13d04e90",
   "metadata": {},
   "source": [
    "\n",
    "# 计算期权的价格\n",
    "本篇内容来自：[量化分析师的Python日记【第7天：Q Quant 之初出江湖】](https://www.kancloud.cn/wizardforcel/python-quant-uqer/186117)\n",
    "\n",
    "- 如何使用python内置的数学函数计算期权的价格；\n",
    "- 利用 `numpy` 加速数值计算；\n",
    "- 利用 `scipy` 进行仿真模拟，学习使用蒙特卡洛分析；\n",
    "- 使用 `scipy` 求解器计算隐含波动率；\n",
    "- 使用 `matplotlib` 绘制精美的图表。"
   ]
  },
  {
   "cell_type": "markdown",
   "id": "7301a1fb",
   "metadata": {},
   "source": [
    "## 问题描述\n",
    "\n",
    "某个期权：\n",
    "- 当前价 `spot`: 2.45\n",
    "- 行权价 `strke`: 2.50\n",
    "- 到期期限 `maturiy`: 0.25\n",
    "- 无风险利率 `r`: 0.05\n",
    "- 波动率 `vol`: 0.25\n",
    "\n",
    "关于这样的简单欧式期权的定价，使用经典的 Black - Scholes 公式\n",
    "\n",
    "\\begin{equation}\n",
    "\\begin{split}\n",
    "    Call(S,K,r,\\tau,\\sigma) &=SN(d_1) - Ke^{-r\\tau}N(d_2)  \\\\\n",
    "    d_1  &= \\frac{\\ln(S/K) + (r + \\frac{1}{2}\\sigma^2)\\tau}{\\sigma\\sqrt{\\tau}}  \\\\\n",
    "    d_2 &= d_1 - \\sigma\\sqrt{\\tau}\n",
    "\\end{split}\n",
    "\\end{equation}\n",
    "\n",
    "其中，$S$ 为标的价格，$K$ 为执行价格，$r$ 为无风险利率， $\\tau = T - t$ 为剩余到期时间。$N(x)$ 为标准正态分布的累计概率密度函数。 $Call(S,K,r,\\tau,\\sigma)$ 为看涨期权的价格。"
   ]
  },
  {
   "cell_type": "code",
   "execution_count": 1,
   "id": "f2cefe7a",
   "metadata": {},
   "outputs": [],
   "source": [
    "# 参数\n",
    "spot = 2.45\n",
    "strike = 2.50\n",
    "maturity = 0.25\n",
    "r = 0.05\n",
    "vol = 0.25"
   ]
  },
  {
   "cell_type": "markdown",
   "id": "3f3d0001",
   "metadata": {},
   "source": [
    "- `log`,`sqrt`,`exp`，这三个函数可以从标准库`math`中找到\n",
    "- 标准正态分布的累计概率密度函数，使用`scipy`库中的`stats.norm.cdf`函数"
   ]
  },
  {
   "cell_type": "code",
   "execution_count": 2,
   "id": "68d5f1e5",
   "metadata": {},
   "outputs": [],
   "source": [
    "# 基于Black - Scholes 公式的期权定价公式\n",
    "from math import log, sqrt, exp\n",
    "from scipy.stats import norm\n",
    "\n",
    "def call_option_pricer(spot, strike, maturity, r, vol):\n",
    "    \n",
    "    d1 = (log(spot/strike) + (r + 0.5 * vol *vol) * maturity) / vol / sqrt(maturity)\n",
    "    d2 = d1 - vol * sqrt(maturity)\n",
    "    \n",
    "    price = spot * norm.cdf(d1) - strike * exp(-r*maturity) * norm.cdf(d2)\n",
    "    return price"
   ]
  },
  {
   "cell_type": "code",
   "execution_count": 3,
   "id": "3d834a48",
   "metadata": {},
   "outputs": [
    {
     "name": "stdout",
     "output_type": "stream",
     "text": [
      "期权价格 : 0.1133\n"
     ]
    }
   ],
   "source": [
    "print('期权价格 : %.4f' % call_option_pricer(spot, strike, maturity, r, vol))"
   ]
  },
  {
   "cell_type": "markdown",
   "id": "1bf5617f",
   "metadata": {},
   "source": [
    "## 使用 numpy 加速批量计算\n",
    "### 循环的方式\n",
    "### numpy 向量计算\n",
    "## scipy 仿真计算\n",
    "## 计算隐含波动率"
   ]
  }
 ],
 "metadata": {
  "kernelspec": {
   "display_name": "base",
   "language": "python",
   "name": "python3"
  },
  "language_info": {
   "codemirror_mode": {
    "name": "ipython",
    "version": 3
   },
   "file_extension": ".py",
   "mimetype": "text/x-python",
   "name": "python",
   "nbconvert_exporter": "python",
   "pygments_lexer": "ipython3",
   "version": "3.9.23"
  }
 },
 "nbformat": 4,
 "nbformat_minor": 5
}
