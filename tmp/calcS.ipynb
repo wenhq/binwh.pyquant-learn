{
 "cells": [
  {
   "cell_type": "code",
   "execution_count": 195,
   "id": "072aa621",
   "metadata": {},
   "outputs": [
    {
     "name": "stdout",
     "output_type": "stream",
     "text": [
      "1.17.24\n"
     ]
    }
   ],
   "source": [
    "# 临时计算，暂无逻辑\n",
    "from datetime import datetime\n",
    "from dateutil.relativedelta import relativedelta\n",
    "\n",
    "import numpy as np\n",
    "from scipy.signal import savgol_filter\n",
    "from scipy.interpolate import UnivariateSpline\n",
    "import pandas as pd\n",
    "import matplotlib.pyplot as plt\n",
    "import matplotlib.dates as mdates\n",
    "# 设置中文字体\n",
    "plt.rcParams['font.sans-serif'] = ['Microsoft YaHei', 'SimHei'] # 设置支持中文的字体\n",
    "plt.rcParams['axes.unicode_minus'] = False # 正确显示负号\n",
    "\n",
    "import akshare as ak\n",
    "print(ak.__version__)\n"
   ]
  },
  {
   "cell_type": "code",
   "execution_count": 721,
   "id": "e82cfe80",
   "metadata": {},
   "outputs": [],
   "source": [
    "\n",
    "# 获取当前时间\n",
    "current_date = datetime.now()\n",
    "end_date = current_date.date()\n",
    "start_date = end_date - relativedelta(years=1)\n",
    "\n",
    "str_end = end_date.strftime(\"%Y%m%d\")\n",
    "str_start = start_date.strftime(\"%Y%m%d\")\n",
    "\n",
    "str_end, str_start\n",
    "\n",
    "\n",
    "stock_code = \"600497\""
   ]
  },
  {
   "cell_type": "code",
   "execution_count": 722,
   "id": "f7436936",
   "metadata": {},
   "outputs": [
    {
     "name": "stdout",
     "output_type": "stream",
     "text": [
      "            日期    股票代码    开盘    收盘    最高    最低      成交量           成交额    振幅  \\\n",
      "50  2025-07-18  600497  5.46  5.49  5.53  5.34  3239917  1.761901e+09  3.49   \n",
      "51  2025-07-25  600497  5.55  5.73  5.82  5.52  5798880  3.294103e+09  5.46   \n",
      "52  2025-07-31  600497  5.72  5.47  5.89  5.46  4003931  2.270080e+09  7.50   \n",
      "\n",
      "     涨跌幅   涨跌额    换手率  \n",
      "50  0.92  0.05   6.43  \n",
      "51  4.37  0.24  11.50  \n",
      "52 -4.54 -0.26   7.94  \n"
     ]
    }
   ],
   "source": [
    "# 获取最近一年的复权行情\n",
    "stock_zh_a_hist_df = ak.stock_zh_a_hist(symbol=stock_code, period=\"weekly\", start_date=str_start, end_date=str_end, adjust=\"qfq\")\n",
    "print(stock_zh_a_hist_df.tail(3))"
   ]
  },
  {
   "cell_type": "code",
   "execution_count": 723,
   "id": "0cd508af",
   "metadata": {},
   "outputs": [
    {
     "data": {
      "text/html": [
       "<div>\n",
       "<style scoped>\n",
       "    .dataframe tbody tr th:only-of-type {\n",
       "        vertical-align: middle;\n",
       "    }\n",
       "\n",
       "    .dataframe tbody tr th {\n",
       "        vertical-align: top;\n",
       "    }\n",
       "\n",
       "    .dataframe thead th {\n",
       "        text-align: right;\n",
       "    }\n",
       "</style>\n",
       "<table border=\"1\" class=\"dataframe\">\n",
       "  <thead>\n",
       "    <tr style=\"text-align: right;\">\n",
       "      <th></th>\n",
       "      <th>date</th>\n",
       "      <th>stock_code</th>\n",
       "      <th>open</th>\n",
       "      <th>close</th>\n",
       "      <th>high</th>\n",
       "      <th>low</th>\n",
       "      <th>volume</th>\n",
       "      <th>amount</th>\n",
       "      <th>amplitude</th>\n",
       "      <th>pct_change</th>\n",
       "      <th>price_change</th>\n",
       "      <th>turnover_rate</th>\n",
       "    </tr>\n",
       "  </thead>\n",
       "  <tbody>\n",
       "    <tr>\n",
       "      <th>50</th>\n",
       "      <td>2025-07-18</td>\n",
       "      <td>600497</td>\n",
       "      <td>5.46</td>\n",
       "      <td>5.49</td>\n",
       "      <td>5.53</td>\n",
       "      <td>5.34</td>\n",
       "      <td>3239917</td>\n",
       "      <td>1.761901e+09</td>\n",
       "      <td>3.49</td>\n",
       "      <td>0.92</td>\n",
       "      <td>0.05</td>\n",
       "      <td>6.43</td>\n",
       "    </tr>\n",
       "    <tr>\n",
       "      <th>51</th>\n",
       "      <td>2025-07-25</td>\n",
       "      <td>600497</td>\n",
       "      <td>5.55</td>\n",
       "      <td>5.73</td>\n",
       "      <td>5.82</td>\n",
       "      <td>5.52</td>\n",
       "      <td>5798880</td>\n",
       "      <td>3.294103e+09</td>\n",
       "      <td>5.46</td>\n",
       "      <td>4.37</td>\n",
       "      <td>0.24</td>\n",
       "      <td>11.50</td>\n",
       "    </tr>\n",
       "    <tr>\n",
       "      <th>52</th>\n",
       "      <td>2025-07-31</td>\n",
       "      <td>600497</td>\n",
       "      <td>5.72</td>\n",
       "      <td>5.47</td>\n",
       "      <td>5.89</td>\n",
       "      <td>5.46</td>\n",
       "      <td>4003931</td>\n",
       "      <td>2.270080e+09</td>\n",
       "      <td>7.50</td>\n",
       "      <td>-4.54</td>\n",
       "      <td>-0.26</td>\n",
       "      <td>7.94</td>\n",
       "    </tr>\n",
       "  </tbody>\n",
       "</table>\n",
       "</div>"
      ],
      "text/plain": [
       "          date stock_code  open  close  high   low   volume        amount  \\\n",
       "50  2025-07-18     600497  5.46   5.49  5.53  5.34  3239917  1.761901e+09   \n",
       "51  2025-07-25     600497  5.55   5.73  5.82  5.52  5798880  3.294103e+09   \n",
       "52  2025-07-31     600497  5.72   5.47  5.89  5.46  4003931  2.270080e+09   \n",
       "\n",
       "    amplitude  pct_change  price_change  turnover_rate  \n",
       "50       3.49        0.92          0.05           6.43  \n",
       "51       5.46        4.37          0.24          11.50  \n",
       "52       7.50       -4.54         -0.26           7.94  "
      ]
     },
     "execution_count": 723,
     "metadata": {},
     "output_type": "execute_result"
    }
   ],
   "source": [
    "column_mapping = {\n",
    "    '日期': 'date',\n",
    "    '股票代码': 'stock_code',\n",
    "    '开盘': 'open',\n",
    "    '收盘': 'close',\n",
    "    '最高': 'high',\n",
    "    '最低': 'low',\n",
    "    '成交量': 'volume',\n",
    "    '成交额': 'amount',\n",
    "    '振幅': 'amplitude',\n",
    "    '涨跌幅': 'pct_change',\n",
    "    '涨跌额': 'price_change',\n",
    "    '换手率': 'turnover_rate'\n",
    "}\n",
    "\n",
    "stock_zh_a_hist_df = stock_zh_a_hist_df.rename(columns=column_mapping)\n",
    "\n",
    "stock_zh_a_hist_df.tail(3)"
   ]
  },
  {
   "cell_type": "code",
   "execution_count": 724,
   "id": "07d25159",
   "metadata": {},
   "outputs": [
    {
     "data": {
      "text/html": [
       "<div>\n",
       "<style scoped>\n",
       "    .dataframe tbody tr th:only-of-type {\n",
       "        vertical-align: middle;\n",
       "    }\n",
       "\n",
       "    .dataframe tbody tr th {\n",
       "        vertical-align: top;\n",
       "    }\n",
       "\n",
       "    .dataframe thead th {\n",
       "        text-align: right;\n",
       "    }\n",
       "</style>\n",
       "<table border=\"1\" class=\"dataframe\">\n",
       "  <thead>\n",
       "    <tr style=\"text-align: right;\">\n",
       "      <th></th>\n",
       "      <th>date</th>\n",
       "      <th>stock_code</th>\n",
       "      <th>open</th>\n",
       "      <th>close</th>\n",
       "      <th>high</th>\n",
       "      <th>low</th>\n",
       "      <th>volume</th>\n",
       "      <th>amount</th>\n",
       "      <th>amplitude</th>\n",
       "      <th>pct_change</th>\n",
       "      <th>price_change</th>\n",
       "      <th>turnover_rate</th>\n",
       "    </tr>\n",
       "    <tr>\n",
       "      <th>date</th>\n",
       "      <th></th>\n",
       "      <th></th>\n",
       "      <th></th>\n",
       "      <th></th>\n",
       "      <th></th>\n",
       "      <th></th>\n",
       "      <th></th>\n",
       "      <th></th>\n",
       "      <th></th>\n",
       "      <th></th>\n",
       "      <th></th>\n",
       "      <th></th>\n",
       "    </tr>\n",
       "  </thead>\n",
       "  <tbody>\n",
       "    <tr>\n",
       "      <th>2025-07-18</th>\n",
       "      <td>2025-07-18</td>\n",
       "      <td>600497</td>\n",
       "      <td>5.46</td>\n",
       "      <td>5.49</td>\n",
       "      <td>5.53</td>\n",
       "      <td>5.34</td>\n",
       "      <td>3239917</td>\n",
       "      <td>1.761901e+09</td>\n",
       "      <td>3.49</td>\n",
       "      <td>0.92</td>\n",
       "      <td>0.05</td>\n",
       "      <td>6.43</td>\n",
       "    </tr>\n",
       "    <tr>\n",
       "      <th>2025-07-25</th>\n",
       "      <td>2025-07-25</td>\n",
       "      <td>600497</td>\n",
       "      <td>5.55</td>\n",
       "      <td>5.73</td>\n",
       "      <td>5.82</td>\n",
       "      <td>5.52</td>\n",
       "      <td>5798880</td>\n",
       "      <td>3.294103e+09</td>\n",
       "      <td>5.46</td>\n",
       "      <td>4.37</td>\n",
       "      <td>0.24</td>\n",
       "      <td>11.50</td>\n",
       "    </tr>\n",
       "    <tr>\n",
       "      <th>2025-07-31</th>\n",
       "      <td>2025-07-31</td>\n",
       "      <td>600497</td>\n",
       "      <td>5.72</td>\n",
       "      <td>5.47</td>\n",
       "      <td>5.89</td>\n",
       "      <td>5.46</td>\n",
       "      <td>4003931</td>\n",
       "      <td>2.270080e+09</td>\n",
       "      <td>7.50</td>\n",
       "      <td>-4.54</td>\n",
       "      <td>-0.26</td>\n",
       "      <td>7.94</td>\n",
       "    </tr>\n",
       "  </tbody>\n",
       "</table>\n",
       "</div>"
      ],
      "text/plain": [
       "                  date stock_code  open  close  high   low   volume  \\\n",
       "date                                                                  \n",
       "2025-07-18  2025-07-18     600497  5.46   5.49  5.53  5.34  3239917   \n",
       "2025-07-25  2025-07-25     600497  5.55   5.73  5.82  5.52  5798880   \n",
       "2025-07-31  2025-07-31     600497  5.72   5.47  5.89  5.46  4003931   \n",
       "\n",
       "                  amount  amplitude  pct_change  price_change  turnover_rate  \n",
       "date                                                                          \n",
       "2025-07-18  1.761901e+09       3.49        0.92          0.05           6.43  \n",
       "2025-07-25  3.294103e+09       5.46        4.37          0.24          11.50  \n",
       "2025-07-31  2.270080e+09       7.50       -4.54         -0.26           7.94  "
      ]
     },
     "execution_count": 724,
     "metadata": {},
     "output_type": "execute_result"
    }
   ],
   "source": [
    "stock_zh_a_hist_df.index  = pd.to_datetime(stock_zh_a_hist_df.date)\n",
    "stock_zh_a_hist_df.tail(3)"
   ]
  },
  {
   "cell_type": "code",
   "execution_count": 725,
   "id": "4f752a57",
   "metadata": {},
   "outputs": [],
   "source": [
    "q1, q3 = np.percentile(stock_zh_a_hist_df['close'], [25, 75])\n",
    "\n",
    "iqr = q3 - q1\n",
    "lower = q1 - 1.5*iqr\n",
    "upper = q3 + 1.5*iqr\n",
    "\n",
    "# 创建新DataFrame并保留索引\n",
    "close_adjust_df = pd.DataFrame(index=stock_zh_a_hist_df.index)\n",
    "close_adjust_df['close_adjust'] = np.clip(stock_zh_a_hist_df['close'], lower, upper)"
   ]
  },
  {
   "cell_type": "code",
   "execution_count": 726,
   "id": "801994f4",
   "metadata": {},
   "outputs": [],
   "source": [
    "# 假设x为时间序列索引，y为收盘价\n",
    "x_data = close_adjust_df.index.astype(np.int64)\n",
    "y_data = close_adjust_df['close_adjust']"
   ]
  },
  {
   "cell_type": "code",
   "execution_count": 727,
   "id": "95798dd6",
   "metadata": {},
   "outputs": [],
   "source": [
    "# Savitzky-Golay滤波\n",
    "window_size = 5 # window_length 必须为奇数\n",
    "smoothed = savgol_filter(y_data, window_length=window_size, polyorder=3) \n",
    "\n",
    "# 样条插值（带凸性分析）\n",
    "spline = UnivariateSpline(x_data, y_data, k=3, s=len(x_data))\n",
    "spline_fit = spline(x_data)\n",
    "second_deriv = spline.derivative(n=2)(x_data)  # 二阶导数"
   ]
  },
  {
   "cell_type": "code",
   "execution_count": 728,
   "id": "d53cc03e",
   "metadata": {},
   "outputs": [
    {
     "data": {
      "image/png": "[encoded data removed]",
      "text/plain": [
       "<Figure size 1200x600 with 1 Axes>"
      ]
     },
     "metadata": {},
     "output_type": "display_data"
    }
   ],
   "source": [
    "# 可视化\n",
    "plt.figure(figsize=(12,6))\n",
    "plt.plot(stock_zh_a_hist_df.index, stock_zh_a_hist_df['close'], 'ks', label='原始数据', alpha=0.6)\n",
    "plt.plot(close_adjust_df.index, y_data, 'k.', label='调整数据', alpha=0.6)\n",
    "plt.plot(close_adjust_df.index, smoothed, 'b-', label=f'SG滤波(窗口={window_size})', lw=2)\n",
    "plt.plot(close_adjust_df.index, spline_fit, 'r--', label='样条拟合', lw=2)\n",
    "\n",
    "# 标记凸性区域\n",
    "plt.fill_between(close_adjust_df.index, spline_fit, where=second_deriv>0, \n",
    "                facecolor='green', alpha=0.2, label='凸区间')\n",
    "plt.fill_between(close_adjust_df.index, spline_fit, where=second_deriv<0,\n",
    "                facecolor='red', alpha=0.2, label='凹区间')\n",
    "\n",
    "plt.title('股票收盘价波段分析', fontsize=14)\n",
    "plt.xlabel('交易日', fontsize=12)\n",
    "plt.ylabel('收盘价', fontsize=12)\n",
    "plt.legend()\n",
    "plt.grid(True)\n",
    "plt.gca().xaxis.set_major_formatter(mdates.DateFormatter('%Y-%m-%d'))  # 设置日期格式\n",
    "plt.gcf().autofmt_xdate()  # 自动旋转日期标签\n",
    "plt.show()"
   ]
  },
  {
   "cell_type": "code",
   "execution_count": 729,
   "id": "8ae1ca19",
   "metadata": {},
   "outputs": [
    {
     "data": {
      "text/html": [
       "<div>\n",
       "<style scoped>\n",
       "    .dataframe tbody tr th:only-of-type {\n",
       "        vertical-align: middle;\n",
       "    }\n",
       "\n",
       "    .dataframe tbody tr th {\n",
       "        vertical-align: top;\n",
       "    }\n",
       "\n",
       "    .dataframe thead th {\n",
       "        text-align: right;\n",
       "    }\n",
       "</style>\n",
       "<table border=\"1\" class=\"dataframe\">\n",
       "  <thead>\n",
       "    <tr style=\"text-align: right;\">\n",
       "      <th></th>\n",
       "      <th>2deriv</th>\n",
       "    </tr>\n",
       "    <tr>\n",
       "      <th>date</th>\n",
       "      <th></th>\n",
       "    </tr>\n",
       "  </thead>\n",
       "  <tbody>\n",
       "    <tr>\n",
       "      <th>2025-07-18</th>\n",
       "      <td>2.276138e-32</td>\n",
       "    </tr>\n",
       "    <tr>\n",
       "      <th>2025-07-25</th>\n",
       "      <td>2.385580e-32</td>\n",
       "    </tr>\n",
       "    <tr>\n",
       "      <th>2025-07-31</th>\n",
       "      <td>2.479388e-32</td>\n",
       "    </tr>\n",
       "  </tbody>\n",
       "</table>\n",
       "</div>"
      ],
      "text/plain": [
       "                  2deriv\n",
       "date                    \n",
       "2025-07-18  2.276138e-32\n",
       "2025-07-25  2.385580e-32\n",
       "2025-07-31  2.479388e-32"
      ]
     },
     "execution_count": 729,
     "metadata": {},
     "output_type": "execute_result"
    }
   ],
   "source": [
    "second_deriv_df = pd.DataFrame(index=stock_zh_a_hist_df.index)\n",
    "second_deriv_df['2deriv'] = second_deriv\n",
    "second_deriv_df.tail(3)"
   ]
  },
  {
   "cell_type": "code",
   "execution_count": 730,
   "id": "d1bffd30",
   "metadata": {},
   "outputs": [
    {
     "data": {
      "text/html": [
       "<div>\n",
       "<style scoped>\n",
       "    .dataframe tbody tr th:only-of-type {\n",
       "        vertical-align: middle;\n",
       "    }\n",
       "\n",
       "    .dataframe tbody tr th {\n",
       "        vertical-align: top;\n",
       "    }\n",
       "\n",
       "    .dataframe thead th {\n",
       "        text-align: right;\n",
       "    }\n",
       "</style>\n",
       "<table border=\"1\" class=\"dataframe\">\n",
       "  <thead>\n",
       "    <tr style=\"text-align: right;\">\n",
       "      <th></th>\n",
       "      <th>2deriv</th>\n",
       "      <th>is_negative</th>\n",
       "      <th>group</th>\n",
       "    </tr>\n",
       "    <tr>\n",
       "      <th>date</th>\n",
       "      <th></th>\n",
       "      <th></th>\n",
       "      <th></th>\n",
       "    </tr>\n",
       "  </thead>\n",
       "  <tbody>\n",
       "    <tr>\n",
       "      <th>2025-07-18</th>\n",
       "      <td>2.276138e-32</td>\n",
       "      <td>False</td>\n",
       "      <td>2</td>\n",
       "    </tr>\n",
       "    <tr>\n",
       "      <th>2025-07-25</th>\n",
       "      <td>2.385580e-32</td>\n",
       "      <td>False</td>\n",
       "      <td>2</td>\n",
       "    </tr>\n",
       "    <tr>\n",
       "      <th>2025-07-31</th>\n",
       "      <td>2.479388e-32</td>\n",
       "      <td>False</td>\n",
       "      <td>2</td>\n",
       "    </tr>\n",
       "  </tbody>\n",
       "</table>\n",
       "</div>"
      ],
      "text/plain": [
       "                  2deriv  is_negative  group\n",
       "date                                        \n",
       "2025-07-18  2.276138e-32        False      2\n",
       "2025-07-25  2.385580e-32        False      2\n",
       "2025-07-31  2.479388e-32        False      2"
      ]
     },
     "execution_count": 730,
     "metadata": {},
     "output_type": "execute_result"
    }
   ],
   "source": [
    "# 标记负值区域\n",
    "second_deriv_df['is_negative'] = second_deriv_df['2deriv'] < 0\n",
    "# 找出区间变化点\n",
    "second_deriv_df['group'] = (second_deriv_df['is_negative'] != second_deriv_df['is_negative'].shift(1)).cumsum()\n",
    "# 筛选负值区间\n",
    "negative_groups = second_deriv_df[second_deriv_df['is_negative']].groupby('group')\n",
    "\n",
    "second_deriv_df.tail(3)"
   ]
  },
  {
   "cell_type": "code",
   "execution_count": 731,
   "id": "b119c0b2",
   "metadata": {},
   "outputs": [
    {
     "name": "stdout",
     "output_type": "stream",
     "text": [
      "[1]\n"
     ]
    },
    {
     "data": {
      "text/html": [
       "<div>\n",
       "<style scoped>\n",
       "    .dataframe tbody tr th:only-of-type {\n",
       "        vertical-align: middle;\n",
       "    }\n",
       "\n",
       "    .dataframe tbody tr th {\n",
       "        vertical-align: top;\n",
       "    }\n",
       "\n",
       "    .dataframe thead th {\n",
       "        text-align: right;\n",
       "    }\n",
       "</style>\n",
       "<table border=\"1\" class=\"dataframe\">\n",
       "  <thead>\n",
       "    <tr style=\"text-align: right;\">\n",
       "      <th></th>\n",
       "      <th>2deriv</th>\n",
       "      <th>is_negative</th>\n",
       "      <th>group</th>\n",
       "    </tr>\n",
       "    <tr>\n",
       "      <th>date</th>\n",
       "      <th></th>\n",
       "      <th></th>\n",
       "      <th></th>\n",
       "    </tr>\n",
       "  </thead>\n",
       "  <tbody>\n",
       "    <tr>\n",
       "      <th>2024-08-02</th>\n",
       "      <td>-3.195970e-32</td>\n",
       "      <td>True</td>\n",
       "      <td>1</td>\n",
       "    </tr>\n",
       "    <tr>\n",
       "      <th>2024-08-09</th>\n",
       "      <td>-3.086528e-32</td>\n",
       "      <td>True</td>\n",
       "      <td>1</td>\n",
       "    </tr>\n",
       "    <tr>\n",
       "      <th>2024-08-16</th>\n",
       "      <td>-2.977085e-32</td>\n",
       "      <td>True</td>\n",
       "      <td>1</td>\n",
       "    </tr>\n",
       "  </tbody>\n",
       "</table>\n",
       "</div>"
      ],
      "text/plain": [
       "                  2deriv  is_negative  group\n",
       "date                                        \n",
       "2024-08-02 -3.195970e-32         True      1\n",
       "2024-08-09 -3.086528e-32         True      1\n",
       "2024-08-16 -2.977085e-32         True      1"
      ]
     },
     "execution_count": 731,
     "metadata": {},
     "output_type": "execute_result"
    }
   ],
   "source": [
    "filtered_df = second_deriv_df[(second_deriv_df['is_negative'] == True)]\n",
    "\n",
    "# 获取最后三个分组号\n",
    "last_three_groups = filtered_df['group'].unique()[-3:]\n",
    "\n",
    "print(last_three_groups)\n",
    "\n",
    "# 筛选条件\n",
    "filtered_df = filtered_df[filtered_df['group'].isin(last_three_groups)]\n",
    "\n",
    "filtered_df.head(3)"
   ]
  },
  {
   "cell_type": "code",
   "execution_count": 732,
   "id": "576ae0c4",
   "metadata": {},
   "outputs": [
    {
     "name": "stdout",
     "output_type": "stream",
     "text": [
      "周线日期 20240920 为波段最低价，价格为 4.37\n"
     ]
    }
   ],
   "source": [
    "low_price = stock_zh_a_hist_df[stock_zh_a_hist_df.index.isin(filtered_df.index)].low.min()\n",
    "\n",
    "low_df = stock_zh_a_hist_df[stock_zh_a_hist_df.low == low_price].head(1)\n",
    "\n",
    "low_date_index = low_df.index[0]\n",
    "\n",
    "print(f\"周线日期 {low_date_index.strftime('%Y%m%d')} 为波段最低价，价格为 {low_price}\")\n",
    "\n"
   ]
  },
  {
   "cell_type": "code",
   "execution_count": 733,
   "id": "0fe7cdba",
   "metadata": {},
   "outputs": [
    {
     "name": "stdout",
     "output_type": "stream",
     "text": [
      "日期 20241108 为波段最高价，价格为 6.79\n",
      "近两周高价为5.89\n"
     ]
    }
   ],
   "source": [
    "high_df = stock_zh_a_hist_df[stock_zh_a_hist_df.index >= low_date_index]\n",
    "\n",
    "high_price = high_df.high.max()\n",
    "\n",
    "high_max_df = high_df[high_df.high == high_price].head(1)\n",
    "\n",
    "high_date_index = high_max_df.index[0]\n",
    "\n",
    "latest_high_price = stock_zh_a_hist_df[-2:].high.max()\n",
    "\n",
    "print(f\"日期 {high_date_index.strftime('%Y%m%d')} 为波段最高价，价格为 {high_price}\")\n",
    "print(f\"近两周高价为{latest_high_price}\")"
   ]
  },
  {
   "cell_type": "code",
   "execution_count": 734,
   "id": "87219fc1",
   "metadata": {},
   "outputs": [
    {
     "name": "stdout",
     "output_type": "stream",
     "text": [
      "止盈点价格为 5.60\n",
      "观察点1价格为 5.87\n",
      "观察点2价格为 5.29\n"
     ]
    }
   ],
   "source": [
    "gold_point = 0.618\n",
    "win_point_pric = latest_high_price * 0.95\n",
    "watch_point1_price = (high_price - low_price) * gold_point + low_price\n",
    "watch_point2_price = (high_price - low_price) * (1 - gold_point) + low_price\n",
    "print(f\"止盈点价格为 {win_point_pric:.2f}\")\n",
    "print(f\"观察点1价格为 {watch_point1_price:.2f}\")\n",
    "print(f\"观察点2价格为 {watch_point2_price:.2f}\")"
   ]
  },
  {
   "cell_type": "code",
   "execution_count": null,
   "id": "97416b56",
   "metadata": {},
   "outputs": [],
   "source": []
  }
 ],
 "metadata": {
  "kernelspec": {
   "display_name": "base",
   "language": "python",
   "name": "python3"
  },
  "language_info": {
   "codemirror_mode": {
    "name": "ipython",
    "version": 3
   },
   "file_extension": ".py",
   "mimetype": "text/x-python",
   "name": "python",
   "nbconvert_exporter": "python",
   "pygments_lexer": "ipython3",
   "version": "3.9.23"
  }
 },
 "nbformat": 4,
 "nbformat_minor": 5
}
