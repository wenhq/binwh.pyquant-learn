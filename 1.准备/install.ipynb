{
 "cells": [
  {
   "cell_type": "markdown",
   "id": "d3181383-941f-45c8-a0c7-4cb7eab9c970",
   "metadata": {},
   "source": [
    "- 安装中文语言包"
   ]
  },
  {
   "cell_type": "code",
   "execution_count": 3,
   "id": "d4fbf411-9f8f-4bff-b074-4e823f602fe5",
   "metadata": {},
   "outputs": [
    {
     "name": "stdout",
     "output_type": "stream",
     "text": [
      "Collecting jupyterlab-language-pack-zh-CN\n",
      "  Using cached jupyterlab_language_pack_zh_cn-4.3.post2-py2.py3-none-any.whl.metadata (2.8 kB)\n",
      "Downloading jupyterlab_language_pack_zh_cn-4.3.post2-py2.py3-none-any.whl (205 kB)\n",
      "Installing collected packages: jupyterlab-language-pack-zh-CN\n",
      "Successfully installed jupyterlab-language-pack-zh-CN-4.3.post2\n"
     ]
    }
   ],
   "source": [
    "!pip install jupyterlab-language-pack-zh-CN"
   ]
  }
 ],
 "metadata": {
  "kernelspec": {
   "display_name": "Python 3 (ipykernel)",
   "language": "python",
   "name": "python3"
  },
  "language_info": {
   "codemirror_mode": {
    "name": "ipython",
    "version": 3
   },
   "file_extension": ".py",
   "mimetype": "text/x-python",
   "name": "python",
   "nbconvert_exporter": "python",
   "pygments_lexer": "ipython3",
   "version": "3.12.9"
  }
 },
 "nbformat": 4,
 "nbformat_minor": 5
}
