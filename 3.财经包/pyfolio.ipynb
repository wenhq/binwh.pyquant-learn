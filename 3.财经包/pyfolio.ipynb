{
 "cells": [
  {
   "cell_type": "markdown",
   "id": "902e7fbb",
   "metadata": {},
   "source": [
    "使用backtrader和pyfolio进行高级分析"
   ]
  },
  {
   "cell_type": "code",
   "execution_count": 5,
   "id": "511060b5",
   "metadata": {},
   "outputs": [],
   "source": [
    "#! pip install pyfolio --upgrade --user -i https://pypi.tuna.tsinghua.edu.cn/simple"
   ]
  },
  {
   "cell_type": "code",
   "execution_count": null,
   "id": "0f0ac47f",
   "metadata": {},
   "outputs": [
    {
     "name": "stderr",
     "output_type": "stream",
     "text": [
      "C:\\Users\\Administrator\\AppData\\Roaming\\Python\\Python39\\site-packages\\pyfolio\\pos.py:26: UserWarning: Module \"zipline.assets\" not found; mutltipliers will not be applied to position notionals.\n",
      "  warnings.warn(\n"
     ]
    }
   ],
   "source": [
    "import backtrader as bt\n",
    "import pandas as pd\n",
    "import numpy as np\n",
    "import pyfolio as pf\n",
    "%matplotlib inline\n",
    "\n",
    "import backtrader as bt\n",
    "import pandas as pd"
   ]
  },
  {
   "cell_type": "code",
   "execution_count": 7,
   "id": "0be0d014",
   "metadata": {},
   "outputs": [],
   "source": [
    "class RocStrategy(bt.Strategy):\n",
    "    params = (\n",
    "        ('roc_period', 20), # ROC计算周期\n",
    "        ('buy_threshold', 0.08),  # 买入阈值\n",
    "        ('sell_threshold', 0.0),  # 卖出阈值\n",
    "    )\n",
    "\n",
    "    def __init__(self):\n",
    "        self.roc = bt.indicators.RateOfChange(self.data.close, period=self.params.roc_period)\n",
    "        self.order = None\n",
    "\n",
    "    def next(self):\n",
    "        # 取消前一个未完成订单\n",
    "        if self.order:\n",
    "            self.cancel(self.order)\n",
    "            self.order = None\n",
    "        # 没有持仓且ROC突破买入阈值\n",
    "        if not self.position:\n",
    "            if self.roc[0] > self.params.buy_threshold:\n",
    "                # 计算可用资金可买数量\n",
    "                size = int(self.broker.getcash()*0.98 / self.data.close[0])\n",
    "                if size > 0:\n",
    "                    self.order = self.buy(size=size)\n",
    "                    #print(f'{self.datetime.date()}: BUY {size} shares at {self.data.close[0]:.2f}')\n",
    "        # 有持仓且ROC跌破卖出阈值\n",
    "        else:\n",
    "            if self.roc[0] < self.params.sell_threshold:\n",
    "                self.order = self.sell(size=self.position.size)\n",
    "                #print(f'{self.datetime.date()}: SELL {self.position.size} shares at {self.data.close[0]:.2f}')\n"
   ]
  },
  {
   "cell_type": "code",
   "execution_count": null,
   "id": "b91538f4",
   "metadata": {},
   "outputs": [
    {
     "ename": "NameError",
     "evalue": "name 'data' is not defined",
     "output_type": "error",
     "traceback": [
      "\u001b[1;31m---------------------------------------------------------------------------\u001b[0m",
      "\u001b[1;31mNameError\u001b[0m                                 Traceback (most recent call last)",
      "Cell \u001b[1;32mIn[8], line 6\u001b[0m\n\u001b[0;32m      2\u001b[0m cerebro \u001b[38;5;241m=\u001b[39m bt\u001b[38;5;241m.\u001b[39mCerebro()\n\u001b[0;32m      3\u001b[0m cerebro\u001b[38;5;241m.\u001b[39maddstrategy(RocStrategy)\n\u001b[1;32m----> 6\u001b[0m cerebro\u001b[38;5;241m.\u001b[39madddata(\u001b[43mdata\u001b[49m)\n\u001b[0;32m      7\u001b[0m cerebro\u001b[38;5;241m.\u001b[39mbroker\u001b[38;5;241m.\u001b[39msetcash(\u001b[38;5;241m100000.0\u001b[39m)  \u001b[38;5;66;03m# 设置初始资金\u001b[39;00m\n\u001b[0;32m      8\u001b[0m cerebro\u001b[38;5;241m.\u001b[39mbroker\u001b[38;5;241m.\u001b[39msetcommission(commission\u001b[38;5;241m=\u001b[39m\u001b[38;5;241m0.001\u001b[39m)  \u001b[38;5;66;03m# 0.1%佣金\u001b[39;00m\n",
      "\u001b[1;31mNameError\u001b[0m: name 'data' is not defined"
     ]
    }
   ],
   "source": [
    "# 设置回测\n",
    "cerebro = bt.Cerebro()\n",
    "cerebro.addstrategy(RocStrategy)\n",
    "\n",
    "cerebro.adddata(data)\n",
    "cerebro.broker.setcash(100000.0)  # 设置初始资金\n",
    "cerebro.broker.setcommission(commission=0.001)  # 0.1%佣金\n",
    "\n",
    "# 添加分析器\n",
    "cerebro.addanalyzer(bt.analyzers.SharpeRatio, _name='sharpe')\n",
    "cerebro.addanalyzer(bt.analyzers.DrawDown, _name='drawdown')\n",
    "cerebro.addanalyzer(bt.analyzers.Returns, _name='returns')\n",
    "# 添加PyFolio分析器\n",
    "cerebro.addanalyzer(bt.analyzers.PyFolio, _name='pyfolio')\n",
    "\n",
    "print('回测开始...')\n",
    "results = cerebro.run()\n",
    "print('回测完成!')\n",
    "\n",
    "# 获取策略实例\n",
    "strat = results[0]\n",
    "\n",
    "# 提取PyFolio分析结果\n",
    "pyfoliozer = strat.analyzers.getbyname('pyfolio')\n",
    "returns, positions, transactions, gross_lev = pyfoliozer.get_pf_items()\n",
    "\n",
    "# 打印分析结果\n",
    "print('\\n===== 策略分析 =====')\n",
    "print(f\"夏普比率: {strat.analyzers.sharpe.get_analysis()['sharperatio']:.3f}\")\n",
    "print(f\"最大回撤: {strat.analyzers.drawdown.get_analysis()['max']['drawdown']:.2f}%\")\n",
    "print(f\"年化收益率: {strat.analyzers.returns.get_analysis()['rnorm100']:.2f}%\")"
   ]
  },
  {
   "cell_type": "markdown",
   "id": "3ac36ac8",
   "metadata": {},
   "source": [
    "另一段代码："
   ]
  },
  {
   "cell_type": "code",
   "execution_count": 9,
   "id": "00831f99",
   "metadata": {},
   "outputs": [
    {
     "ename": "NameError",
     "evalue": "name 'data' is not defined",
     "output_type": "error",
     "traceback": [
      "\u001b[1;31m---------------------------------------------------------------------------\u001b[0m",
      "\u001b[1;31mNameError\u001b[0m                                 Traceback (most recent call last)",
      "Cell \u001b[1;32mIn[9], line 6\u001b[0m\n\u001b[0;32m      1\u001b[0m \u001b[38;5;66;03m# 定义优化参数范围\u001b[39;00m\n\u001b[0;32m      2\u001b[0m \u001b[38;5;66;03m# ROC周期: 10-30天，步长为5\u001b[39;00m\n\u001b[0;32m      3\u001b[0m \u001b[38;5;66;03m# 买入阈值: 0.05-0.10，步长为0.01\u001b[39;00m\n\u001b[0;32m      4\u001b[0m \u001b[38;5;66;03m# 卖出阈值: -0.02-0.02，步长为0.01\u001b[39;00m\n\u001b[0;32m      5\u001b[0m cerebro \u001b[38;5;241m=\u001b[39m bt\u001b[38;5;241m.\u001b[39mCerebro(optreturn\u001b[38;5;241m=\u001b[39m\u001b[38;5;28;01mFalse\u001b[39;00m)\n\u001b[1;32m----> 6\u001b[0m cerebro\u001b[38;5;241m.\u001b[39madddata(\u001b[43mdata\u001b[49m)\n\u001b[0;32m      7\u001b[0m cerebro\u001b[38;5;241m.\u001b[39mbroker\u001b[38;5;241m.\u001b[39msetcash(\u001b[38;5;241m100000.0\u001b[39m)  \u001b[38;5;66;03m# 设置初始资金\u001b[39;00m\n\u001b[0;32m      8\u001b[0m cerebro\u001b[38;5;241m.\u001b[39mbroker\u001b[38;5;241m.\u001b[39msetcommission(commission\u001b[38;5;241m=\u001b[39m\u001b[38;5;241m0.001\u001b[39m)  \u001b[38;5;66;03m# 0.1%佣金\u001b[39;00m\n",
      "\u001b[1;31mNameError\u001b[0m: name 'data' is not defined"
     ]
    }
   ],
   "source": [
    "# 定义优化参数范围\n",
    "# ROC周期: 10-30天，步长为5\n",
    "# 买入阈值: 0.05-0.10，步长为0.01\n",
    "# 卖出阈值: -0.02-0.02，步长为0.01\n",
    "cerebro = bt.Cerebro(optreturn=False)\n",
    "cerebro.adddata(data)\n",
    "cerebro.broker.setcash(100000.0)  # 设置初始资金\n",
    "cerebro.broker.setcommission(commission=0.001)  # 0.1%佣金\n",
    "\n",
    "cerebro.addanalyzer(bt.analyzers.PyFolio, _name='pyfolio')\n",
    "strats = cerebro.optstrategy(\n",
    "    RocStrategy,\n",
    "    roc_period=range(10, 31, 5),\n",
    "    buy_threshold=[x/100.0 for x in range(5, 11)],\n",
    "    sell_threshold=[x/100.0 for x in range(-2, 3)]\n",
    ")\n",
    "\n",
    "# 存储所有优化结果\n",
    "optimization_results = []\n",
    "\n",
    "# 优化完成回调函数\n",
    "def on_opt_end(strat):\n",
    "    print(strat,strat.optimization_results)\n",
    "    optimization_results.append(strat.optimization_results)\n",
    "# 设置优化回调\n",
    "cerebro.optcallback = on_opt_end\n",
    "\n",
    "print(\"开始参数优化...\")\n",
    "cerebro.run(maxcpus=1)  # 设置maxcpus=1避免多进程问题\n",
    "print(\"参数优化完成!\")"
   ]
  },
  {
   "cell_type": "code",
   "execution_count": null,
   "id": "04c66495",
   "metadata": {},
   "outputs": [],
   "source": [
    "# 画图的代码\n",
    "(returns + 1).cumprod().plot()"
   ]
  }
 ],
 "metadata": {
  "kernelspec": {
   "display_name": "base",
   "language": "python",
   "name": "python3"
  },
  "language_info": {
   "codemirror_mode": {
    "name": "ipython",
    "version": 3
   },
   "file_extension": ".py",
   "mimetype": "text/x-python",
   "name": "python",
   "nbconvert_exporter": "python",
   "pygments_lexer": "ipython3",
   "version": "3.9.23"
  }
 },
 "nbformat": 4,
 "nbformat_minor": 5
}
