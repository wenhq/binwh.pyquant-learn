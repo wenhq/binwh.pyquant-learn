{
 "cells": [
  {
   "cell_type": "markdown",
   "id": "4461eca3",
   "metadata": {},
   "source": [
    "> 需要安装 bt 包\n",
    "\n",
    "```bash\n",
    "! pip install backtrader --upgrade --user -i https://pypi.tuna.tsinghua.edu.cn/simple\n",
    "```"
   ]
  },
  {
   "cell_type": "code",
   "execution_count": 31,
   "id": "7fe3ff31",
   "metadata": {},
   "outputs": [],
   "source": [
    "#!pip install backtrader[plotting]  --upgrade --user -i https://pypi.tuna.tsinghua.edu.cn/simple"
   ]
  },
  {
   "cell_type": "markdown",
   "id": "73760ffa",
   "metadata": {},
   "source": [
    "> FileNotFoundError: [Errno 2] No such file or directory: 'AAPL'"
   ]
  },
  {
   "cell_type": "code",
   "execution_count": 12,
   "id": "39374b66",
   "metadata": {},
   "outputs": [],
   "source": [
    "#!pip install yfinance  --upgrade --user -i https://pypi.tuna.tsinghua.edu.cn/simple"
   ]
  },
  {
   "cell_type": "code",
   "execution_count": 9,
   "id": "0abffdb6",
   "metadata": {},
   "outputs": [],
   "source": [
    "import datetime\n",
    "\n",
    "import numpy as np\n",
    "import backtrader as bt"
   ]
  },
  {
   "cell_type": "markdown",
   "id": "7743ab29",
   "metadata": {},
   "source": [
    "# 子策略：行业轮动策略"
   ]
  },
  {
   "cell_type": "code",
   "execution_count": 4,
   "id": "8981b0f4",
   "metadata": {},
   "outputs": [],
   "source": [
    "class SectorRotation(bt.Strategy):\n",
    "    params = (('momentum_period', 126),)  # 6个月动量\n",
    "\n",
    "    def __init__(self):\n",
    "        # 计算每个行业的动量\n",
    "        self.ranks = {d: bt.indicators.Momentum(d.close, period=self.p.momentum_period) \n",
    "                      for d in self.datas}\n",
    "\n",
    "    def next(self):\n",
    "        # 仅由父策略调用，不自主交易\n",
    "        pass\n",
    "\n",
    "    def get_sector_weights(self):\n",
    "        \"\"\"返回行业权重字典\"\"\"\n",
    "        # 获取动量排名\n",
    "        momentum_values = [self.ranks[d][0] for d in self.datas]\n",
    "        ranked_data = sorted(zip(self.datas, momentum_values), \n",
    "                            key=lambda x: x[1], reverse=True)\n",
    "\n",
    "        # 等权重配置前3行业\n",
    "        top_sectors = [d for d, _ in ranked_data[:3]]\n",
    "        return {d: 1.0/len(top_sectors) for d in top_sectors}"
   ]
  },
  {
   "cell_type": "markdown",
   "id": "c14f9f2f",
   "metadata": {},
   "source": [
    "# 父策略：风险平价策略"
   ]
  },
  {
   "cell_type": "code",
   "execution_count": 5,
   "id": "c67cfa68",
   "metadata": {},
   "outputs": [],
   "source": [
    "class RiskParity(bt.Strategy):\n",
    "    params = (\n",
    "        ('rebalance_days', 21),  # 每月调仓\n",
    "        ('target_risk', 0.1),    # 目标波动率\n",
    "    )\n",
    "\n",
    "    def __init__(self):\n",
    "        self.counter = 0\n",
    "        # 创建子策略实例\n",
    "        self.child_strategy = SectorRotation()\n",
    "\n",
    "        # 风险平价需要的数据：大类资产\n",
    "        self.assets = {\n",
    "            'stocks': self.data0,\n",
    "            'bonds': self.data1,\n",
    "            'commodities': self.data2\n",
    "        }\n",
    "        self.asset_vol = {}  # 存储波动率\n",
    "\n",
    "    def next(self):\n",
    "        self.counter += 1\n",
    "\n",
    "        # 每月执行一次调仓\n",
    "        if self.counter % self.p.rebalance_days == 0:\n",
    "            # 1. 计算大类资产波动率 (简化版)\n",
    "            for name, data in self.assets.items():\n",
    "                returns = np.diff(np.log(data.close.get(size=252)))\n",
    "                self.asset_vol[name] = np.std(returns) * np.sqrt(252)\n",
    "\n",
    "            # 2. 计算风险平价权重\n",
    "            inv_vol = {name: 1/vol for name, vol in self.asset_vol.items()}\n",
    "            total_inv_vol = sum(inv_vol.values())\n",
    "            risk_weights = {name: iv/total_inv_vol for name, iv in inv_vol.items()}\n",
    "\n",
    "            # 3. 获取子策略行业权重\n",
    "            sector_weights = self.child_strategy.get_sector_weights()\n",
    "\n",
    "            # 4. 计算最终权重\n",
    "            stock_weight = risk_weights['stocks']\n",
    "            for sector, weight in sector_weights.items():\n",
    "                target_percent = stock_weight * weight\n",
    "                current_percent = self.broker.getvalue([sector]) / self.broker.getvalue()\n",
    "                self.order_target_percent(sector, target_percent)\n",
    "\n",
    "            # 5. 配置其他大类资产\n",
    "            self.order_target_percent(self.assets['bonds'], risk_weights['bonds'])\n",
    "            self.order_target_percent(self.assets['commodities'], risk_weights['commodities'])"
   ]
  },
  {
   "cell_type": "markdown",
   "id": "0bd9a430",
   "metadata": {},
   "source": [
    "# 执行回测"
   ]
  },
  {
   "cell_type": "code",
   "execution_count": null,
   "id": "3dd2c27c",
   "metadata": {},
   "outputs": [
    {
     "ename": "FileNotFoundError",
     "evalue": "[Errno 2] No such file or directory: 'SPY'",
     "output_type": "error",
     "traceback": [
      "\u001b[1;31m---------------------------------------------------------------------------\u001b[0m",
      "\u001b[1;31mFileNotFoundError\u001b[0m                         Traceback (most recent call last)",
      "Cell \u001b[1;32mIn[27], line 20\u001b[0m\n\u001b[0;32m     18\u001b[0m cerebro\u001b[38;5;241m.\u001b[39maddstrategy(RiskParity)\n\u001b[0;32m     19\u001b[0m cerebro\u001b[38;5;241m.\u001b[39mbroker\u001b[38;5;241m.\u001b[39mset_cash(\u001b[38;5;241m100000\u001b[39m)\n\u001b[1;32m---> 20\u001b[0m results \u001b[38;5;241m=\u001b[39m \u001b[43mcerebro\u001b[49m\u001b[38;5;241;43m.\u001b[39;49m\u001b[43mrun\u001b[49m\u001b[43m(\u001b[49m\u001b[43m)\u001b[49m\n",
      "File \u001b[1;32m~\\AppData\\Roaming\\Python\\Python39\\site-packages\\backtrader\\cerebro.py:1132\u001b[0m, in \u001b[0;36mCerebro.run\u001b[1;34m(self, **kwargs)\u001b[0m\n\u001b[0;32m   1128\u001b[0m \u001b[38;5;28;01mif\u001b[39;00m \u001b[38;5;129;01mnot\u001b[39;00m \u001b[38;5;28mself\u001b[39m\u001b[38;5;241m.\u001b[39m_dooptimize \u001b[38;5;129;01mor\u001b[39;00m \u001b[38;5;28mself\u001b[39m\u001b[38;5;241m.\u001b[39mp\u001b[38;5;241m.\u001b[39mmaxcpus \u001b[38;5;241m==\u001b[39m \u001b[38;5;241m1\u001b[39m:\n\u001b[0;32m   1129\u001b[0m     \u001b[38;5;66;03m# If no optimmization is wished ... or 1 core is to be used\u001b[39;00m\n\u001b[0;32m   1130\u001b[0m     \u001b[38;5;66;03m# let's skip process \"spawning\"\u001b[39;00m\n\u001b[0;32m   1131\u001b[0m     \u001b[38;5;28;01mfor\u001b[39;00m iterstrat \u001b[38;5;129;01min\u001b[39;00m iterstrats:\n\u001b[1;32m-> 1132\u001b[0m         runstrat \u001b[38;5;241m=\u001b[39m \u001b[38;5;28;43mself\u001b[39;49m\u001b[38;5;241;43m.\u001b[39;49m\u001b[43mrunstrategies\u001b[49m\u001b[43m(\u001b[49m\u001b[43miterstrat\u001b[49m\u001b[43m)\u001b[49m\n\u001b[0;32m   1133\u001b[0m         \u001b[38;5;28mself\u001b[39m\u001b[38;5;241m.\u001b[39mrunstrats\u001b[38;5;241m.\u001b[39mappend(runstrat)\n\u001b[0;32m   1134\u001b[0m         \u001b[38;5;28;01mif\u001b[39;00m \u001b[38;5;28mself\u001b[39m\u001b[38;5;241m.\u001b[39m_dooptimize:\n",
      "File \u001b[1;32m~\\AppData\\Roaming\\Python\\Python39\\site-packages\\backtrader\\cerebro.py:1215\u001b[0m, in \u001b[0;36mCerebro.runstrategies\u001b[1;34m(self, iterstrat, predata)\u001b[0m\n\u001b[0;32m   1213\u001b[0m \u001b[38;5;28;01mif\u001b[39;00m \u001b[38;5;28mself\u001b[39m\u001b[38;5;241m.\u001b[39m_exactbars \u001b[38;5;241m<\u001b[39m \u001b[38;5;241m1\u001b[39m:  \u001b[38;5;66;03m# datas can be full length\u001b[39;00m\n\u001b[0;32m   1214\u001b[0m     data\u001b[38;5;241m.\u001b[39mextend(size\u001b[38;5;241m=\u001b[39m\u001b[38;5;28mself\u001b[39m\u001b[38;5;241m.\u001b[39mparams\u001b[38;5;241m.\u001b[39mlookahead)\n\u001b[1;32m-> 1215\u001b[0m \u001b[43mdata\u001b[49m\u001b[38;5;241;43m.\u001b[39;49m\u001b[43m_start\u001b[49m\u001b[43m(\u001b[49m\u001b[43m)\u001b[49m\n\u001b[0;32m   1216\u001b[0m \u001b[38;5;28;01mif\u001b[39;00m \u001b[38;5;28mself\u001b[39m\u001b[38;5;241m.\u001b[39m_dopreload:\n\u001b[0;32m   1217\u001b[0m     data\u001b[38;5;241m.\u001b[39mpreload()\n",
      "File \u001b[1;32m~\\AppData\\Roaming\\Python\\Python39\\site-packages\\backtrader\\feed.py:203\u001b[0m, in \u001b[0;36mAbstractDataBase._start\u001b[1;34m(self)\u001b[0m\n\u001b[0;32m    202\u001b[0m \u001b[38;5;28;01mdef\u001b[39;00m\u001b[38;5;250m \u001b[39m\u001b[38;5;21m_start\u001b[39m(\u001b[38;5;28mself\u001b[39m):\n\u001b[1;32m--> 203\u001b[0m     \u001b[38;5;28;43mself\u001b[39;49m\u001b[38;5;241;43m.\u001b[39;49m\u001b[43mstart\u001b[49m\u001b[43m(\u001b[49m\u001b[43m)\u001b[49m\n\u001b[0;32m    205\u001b[0m     \u001b[38;5;28;01mif\u001b[39;00m \u001b[38;5;129;01mnot\u001b[39;00m \u001b[38;5;28mself\u001b[39m\u001b[38;5;241m.\u001b[39m_started:\n\u001b[0;32m    206\u001b[0m         \u001b[38;5;28mself\u001b[39m\u001b[38;5;241m.\u001b[39m_start_finish()\n",
      "File \u001b[1;32m~\\AppData\\Roaming\\Python\\Python39\\site-packages\\backtrader\\feeds\\yahoo.py:356\u001b[0m, in \u001b[0;36mYahooFinanceData.start\u001b[1;34m(self)\u001b[0m\n\u001b[0;32m    353\u001b[0m \u001b[38;5;28mself\u001b[39m\u001b[38;5;241m.\u001b[39mstart_v7()\n\u001b[0;32m    355\u001b[0m \u001b[38;5;66;03m# Prepared a \"path\" file -  CSV Parser can take over\u001b[39;00m\n\u001b[1;32m--> 356\u001b[0m \u001b[38;5;28;43msuper\u001b[39;49m\u001b[43m(\u001b[49m\u001b[43mYahooFinanceData\u001b[49m\u001b[43m,\u001b[49m\u001b[43m \u001b[49m\u001b[38;5;28;43mself\u001b[39;49m\u001b[43m)\u001b[49m\u001b[38;5;241;43m.\u001b[39;49m\u001b[43mstart\u001b[49m\u001b[43m(\u001b[49m\u001b[43m)\u001b[49m\n",
      "File \u001b[1;32m~\\AppData\\Roaming\\Python\\Python39\\site-packages\\backtrader\\feeds\\yahoo.py:94\u001b[0m, in \u001b[0;36mYahooFinanceCSVData.start\u001b[1;34m(self)\u001b[0m\n\u001b[0;32m     93\u001b[0m \u001b[38;5;28;01mdef\u001b[39;00m\u001b[38;5;250m \u001b[39m\u001b[38;5;21mstart\u001b[39m(\u001b[38;5;28mself\u001b[39m):\n\u001b[1;32m---> 94\u001b[0m     \u001b[38;5;28;43msuper\u001b[39;49m\u001b[43m(\u001b[49m\u001b[43mYahooFinanceCSVData\u001b[49m\u001b[43m,\u001b[49m\u001b[43m \u001b[49m\u001b[38;5;28;43mself\u001b[39;49m\u001b[43m)\u001b[49m\u001b[38;5;241;43m.\u001b[39;49m\u001b[43mstart\u001b[49m\u001b[43m(\u001b[49m\u001b[43m)\u001b[49m\n\u001b[0;32m     96\u001b[0m     \u001b[38;5;28;01mif\u001b[39;00m \u001b[38;5;129;01mnot\u001b[39;00m \u001b[38;5;28mself\u001b[39m\u001b[38;5;241m.\u001b[39mparams\u001b[38;5;241m.\u001b[39mreverse:\n\u001b[0;32m     97\u001b[0m         \u001b[38;5;28;01mreturn\u001b[39;00m\n",
      "File \u001b[1;32m~\\AppData\\Roaming\\Python\\Python39\\site-packages\\backtrader\\feed.py:675\u001b[0m, in \u001b[0;36mCSVDataBase.start\u001b[1;34m(self)\u001b[0m\n\u001b[0;32m    672\u001b[0m         \u001b[38;5;28mself\u001b[39m\u001b[38;5;241m.\u001b[39mf \u001b[38;5;241m=\u001b[39m \u001b[38;5;28mself\u001b[39m\u001b[38;5;241m.\u001b[39mp\u001b[38;5;241m.\u001b[39mdataname\n\u001b[0;32m    673\u001b[0m     \u001b[38;5;28;01melse\u001b[39;00m:\n\u001b[0;32m    674\u001b[0m         \u001b[38;5;66;03m# Let an exception propagate to let the caller know\u001b[39;00m\n\u001b[1;32m--> 675\u001b[0m         \u001b[38;5;28mself\u001b[39m\u001b[38;5;241m.\u001b[39mf \u001b[38;5;241m=\u001b[39m \u001b[43mio\u001b[49m\u001b[38;5;241;43m.\u001b[39;49m\u001b[43mopen\u001b[49m\u001b[43m(\u001b[49m\u001b[38;5;28;43mself\u001b[39;49m\u001b[38;5;241;43m.\u001b[39;49m\u001b[43mp\u001b[49m\u001b[38;5;241;43m.\u001b[39;49m\u001b[43mdataname\u001b[49m\u001b[43m,\u001b[49m\u001b[43m \u001b[49m\u001b[38;5;124;43m'\u001b[39;49m\u001b[38;5;124;43mr\u001b[39;49m\u001b[38;5;124;43m'\u001b[39;49m\u001b[43m)\u001b[49m\n\u001b[0;32m    677\u001b[0m \u001b[38;5;28;01mif\u001b[39;00m \u001b[38;5;28mself\u001b[39m\u001b[38;5;241m.\u001b[39mp\u001b[38;5;241m.\u001b[39mheaders:\n\u001b[0;32m    678\u001b[0m     \u001b[38;5;28mself\u001b[39m\u001b[38;5;241m.\u001b[39mf\u001b[38;5;241m.\u001b[39mreadline()  \u001b[38;5;66;03m# skip the headers\u001b[39;00m\n",
      "\u001b[1;31mFileNotFoundError\u001b[0m: [Errno 2] No such file or directory: 'SPY'"
     ]
    }
   ],
   "source": [
    "cerebro = bt.Cerebro()\n",
    "\n",
    "# 数据范围\n",
    "start = datetime.datetime(2024,1,1)\n",
    "end = datetime.datetime(2025,1,1)\n",
    "\n",
    "# 添加数据 (示例)\n",
    "# 大类资产\n",
    "cerebro.adddata(bt.feeds.YahooFinanceData(dataname='SPY', fromdate=start, todate=end))  # 股票\n",
    "#cerebro.adddata(bt.feeds.YahooFinanceData(dataname='TLT', fromdate=start, todate=end))  # 债券\n",
    "#cerebro.adddata(bt.feeds.YahooFinanceData(dataname='GSG', fromdate=start, todate=end))  # 商品\n",
    "\n",
    "# 行业ETF数据\n",
    "#for ticker in ['XLB', 'XLC', 'XLE', 'XLF', 'XLI', 'XLK', 'XLP', 'XLRE', 'XLU', 'XLV', 'XLY']:\n",
    "#    data = bt.feeds.YahooFinanceData(dataname=ticker, fromdate=start, todate=end)\n",
    "#    cerebro.adddata(data)\n",
    "\n",
    "cerebro.addstrategy(RiskParity)\n",
    "cerebro.broker.set_cash(100000)\n",
    "results = cerebro.run()"
   ]
  },
  {
   "cell_type": "code",
   "execution_count": 19,
   "id": "7ecbfac7",
   "metadata": {},
   "outputs": [
    {
     "name": "stdout",
     "output_type": "stream",
     "text": [
      "0.2.65\n"
     ]
    },
    {
     "name": "stderr",
     "output_type": "stream",
     "text": [
      "[*********************100%***********************]  1 of 1 completed\n",
      "\n",
      "1 Failed download:\n",
      "['SPY']: YFRateLimitError('Too Many Requests. Rate limited. Try after a while.')\n"
     ]
    },
    {
     "data": {
      "text/html": [
       "<div>\n",
       "<style scoped>\n",
       "    .dataframe tbody tr th:only-of-type {\n",
       "        vertical-align: middle;\n",
       "    }\n",
       "\n",
       "    .dataframe tbody tr th {\n",
       "        vertical-align: top;\n",
       "    }\n",
       "\n",
       "    .dataframe thead tr th {\n",
       "        text-align: left;\n",
       "    }\n",
       "\n",
       "    .dataframe thead tr:last-of-type th {\n",
       "        text-align: right;\n",
       "    }\n",
       "</style>\n",
       "<table border=\"1\" class=\"dataframe\">\n",
       "  <thead>\n",
       "    <tr>\n",
       "      <th>Price</th>\n",
       "      <th>Adj Close</th>\n",
       "      <th>Close</th>\n",
       "      <th>High</th>\n",
       "      <th>Low</th>\n",
       "      <th>Open</th>\n",
       "      <th>Volume</th>\n",
       "    </tr>\n",
       "    <tr>\n",
       "      <th>Ticker</th>\n",
       "      <th>SPY</th>\n",
       "      <th>SPY</th>\n",
       "      <th>SPY</th>\n",
       "      <th>SPY</th>\n",
       "      <th>SPY</th>\n",
       "      <th>SPY</th>\n",
       "    </tr>\n",
       "    <tr>\n",
       "      <th>Date</th>\n",
       "      <th></th>\n",
       "      <th></th>\n",
       "      <th></th>\n",
       "      <th></th>\n",
       "      <th></th>\n",
       "      <th></th>\n",
       "    </tr>\n",
       "  </thead>\n",
       "  <tbody>\n",
       "  </tbody>\n",
       "</table>\n",
       "</div>"
      ],
      "text/plain": [
       "Empty DataFrame\n",
       "Columns: [(Adj Close, SPY), (Close, SPY), (High, SPY), (Low, SPY), (Open, SPY), (Volume, SPY)]\n",
       "Index: []"
      ]
     },
     "execution_count": 19,
     "metadata": {},
     "output_type": "execute_result"
    }
   ],
   "source": [
    "from datetime import datetime\n",
    "import backtrader as bt\n",
    "\n",
    "import yfinance as yf\n",
    "print(yf.__version__)\n",
    "\n",
    "class SmaCross(bt.SignalStrategy):\n",
    "    def __init__(self):\n",
    "        sma1, sma2 = bt.ind.SMA(period=10), bt.ind.SMA(period=30)\n",
    "        crossover = bt.ind.CrossOver(sma1, sma2)\n",
    "        self.signal_add(bt.SIGNAL_LONG, crossover)\n",
    "\n",
    "cerebro = bt.Cerebro()\n",
    "cerebro.addstrategy(SmaCross)\n",
    "\n",
    "#data0 = bt.feeds.YahooFinanceData(dataname='MSFT', fromdate=datetime(2011, 1, 1),\n",
    "#                                  todate=datetime(2012, 12, 31))\n",
    "SPY=yf.download('SPY', '2025-07-06', '2025-07-24', auto_adjust=True)\n",
    "\n",
    "SPY\n",
    "#data0 = bt.feeds.PandasData(dataname=SPY)\n",
    "#cerebro.adddata(data0)\n",
    "\n",
    "#cerebro.run()\n",
    "#cerebro.plot()"
   ]
  },
  {
   "cell_type": "code",
   "execution_count": null,
   "id": "8bc9ca75",
   "metadata": {},
   "outputs": [],
   "source": []
  }
 ],
 "metadata": {
  "kernelspec": {
   "display_name": "base",
   "language": "python",
   "name": "python3"
  },
  "language_info": {
   "codemirror_mode": {
    "name": "ipython",
    "version": 3
   },
   "file_extension": ".py",
   "mimetype": "text/x-python",
   "name": "python",
   "nbconvert_exporter": "python",
   "pygments_lexer": "ipython3",
   "version": "3.9.23"
  }
 },
 "nbformat": 4,
 "nbformat_minor": 5
}
